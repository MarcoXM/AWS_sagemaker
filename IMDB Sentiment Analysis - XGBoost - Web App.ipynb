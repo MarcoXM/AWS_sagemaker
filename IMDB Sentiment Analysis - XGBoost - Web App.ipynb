{
 "cells": [
  {
   "cell_type": "markdown",
   "metadata": {},
   "source": [
    "# Sentiment Analysis Web App\n",
    "\n",
    "_Deep Learning Nanodegree Program | Deployment_\n",
    "\n",
    "---\n",
    "\n",
    "In this notebook we will use Amazon's SageMaker service to construct a random tree model to predict the sentiment of a movie review. In addition, we will deploy this model to an endpoint and construct a very simple web app which will interact with our model's deployed endpoint.\n",
    "\n",
    "## General Outline\n",
    "\n",
    "Typically, when using a notebook instance with SageMaker, you will proceed through the following steps. Of course, not every step will need to be done with each project. Also, there is quite a lot of room for variation in many of the steps, as you will see throughout these lessons.\n",
    "\n",
    "1. Download or otherwise retrieve the data.\n",
    "2. Process / Prepare the data.\n",
    "3. Upload the processed data to S3.\n",
    "4. Train a chosen model.\n",
    "5. Test the trained model (typically using a batch transform job).\n",
    "6. Deploy the trained model.\n",
    "7. Use the deployed model.\n",
    "\n",
    "In this notebook we will progress through each of the steps above. We will also see that the final step, using the deployed model, can be quite challenging."
   ]
  },
  {
   "cell_type": "markdown",
   "metadata": {},
   "source": [
    "## Step 1: Downloading the data\n",
    "\n",
    "The dataset we are going to use is very popular among researchers in Natural Language Processing, usually referred to as the [IMDb dataset](http://ai.stanford.edu/~amaas/data/sentiment/). It consists of movie reviews from the website [imdb.com](http://www.imdb.com/), each labeled as either '**pos**itive', if the reviewer enjoyed the film, or '**neg**ative' otherwise.\n",
    "\n",
    "> Maas, Andrew L., et al. [Learning Word Vectors for Sentiment Analysis](http://ai.stanford.edu/~amaas/data/sentiment/). In _Proceedings of the 49th Annual Meeting of the Association for Computational Linguistics: Human Language Technologies_. Association for Computational Linguistics, 2011.\n",
    "\n",
    "We begin by using some Jupyter Notebook magic to download and extract the dataset."
   ]
  },
  {
   "cell_type": "code",
   "execution_count": 1,
   "metadata": {},
   "outputs": [
    {
     "name": "stdout",
     "output_type": "stream",
     "text": [
      "--2019-08-02 18:10:42--  http://ai.stanford.edu/~amaas/data/sentiment/aclImdb_v1.tar.gz\n",
      "Resolving ai.stanford.edu (ai.stanford.edu)... 171.64.68.10\n",
      "Connecting to ai.stanford.edu (ai.stanford.edu)|171.64.68.10|:80... connected.\n",
      "HTTP request sent, awaiting response... 200 OK\n",
      "Length: 84125825 (80M) [application/x-gzip]\n",
      "Saving to: ‘../data/aclImdb_v1.tar.gz’\n",
      "\n",
      "../data/aclImdb_v1. 100%[===================>]  80.23M  24.1MB/s    in 4.7s    \n",
      "\n",
      "2019-08-02 18:10:46 (17.3 MB/s) - ‘../data/aclImdb_v1.tar.gz’ saved [84125825/84125825]\n",
      "\n"
     ]
    }
   ],
   "source": [
    "%mkdir ../data\n",
    "!wget -O ../data/aclImdb_v1.tar.gz http://ai.stanford.edu/~amaas/data/sentiment/aclImdb_v1.tar.gz\n",
    "!tar -zxf ../data/aclImdb_v1.tar.gz -C ../data"
   ]
  },
  {
   "cell_type": "markdown",
   "metadata": {},
   "source": [
    "## Step 2: Preparing and Processing the data\n",
    "\n",
    "The data we have downloaded is split into various files, each of which contains a single review. It will be much easier going forward if we combine these individual files into two large files, one for training and one for testing."
   ]
  },
  {
   "cell_type": "code",
   "execution_count": 2,
   "metadata": {},
   "outputs": [],
   "source": [
    "import os\n",
    "import glob\n",
    "\n",
    "def read_imdb_data(data_dir='../data/aclImdb'): # 这里是读取对应的data 还有label\n",
    "    data = {}\n",
    "    labels = {}\n",
    "    \n",
    "    for data_type in ['train', 'test']:\n",
    "        data[data_type] = {}\n",
    "        labels[data_type] = {}\n",
    "        \n",
    "        for sentiment in ['pos', 'neg']:\n",
    "            data[data_type][sentiment] = []\n",
    "            labels[data_type][sentiment] = []\n",
    "            \n",
    "            path = os.path.join(data_dir, data_type, sentiment, '*.txt')\n",
    "            files = glob.glob(path)\n",
    "            \n",
    "            for f in files:\n",
    "                with open(f) as review:\n",
    "                    data[data_type][sentiment].append(review.read())\n",
    "                    # Here we represent a positive review by '1' and a negative review by '0'\n",
    "                    labels[data_type][sentiment].append(1 if sentiment == 'pos' else 0)\n",
    "                    \n",
    "            assert len(data[data_type][sentiment]) == len(labels[data_type][sentiment]), \\\n",
    "                    \"{}/{} data size does not match labels size\".format(data_type, sentiment)\n",
    "                \n",
    "    return data, labels"
   ]
  },
  {
   "cell_type": "code",
   "execution_count": 3,
   "metadata": {},
   "outputs": [
    {
     "name": "stdout",
     "output_type": "stream",
     "text": [
      "IMDB reviews: train = 12500 pos / 12500 neg, test = 12500 pos / 12500 neg\n"
     ]
    }
   ],
   "source": [
    "data, labels = read_imdb_data() # 产生了对应的data了\n",
    "print(\"IMDB reviews: train = {} pos / {} neg, test = {} pos / {} neg\".format(\n",
    "            len(data['train']['pos']), len(data['train']['neg']),\n",
    "            len(data['test']['pos']), len(data['test']['neg'])))"
   ]
  },
  {
   "cell_type": "code",
   "execution_count": 4,
   "metadata": {},
   "outputs": [],
   "source": [
    "from sklearn.utils import shuffle\n",
    "\n",
    "def prepare_imdb_data(data, labels):\n",
    "    \"\"\"Prepare training and test sets from IMDb movie reviews.\"\"\"\n",
    "    \n",
    "    #Combine positive and negative reviews and labels\n",
    "    data_train = data['train']['pos'] + data['train']['neg']\n",
    "    data_test = data['test']['pos'] + data['test']['neg']\n",
    "    labels_train = labels['train']['pos'] + labels['train']['neg']\n",
    "    labels_test = labels['test']['pos'] + labels['test']['neg']\n",
    "    \n",
    "    #Shuffle reviews and corresponding labels within training and test sets\n",
    "    data_train, labels_train = shuffle(data_train, labels_train)\n",
    "    data_test, labels_test = shuffle(data_test, labels_test)\n",
    "    \n",
    "    # Return a unified training data, test data, training labels, test labets\n",
    "    return data_train, data_test, labels_train, labels_test"
   ]
  },
  {
   "cell_type": "code",
   "execution_count": 5,
   "metadata": {},
   "outputs": [
    {
     "name": "stdout",
     "output_type": "stream",
     "text": [
      "IMDb reviews (combined): train = 25000, test = 25000\n"
     ]
    }
   ],
   "source": [
    "train_X, test_X, train_y, test_y = prepare_imdb_data(data, labels)\n",
    "print(\"IMDb reviews (combined): train = {}, test = {}\".format(len(train_X), len(test_X)))"
   ]
  },
  {
   "cell_type": "code",
   "execution_count": 6,
   "metadata": {},
   "outputs": [
    {
     "data": {
      "text/plain": [
       "\"When HEY ARNOLD! first came on the air in 1996, I watched it. It was one of my favorite shows. Then the same episodes started getting shown over and over again so I got tired of waiting for new episodes and stopped watching it. I was sort of surprised when I heard about HEY ARNOLD! THE MOVIE since it doesn't seem to be nearly as popular as some of the other Nickelodeon cartoons like SPONGEBOB SQUAREPANTS. Nevertheless, having nothing better to do, I went to see the movie anyway. Going into the theater, I wasn't expecting much. I was just expecting it to be a dumb movie version of a childrens' cartoon like the RECESS movie was. I guess I got what I expected. It was a dumb kiddie movie and nothing more. There were some good parts here and there, but for the most part, the movie was a stinker. Simply for kids.\""
      ]
     },
     "execution_count": 6,
     "metadata": {},
     "output_type": "execute_result"
    }
   ],
   "source": [
    "train_X[100] # 这个是是指我们第101条review 到底是怎么样子的。"
   ]
  },
  {
   "cell_type": "markdown",
   "metadata": {},
   "source": [
    "## Processing the data\n",
    "\n",
    "Now that we have our training and testing datasets merged and ready to use, we need to start processing the raw data into something that will be useable by our machine learning algorithm. To begin with, we remove any html formatting and any non-alpha numeric characters that may appear in the reviews. We will do this in a very simplistic way using Python's regular expression module. We will discuss the reason for this rather simplistic pre-processing later on."
   ]
  },
  {
   "cell_type": "code",
   "execution_count": 7,
   "metadata": {},
   "outputs": [],
   "source": [
    "import re # 正则表达式，替换标点符号\n",
    "\n",
    "REPLACE_NO_SPACE = re.compile(\"(\\.)|(\\;)|(\\:)|(\\!)|(\\')|(\\?)|(\\,)|(\\\")|(\\()|(\\))|(\\[)|(\\])\")\n",
    "REPLACE_WITH_SPACE = re.compile(\"(<br\\s*/><br\\s*/>)|(\\-)|(\\/)\")\n",
    "\n",
    "def review_to_words(review):\n",
    "    words = REPLACE_NO_SPACE.sub(\"\", review.lower())\n",
    "    words = REPLACE_WITH_SPACE.sub(\" \", words)\n",
    "    return words"
   ]
  },
  {
   "cell_type": "code",
   "execution_count": 8,
   "metadata": {},
   "outputs": [
    {
     "data": {
      "text/plain": [
       "'when hey arnold first came on the air in 1996 i watched it it was one of my favorite shows then the same episodes started getting shown over and over again so i got tired of waiting for new episodes and stopped watching it i was sort of surprised when i heard about hey arnold the movie since it doesnt seem to be nearly as popular as some of the other nickelodeon cartoons like spongebob squarepants nevertheless having nothing better to do i went to see the movie anyway going into the theater i wasnt expecting much i was just expecting it to be a dumb movie version of a childrens cartoon like the recess movie was i guess i got what i expected it was a dumb kiddie movie and nothing more there were some good parts here and there but for the most part the movie was a stinker simply for kids'"
      ]
     },
     "execution_count": 8,
     "metadata": {},
     "output_type": "execute_result"
    }
   ],
   "source": [
    "review_to_words(train_X[100])"
   ]
  },
  {
   "cell_type": "code",
   "execution_count": 9,
   "metadata": {},
   "outputs": [],
   "source": [
    "import pickle # 存成pickle format\n",
    "\n",
    "cache_dir = os.path.join(\"../cache\", \"sentiment_web_app\")  # where to store cache files\n",
    "os.makedirs(cache_dir, exist_ok=True)  # ensure cache directory exists\n",
    "\n",
    "def preprocess_data(data_train, data_test, labels_train, labels_test,\n",
    "                    cache_dir=cache_dir, cache_file=\"preprocessed_data.pkl\"):\n",
    "    \"\"\"Convert each review to words; read from cache if available.\"\"\"\n",
    "\n",
    "    # If cache_file is not None, try to read from it first\n",
    "    cache_data = None\n",
    "    if cache_file is not None:\n",
    "        try:\n",
    "            with open(os.path.join(cache_dir, cache_file), \"rb\") as f:\n",
    "                cache_data = pickle.load(f)\n",
    "            print(\"Read preprocessed data from cache file:\", cache_file)\n",
    "        except:\n",
    "            pass  # unable to read from cache, but that's okay\n",
    "    \n",
    "    # If cache is missing, then do the heavy lifting\n",
    "    if cache_data is None:\n",
    "        # Preprocess training and test data to obtain words for each review\n",
    "        #words_train = list(map(review_to_words, data_train))\n",
    "        #words_test = list(map(review_to_words, data_test))\n",
    "        words_train = [review_to_words(review) for review in data_train]\n",
    "        words_test = [review_to_words(review) for review in data_test]\n",
    "        \n",
    "        # Write to cache file for future runs\n",
    "        if cache_file is not None:\n",
    "            cache_data = dict(words_train=words_train, words_test=words_test,\n",
    "                              labels_train=labels_train, labels_test=labels_test)\n",
    "            with open(os.path.join(cache_dir, cache_file), \"wb\") as f:\n",
    "                pickle.dump(cache_data, f)\n",
    "            print(\"Wrote preprocessed data to cache file:\", cache_file)\n",
    "    else:\n",
    "        # Unpack data loaded from cache file\n",
    "        words_train, words_test, labels_train, labels_test = (cache_data['words_train'],\n",
    "                cache_data['words_test'], cache_data['labels_train'], cache_data['labels_test'])\n",
    "    \n",
    "    return words_train, words_test, labels_train, labels_test"
   ]
  },
  {
   "cell_type": "code",
   "execution_count": 10,
   "metadata": {},
   "outputs": [
    {
     "name": "stdout",
     "output_type": "stream",
     "text": [
      "Wrote preprocessed data to cache file: preprocessed_data.pkl\n"
     ]
    }
   ],
   "source": [
    "# Preprocess data\n",
    "train_X, test_X, train_y, test_y = preprocess_data(train_X, test_X, train_y, test_y)"
   ]
  },
  {
   "cell_type": "markdown",
   "metadata": {},
   "source": [
    "### Extract Bag-of-Words features\n",
    "\n",
    "For the model we will be implementing, rather than using the reviews directly, we are going to transform each review into a Bag-of-Words feature representation. Keep in mind that 'in the wild' we will only have access to the training set so our transformer can only use the training set to construct a representation."
   ]
  },
  {
   "cell_type": "code",
   "execution_count": 11,
   "metadata": {},
   "outputs": [],
   "source": [
    "import numpy as np\n",
    "from sklearn.feature_extraction.text import CountVectorizer # 这里是one-hot的一种\n",
    "from sklearn.externals import joblib\n",
    "# joblib is an enhanced version of pickle that is more efficient for storing NumPy arrays\n",
    "\n",
    "def extract_BoW_features(words_train, words_test, vocabulary_size=5000,\n",
    "                         cache_dir=cache_dir, cache_file=\"bow_features.pkl\"):\n",
    "    \"\"\"Extract Bag-of-Words for a given set of documents, already preprocessed into words.\"\"\"\n",
    "    \n",
    "    # If cache_file is not None, try to read from it first\n",
    "    cache_data = None\n",
    "    if cache_file is not None:\n",
    "        try:\n",
    "            with open(os.path.join(cache_dir, cache_file), \"rb\") as f:\n",
    "                cache_data = joblib.load(f)\n",
    "            print(\"Read features from cache file:\", cache_file)\n",
    "        except:\n",
    "            pass  # unable to read from cache, but that's okay\n",
    "    \n",
    "    # If cache is missing, then do the heavy lifting\n",
    "    if cache_data is None:\n",
    "        # Fit a vectorizer to training documents and use it to transform them\n",
    "        # NOTE: Training documents have already been preprocessed and tokenized into words;\n",
    "        #       pass in dummy functions to skip those steps, e.g. preprocessor=lambda x: x\n",
    "        vectorizer = CountVectorizer(max_features=vocabulary_size)\n",
    "        features_train = vectorizer.fit_transform(words_train).toarray()\n",
    "\n",
    "        # Apply the same vectorizer to transform the test documents (ignore unknown words)\n",
    "        features_test = vectorizer.transform(words_test).toarray()\n",
    "        \n",
    "        # NOTE: Remember to convert the features using .toarray() for a compact representation\n",
    "        \n",
    "        # Write to cache file for future runs (store vocabulary as well)\n",
    "        if cache_file is not None:\n",
    "            vocabulary = vectorizer.vocabulary_\n",
    "            cache_data = dict(features_train=features_train, features_test=features_test,\n",
    "                             vocabulary=vocabulary)\n",
    "            with open(os.path.join(cache_dir, cache_file), \"wb\") as f:\n",
    "                joblib.dump(cache_data, f)\n",
    "            print(\"Wrote features to cache file:\", cache_file)\n",
    "    else:\n",
    "        # Unpack data loaded from cache file\n",
    "        features_train, features_test, vocabulary = (cache_data['features_train'],\n",
    "                cache_data['features_test'], cache_data['vocabulary'])\n",
    "    \n",
    "    # Return both the extracted features as well as the vocabulary\n",
    "    return features_train, features_test, vocabulary"
   ]
  },
  {
   "cell_type": "code",
   "execution_count": 12,
   "metadata": {},
   "outputs": [
    {
     "name": "stdout",
     "output_type": "stream",
     "text": [
      "Wrote features to cache file: bow_features.pkl\n"
     ]
    }
   ],
   "source": [
    "# Extract Bag of Words features for both training and test datasets\n",
    "train_X, test_X, vocabulary = extract_BoW_features(train_X, test_X)"
   ]
  },
  {
   "cell_type": "code",
   "execution_count": 13,
   "metadata": {},
   "outputs": [
    {
     "data": {
      "text/plain": [
       "5000"
      ]
     },
     "execution_count": 13,
     "metadata": {},
     "output_type": "execute_result"
    }
   ],
   "source": [
    "len(train_X[100])"
   ]
  },
  {
   "cell_type": "markdown",
   "metadata": {},
   "source": [
    "## Step 3: Upload data to S3\n",
    "\n",
    "Now that we have created the feature representation of our training (and testing) data, it is time to start setting up and using the XGBoost classifier provided by SageMaker.\n",
    "\n",
    "### Writing the datasets\n",
    "\n",
    "The XGBoost classifier that we will be using requires the dataset to be written to a file and stored using Amazon S3. To do this, we will start by splitting the training dataset into two parts, the data we will train the model with and a validation set. Then, we will write those datasets to a file locally and then upload the files to S3. In addition, we will write the test set to a file and upload that file to S3. This is so that we can use SageMakers Batch Transform functionality to test our model once we've fit it."
   ]
  },
  {
   "cell_type": "code",
   "execution_count": 14,
   "metadata": {},
   "outputs": [],
   "source": [
    "import pandas as pd\n",
    "\n",
    "# Earlier we shuffled the training dataset so to make things simple we can just assign\n",
    "# the first 10 000 reviews to the validation set and use the remaining reviews for training.\n",
    "val_X = pd.DataFrame(train_X[:10000]) # 重要变成了 dataframe\n",
    "train_X = pd.DataFrame(train_X[10000:])\n",
    "\n",
    "val_y = pd.DataFrame(train_y[:10000])\n",
    "train_y = pd.DataFrame(train_y[10000:])"
   ]
  },
  {
   "cell_type": "markdown",
   "metadata": {},
   "source": [
    "The documentation for the XGBoost algorithm in SageMaker requires that the training and validation datasets should contain no headers or index and that the label should occur first for each sample.\n",
    "\n",
    "For more information about this and other algorithms, the SageMaker developer documentation can be found on __[Amazon's website.](https://docs.aws.amazon.com/sagemaker/latest/dg/)__"
   ]
  },
  {
   "cell_type": "code",
   "execution_count": 15,
   "metadata": {},
   "outputs": [],
   "source": [
    "# First we make sure that the local directory in which we'd like to store the training and validation csv files exists.\n",
    "data_dir = '../data/sentiment_web_app'\n",
    "if not os.path.exists(data_dir):\n",
    "    os.makedirs(data_dir)"
   ]
  },
  {
   "cell_type": "code",
   "execution_count": 16,
   "metadata": {},
   "outputs": [],
   "source": [
    "pd.DataFrame(test_X).to_csv(os.path.join(data_dir, 'test.csv'), header=False, index=False)\n",
    "\n",
    "pd.concat([val_y, val_X], axis=1).to_csv(os.path.join(data_dir, 'validation.csv'), header=False, index=False)\n",
    "pd.concat([train_y, train_X], axis=1).to_csv(os.path.join(data_dir, 'train.csv'), header=False, index=False)"
   ]
  },
  {
   "cell_type": "code",
   "execution_count": 17,
   "metadata": {},
   "outputs": [],
   "source": [
    "# To save a bit of memory we can set text_X, train_X, val_X, train_y and val_y to None.\n",
    "\n",
    "test_X = train_X = val_X = train_y = val_y = None #节省内存"
   ]
  },
  {
   "cell_type": "markdown",
   "metadata": {},
   "source": [
    "### Uploading Training / Validation files to S3\n",
    "\n",
    "Amazon's S3 service allows us to store files that can be accessed by both the built-in training models such as the XGBoost model we will be using as well as custom models such as the one we will see a little later.\n",
    "\n",
    "For this and most other tasks we will be doing using SageMaker, there are two methods we could use. The first is to use the low level functionality of SageMaker which requires knowing each of the objects involved in the SageMaker environment. The second is to use the high level functionality in which certain choices have been made on the user's behalf. The low level approach benefits from allowing the user a great deal of flexibility while the high level approach makes development much quicker. For our purposes we will opt to use the high level approach although using the low-level approach is certainly an option.\n",
    "\n",
    "Recall the method `upload_data()` which is a member of the object representing our current SageMaker session. What this method does is upload the data to the default bucket (which is created if it does not exist) into the path described by the key_prefix variable. To see this for yourself, once you have uploaded the data files, go to the S3 console and look to see where the files have been uploaded.\n",
    "\n",
    "For additional resources, see the __[SageMaker API documentation](http://sagemaker.readthedocs.io/en/latest/)__ and in addition the __[SageMaker Developer Guide.](https://docs.aws.amazon.com/sagemaker/latest/dg/)__"
   ]
  },
  {
   "cell_type": "code",
   "execution_count": 18,
   "metadata": {},
   "outputs": [],
   "source": [
    "import sagemaker # 爸爸来了 \n",
    "\n",
    "session = sagemaker.Session() # Store the current SageMaker session # 要开一个session\n",
    "\n",
    "# S3 prefix (which folder will we use)\n",
    "prefix = 'sentiment-web-app' # 这里是为了定义名称\n",
    "\n",
    "test_location = session.upload_data(os.path.join(data_dir, 'test.csv'), key_prefix=prefix)\n",
    "val_location = session.upload_data(os.path.join(data_dir, 'validation.csv'), key_prefix=prefix)\n",
    "train_location = session.upload_data(os.path.join(data_dir, 'train.csv'), key_prefix=prefix)"
   ]
  },
  {
   "cell_type": "markdown",
   "metadata": {},
   "source": [
    "## Step 4: Creating the XGBoost model\n",
    "\n",
    "Now that the data has been uploaded it is time to create the XGBoost model. To begin with, we need to do some setup. At this point it is worth discussing what a model is in SageMaker. It is easiest to think of a model of comprising three different objects in the SageMaker ecosystem, which interact with one another.\n",
    "\n",
    "- Model Artifacts\n",
    "- Training Code (Container)\n",
    "- Inference Code (Container)\n",
    "\n",
    "The Model Artifacts are what you might think of as the actual model itself. For example, if you were building a neural network, the model artifacts would be the weights of the various layers. In our case, for an XGBoost model, the artifacts are the actual trees that are created during training.\n",
    "\n",
    "The other two objects, the training code and the inference code are then used to manipulate the training artifacts. More precisely, the training code uses the training data that is provided and creates the model artifacts, while the inference code uses the model artifacts to make predictions on new data.\n",
    "\n",
    "The way that SageMaker runs the training and inference code is by making use of Docker containers. For now, think of a container as being a way of packaging code up so that dependencies aren't an issue."
   ]
  },
  {
   "cell_type": "code",
   "execution_count": 19,
   "metadata": {},
   "outputs": [],
   "source": [
    "from sagemaker import get_execution_role # 有session 也要有role\n",
    "\n",
    "# Our current execution role is required when creating the model as the training\n",
    "# and inference code will need to access the model artifacts.\n",
    "role = get_execution_role()"
   ]
  },
  {
   "cell_type": "code",
   "execution_count": 20,
   "metadata": {},
   "outputs": [],
   "source": [
    "# We need to retrieve the location of the container which is provided by Amazon for using XGBoost.\n",
    "# As a matter of convenience, the training and inference code both use the same container.\n",
    "from sagemaker.amazon.amazon_estimator import get_image_uri # 这里是调用container 的镜像，Amazon 帮我们搞定\n",
    "\n",
    "container = get_image_uri(session.boto_region_name, 'xgboost')"
   ]
  },
  {
   "cell_type": "code",
   "execution_count": 21,
   "metadata": {},
   "outputs": [],
   "source": [
    "# First we create a SageMaker estimator object for our model.\n",
    "xgb = sagemaker.estimator.Estimator(container, # The location of the container we wish to use\n",
    "                                    role,                                    # What is our current IAM Role\n",
    "                                    train_instance_count=1,                  # How many compute instances\n",
    "                                    train_instance_type='ml.m4.xlarge',      # What kind of compute instances\n",
    "                                    output_path='s3://{}/{}/output'.format(session.default_bucket(), prefix), # 存哪里啊，我们的结果\n",
    "                                    sagemaker_session=session)\n",
    "\n",
    "# And then set the algorithm specific parameters.\n",
    "xgb.set_hyperparameters(max_depth=5,\n",
    "                        eta=0.2,\n",
    "                        gamma=4,\n",
    "                        min_child_weight=6,\n",
    "                        subsample=0.8,\n",
    "                        silent=0,\n",
    "                        objective='binary:logistic',\n",
    "                        early_stopping_rounds=10,\n",
    "                        num_round=500)"
   ]
  },
  {
   "cell_type": "markdown",
   "metadata": {},
   "source": [
    "### Fit the XGBoost model\n",
    "\n",
    "Now that our model has been set up we simply need to attach the training and validation datasets and then ask SageMaker to set up the computation."
   ]
  },
  {
   "cell_type": "code",
   "execution_count": 22,
   "metadata": {},
   "outputs": [],
   "source": [
    "s3_input_train = sagemaker.s3_input(s3_data=train_location, content_type='csv') # 用high——level 就是那么简单\n",
    "s3_input_validation = sagemaker.s3_input(s3_data=val_location, content_type='csv')"
   ]
  },
  {
   "cell_type": "code",
   "execution_count": 23,
   "metadata": {},
   "outputs": [
    {
     "name": "stdout",
     "output_type": "stream",
     "text": [
      "2019-08-02 18:16:49 Starting - Starting the training job...\n",
      "2019-08-02 18:16:55 Starting - Launching requested ML instances.........\n",
      "2019-08-02 18:18:24 Starting - Preparing the instances for training......\n",
      "2019-08-02 18:19:41 Downloading - Downloading input data\n",
      "2019-08-02 18:19:41 Training - Downloading the training image..\n",
      "\u001b[31mArguments: train\u001b[0m\n",
      "\u001b[31m[2019-08-02:18:20:05:INFO] Running standalone xgboost training.\u001b[0m\n",
      "\u001b[31m[2019-08-02:18:20:05:INFO] File size need to be processed in the node: 238.5mb. Available memory size in the node: 8442.7mb\u001b[0m\n",
      "\u001b[31m[2019-08-02:18:20:05:INFO] Determined delimiter of CSV input is ','\u001b[0m\n",
      "\u001b[31m[18:20:05] S3DistributionType set as FullyReplicated\u001b[0m\n",
      "\u001b[31m[18:20:07] 15000x5000 matrix with 75000000 entries loaded from /opt/ml/input/data/train?format=csv&label_column=0&delimiter=,\u001b[0m\n",
      "\u001b[31m[2019-08-02:18:20:07:INFO] Determined delimiter of CSV input is ','\u001b[0m\n",
      "\u001b[31m[18:20:07] S3DistributionType set as FullyReplicated\u001b[0m\n",
      "\u001b[31m[18:20:08] 10000x5000 matrix with 50000000 entries loaded from /opt/ml/input/data/validation?format=csv&label_column=0&delimiter=,\u001b[0m\n",
      "\n",
      "2019-08-02 18:20:05 Training - Training image download completed. Training in progress.\u001b[31m[18:20:12] src/tree/updater_prune.cc:74: tree pruning end, 1 roots, 40 extra nodes, 6 pruned nodes, max_depth=5\u001b[0m\n",
      "\u001b[31m[0]#011train-error:0.299067#011validation-error:0.3179\u001b[0m\n",
      "\u001b[31mMultiple eval metrics have been passed: 'validation-error' will be used for early stopping.\n",
      "\u001b[0m\n",
      "\u001b[31mWill train until validation-error hasn't improved in 10 rounds.\u001b[0m\n",
      "\u001b[31m[18:20:13] src/tree/updater_prune.cc:74: tree pruning end, 1 roots, 46 extra nodes, 6 pruned nodes, max_depth=5\u001b[0m\n",
      "\u001b[31m[1]#011train-error:0.288533#011validation-error:0.3025\u001b[0m\n",
      "\u001b[31m[18:20:14] src/tree/updater_prune.cc:74: tree pruning end, 1 roots, 46 extra nodes, 2 pruned nodes, max_depth=5\u001b[0m\n",
      "\u001b[31m[2]#011train-error:0.276467#011validation-error:0.2948\u001b[0m\n",
      "\u001b[31m[18:20:16] src/tree/updater_prune.cc:74: tree pruning end, 1 roots, 30 extra nodes, 8 pruned nodes, max_depth=5\u001b[0m\n",
      "\u001b[31m[3]#011train-error:0.27#011validation-error:0.2879\u001b[0m\n",
      "\u001b[31m[18:20:17] src/tree/updater_prune.cc:74: tree pruning end, 1 roots, 40 extra nodes, 4 pruned nodes, max_depth=5\u001b[0m\n",
      "\u001b[31m[4]#011train-error:0.260933#011validation-error:0.2786\u001b[0m\n",
      "\u001b[31m[18:20:19] src/tree/updater_prune.cc:74: tree pruning end, 1 roots, 40 extra nodes, 2 pruned nodes, max_depth=5\u001b[0m\n",
      "\u001b[31m[5]#011train-error:0.255933#011validation-error:0.277\u001b[0m\n",
      "\u001b[31m[18:20:20] src/tree/updater_prune.cc:74: tree pruning end, 1 roots, 30 extra nodes, 10 pruned nodes, max_depth=5\u001b[0m\n",
      "\u001b[31m[6]#011train-error:0.254267#011validation-error:0.2743\u001b[0m\n",
      "\u001b[31m[18:20:21] src/tree/updater_prune.cc:74: tree pruning end, 1 roots, 24 extra nodes, 12 pruned nodes, max_depth=5\u001b[0m\n",
      "\u001b[31m[7]#011train-error:0.2434#011validation-error:0.2655\u001b[0m\n",
      "\u001b[31m[18:20:23] src/tree/updater_prune.cc:74: tree pruning end, 1 roots, 46 extra nodes, 10 pruned nodes, max_depth=5\u001b[0m\n",
      "\u001b[31m[8]#011train-error:0.236933#011validation-error:0.2616\u001b[0m\n",
      "\u001b[31m[18:20:24] src/tree/updater_prune.cc:74: tree pruning end, 1 roots, 38 extra nodes, 6 pruned nodes, max_depth=5\u001b[0m\n",
      "\u001b[31m[9]#011train-error:0.228667#011validation-error:0.2557\u001b[0m\n",
      "\u001b[31m[18:20:25] src/tree/updater_prune.cc:74: tree pruning end, 1 roots, 24 extra nodes, 10 pruned nodes, max_depth=5\u001b[0m\n",
      "\u001b[31m[10]#011train-error:0.224467#011validation-error:0.2499\u001b[0m\n",
      "\u001b[31m[18:20:26] src/tree/updater_prune.cc:74: tree pruning end, 1 roots, 34 extra nodes, 8 pruned nodes, max_depth=5\u001b[0m\n",
      "\u001b[31m[11]#011train-error:0.213#011validation-error:0.2372\u001b[0m\n",
      "\u001b[31m[18:20:28] src/tree/updater_prune.cc:74: tree pruning end, 1 roots, 24 extra nodes, 16 pruned nodes, max_depth=5\u001b[0m\n",
      "\u001b[31m[12]#011train-error:0.209733#011validation-error:0.2355\u001b[0m\n",
      "\u001b[31m[18:20:29] src/tree/updater_prune.cc:74: tree pruning end, 1 roots, 28 extra nodes, 10 pruned nodes, max_depth=5\u001b[0m\n",
      "\u001b[31m[13]#011train-error:0.205133#011validation-error:0.2306\u001b[0m\n",
      "\u001b[31m[18:20:30] src/tree/updater_prune.cc:74: tree pruning end, 1 roots, 32 extra nodes, 4 pruned nodes, max_depth=5\u001b[0m\n",
      "\u001b[31m[14]#011train-error:0.201667#011validation-error:0.2265\u001b[0m\n",
      "\u001b[31m[18:20:31] src/tree/updater_prune.cc:74: tree pruning end, 1 roots, 32 extra nodes, 4 pruned nodes, max_depth=5\u001b[0m\n",
      "\u001b[31m[15]#011train-error:0.1974#011validation-error:0.2269\u001b[0m\n",
      "\u001b[31m[18:20:33] src/tree/updater_prune.cc:74: tree pruning end, 1 roots, 26 extra nodes, 6 pruned nodes, max_depth=5\u001b[0m\n",
      "\u001b[31m[16]#011train-error:0.194733#011validation-error:0.2249\u001b[0m\n",
      "\u001b[31m[18:20:34] src/tree/updater_prune.cc:74: tree pruning end, 1 roots, 30 extra nodes, 6 pruned nodes, max_depth=5\u001b[0m\n",
      "\u001b[31m[17]#011train-error:0.190333#011validation-error:0.2222\u001b[0m\n",
      "\u001b[31m[18:20:35] src/tree/updater_prune.cc:74: tree pruning end, 1 roots, 30 extra nodes, 14 pruned nodes, max_depth=5\u001b[0m\n",
      "\u001b[31m[18]#011train-error:0.1888#011validation-error:0.2187\u001b[0m\n",
      "\u001b[31m[18:20:36] src/tree/updater_prune.cc:74: tree pruning end, 1 roots, 28 extra nodes, 4 pruned nodes, max_depth=5\u001b[0m\n",
      "\u001b[31m[19]#011train-error:0.186067#011validation-error:0.2178\u001b[0m\n",
      "\u001b[31m[18:20:38] src/tree/updater_prune.cc:74: tree pruning end, 1 roots, 30 extra nodes, 8 pruned nodes, max_depth=5\u001b[0m\n",
      "\u001b[31m[20]#011train-error:0.182467#011validation-error:0.216\u001b[0m\n",
      "\u001b[31m[18:20:39] src/tree/updater_prune.cc:74: tree pruning end, 1 roots, 28 extra nodes, 8 pruned nodes, max_depth=5\u001b[0m\n",
      "\u001b[31m[21]#011train-error:0.181667#011validation-error:0.2159\u001b[0m\n",
      "\u001b[31m[18:20:40] src/tree/updater_prune.cc:74: tree pruning end, 1 roots, 40 extra nodes, 4 pruned nodes, max_depth=5\u001b[0m\n",
      "\u001b[31m[22]#011train-error:0.178533#011validation-error:0.2127\u001b[0m\n",
      "\u001b[31m[18:20:42] src/tree/updater_prune.cc:74: tree pruning end, 1 roots, 20 extra nodes, 8 pruned nodes, max_depth=5\u001b[0m\n",
      "\u001b[31m[23]#011train-error:0.1774#011validation-error:0.2111\u001b[0m\n",
      "\u001b[31m[18:20:43] src/tree/updater_prune.cc:74: tree pruning end, 1 roots, 20 extra nodes, 10 pruned nodes, max_depth=5\u001b[0m\n",
      "\u001b[31m[24]#011train-error:0.1758#011validation-error:0.2082\u001b[0m\n",
      "\u001b[31m[18:20:44] src/tree/updater_prune.cc:74: tree pruning end, 1 roots, 28 extra nodes, 8 pruned nodes, max_depth=5\u001b[0m\n",
      "\u001b[31m[25]#011train-error:0.173667#011validation-error:0.2085\u001b[0m\n",
      "\u001b[31m[18:20:45] src/tree/updater_prune.cc:74: tree pruning end, 1 roots, 22 extra nodes, 8 pruned nodes, max_depth=5\u001b[0m\n",
      "\u001b[31m[26]#011train-error:0.172267#011validation-error:0.2069\u001b[0m\n",
      "\u001b[31m[18:20:47] src/tree/updater_prune.cc:74: tree pruning end, 1 roots, 28 extra nodes, 10 pruned nodes, max_depth=5\u001b[0m\n",
      "\u001b[31m[27]#011train-error:0.1698#011validation-error:0.2036\u001b[0m\n",
      "\u001b[31m[18:20:48] src/tree/updater_prune.cc:74: tree pruning end, 1 roots, 18 extra nodes, 8 pruned nodes, max_depth=5\u001b[0m\n",
      "\u001b[31m[28]#011train-error:0.168333#011validation-error:0.2049\u001b[0m\n",
      "\u001b[31m[18:20:49] src/tree/updater_prune.cc:74: tree pruning end, 1 roots, 26 extra nodes, 4 pruned nodes, max_depth=5\u001b[0m\n",
      "\u001b[31m[29]#011train-error:0.167533#011validation-error:0.2037\u001b[0m\n",
      "\u001b[31m[18:20:50] src/tree/updater_prune.cc:74: tree pruning end, 1 roots, 26 extra nodes, 6 pruned nodes, max_depth=5\u001b[0m\n",
      "\u001b[31m[30]#011train-error:0.166067#011validation-error:0.2011\u001b[0m\n",
      "\u001b[31m[18:20:52] src/tree/updater_prune.cc:74: tree pruning end, 1 roots, 34 extra nodes, 0 pruned nodes, max_depth=5\u001b[0m\n",
      "\u001b[31m[31]#011train-error:0.164133#011validation-error:0.2014\u001b[0m\n",
      "\u001b[31m[18:20:53] src/tree/updater_prune.cc:74: tree pruning end, 1 roots, 22 extra nodes, 8 pruned nodes, max_depth=5\u001b[0m\n",
      "\u001b[31m[32]#011train-error:0.162667#011validation-error:0.2005\u001b[0m\n",
      "\u001b[31m[18:20:54] src/tree/updater_prune.cc:74: tree pruning end, 1 roots, 28 extra nodes, 4 pruned nodes, max_depth=5\u001b[0m\n",
      "\u001b[31m[33]#011train-error:0.160267#011validation-error:0.1975\u001b[0m\n",
      "\u001b[31m[18:20:55] src/tree/updater_prune.cc:74: tree pruning end, 1 roots, 20 extra nodes, 14 pruned nodes, max_depth=5\u001b[0m\n",
      "\u001b[31m[34]#011train-error:0.1594#011validation-error:0.1965\u001b[0m\n",
      "\u001b[31m[18:20:57] src/tree/updater_prune.cc:74: tree pruning end, 1 roots, 22 extra nodes, 10 pruned nodes, max_depth=5\u001b[0m\n",
      "\u001b[31m[35]#011train-error:0.1574#011validation-error:0.1956\u001b[0m\n",
      "\u001b[31m[18:20:58] src/tree/updater_prune.cc:74: tree pruning end, 1 roots, 40 extra nodes, 6 pruned nodes, max_depth=5\u001b[0m\n",
      "\u001b[31m[36]#011train-error:0.153933#011validation-error:0.1939\u001b[0m\n",
      "\u001b[31m[18:20:59] src/tree/updater_prune.cc:74: tree pruning end, 1 roots, 22 extra nodes, 10 pruned nodes, max_depth=5\u001b[0m\n",
      "\u001b[31m[37]#011train-error:0.152867#011validation-error:0.1918\u001b[0m\n",
      "\u001b[31m[18:21:00] src/tree/updater_prune.cc:74: tree pruning end, 1 roots, 30 extra nodes, 6 pruned nodes, max_depth=5\u001b[0m\n",
      "\u001b[31m[38]#011train-error:0.152467#011validation-error:0.1911\u001b[0m\n",
      "\u001b[31m[18:21:02] src/tree/updater_prune.cc:74: tree pruning end, 1 roots, 16 extra nodes, 14 pruned nodes, max_depth=5\u001b[0m\n",
      "\u001b[31m[39]#011train-error:0.150733#011validation-error:0.1897\u001b[0m\n",
      "\u001b[31m[18:21:03] src/tree/updater_prune.cc:74: tree pruning end, 1 roots, 20 extra nodes, 12 pruned nodes, max_depth=5\u001b[0m\n",
      "\u001b[31m[40]#011train-error:0.149467#011validation-error:0.188\u001b[0m\n",
      "\u001b[31m[18:21:04] src/tree/updater_prune.cc:74: tree pruning end, 1 roots, 30 extra nodes, 4 pruned nodes, max_depth=5\u001b[0m\n",
      "\u001b[31m[41]#011train-error:0.148933#011validation-error:0.1886\u001b[0m\n",
      "\u001b[31m[18:21:05] src/tree/updater_prune.cc:74: tree pruning end, 1 roots, 28 extra nodes, 8 pruned nodes, max_depth=5\u001b[0m\n",
      "\u001b[31m[42]#011train-error:0.147333#011validation-error:0.1877\u001b[0m\n",
      "\u001b[31m[18:21:07] src/tree/updater_prune.cc:74: tree pruning end, 1 roots, 20 extra nodes, 10 pruned nodes, max_depth=5\u001b[0m\n",
      "\u001b[31m[43]#011train-error:0.1462#011validation-error:0.186\u001b[0m\n"
     ]
    },
    {
     "name": "stdout",
     "output_type": "stream",
     "text": [
      "\u001b[31m[18:21:08] src/tree/updater_prune.cc:74: tree pruning end, 1 roots, 28 extra nodes, 8 pruned nodes, max_depth=5\u001b[0m\n",
      "\u001b[31m[44]#011train-error:0.145467#011validation-error:0.1844\u001b[0m\n",
      "\u001b[31m[18:21:09] src/tree/updater_prune.cc:74: tree pruning end, 1 roots, 24 extra nodes, 12 pruned nodes, max_depth=5\u001b[0m\n",
      "\u001b[31m[45]#011train-error:0.144867#011validation-error:0.1843\u001b[0m\n",
      "\u001b[31m[18:21:11] src/tree/updater_prune.cc:74: tree pruning end, 1 roots, 24 extra nodes, 6 pruned nodes, max_depth=5\u001b[0m\n",
      "\u001b[31m[46]#011train-error:0.1424#011validation-error:0.1822\u001b[0m\n",
      "\u001b[31m[18:21:12] src/tree/updater_prune.cc:74: tree pruning end, 1 roots, 22 extra nodes, 6 pruned nodes, max_depth=5\u001b[0m\n",
      "\u001b[31m[47]#011train-error:0.1412#011validation-error:0.1825\u001b[0m\n",
      "\u001b[31m[18:21:13] src/tree/updater_prune.cc:74: tree pruning end, 1 roots, 22 extra nodes, 10 pruned nodes, max_depth=5\u001b[0m\n",
      "\u001b[31m[48]#011train-error:0.140933#011validation-error:0.1813\u001b[0m\n",
      "\u001b[31m[18:21:14] src/tree/updater_prune.cc:74: tree pruning end, 1 roots, 22 extra nodes, 4 pruned nodes, max_depth=5\u001b[0m\n",
      "\u001b[31m[49]#011train-error:0.139133#011validation-error:0.1793\u001b[0m\n",
      "\u001b[31m[18:21:16] src/tree/updater_prune.cc:74: tree pruning end, 1 roots, 32 extra nodes, 10 pruned nodes, max_depth=5\u001b[0m\n",
      "\u001b[31m[50]#011train-error:0.138267#011validation-error:0.1786\u001b[0m\n",
      "\u001b[31m[18:21:17] src/tree/updater_prune.cc:74: tree pruning end, 1 roots, 34 extra nodes, 12 pruned nodes, max_depth=5\u001b[0m\n",
      "\u001b[31m[51]#011train-error:0.1372#011validation-error:0.1787\u001b[0m\n",
      "\u001b[31m[18:21:18] src/tree/updater_prune.cc:74: tree pruning end, 1 roots, 20 extra nodes, 12 pruned nodes, max_depth=5\u001b[0m\n",
      "\u001b[31m[52]#011train-error:0.1352#011validation-error:0.1795\u001b[0m\n",
      "\u001b[31m[18:21:19] src/tree/updater_prune.cc:74: tree pruning end, 1 roots, 24 extra nodes, 8 pruned nodes, max_depth=5\u001b[0m\n",
      "\u001b[31m[53]#011train-error:0.134133#011validation-error:0.1786\u001b[0m\n",
      "\u001b[31m[18:21:21] src/tree/updater_prune.cc:74: tree pruning end, 1 roots, 36 extra nodes, 10 pruned nodes, max_depth=5\u001b[0m\n",
      "\u001b[31m[54]#011train-error:0.1328#011validation-error:0.179\u001b[0m\n",
      "\u001b[31m[18:21:22] src/tree/updater_prune.cc:74: tree pruning end, 1 roots, 22 extra nodes, 4 pruned nodes, max_depth=5\u001b[0m\n",
      "\u001b[31m[55]#011train-error:0.1318#011validation-error:0.1771\u001b[0m\n",
      "\u001b[31m[18:21:23] src/tree/updater_prune.cc:74: tree pruning end, 1 roots, 30 extra nodes, 14 pruned nodes, max_depth=5\u001b[0m\n",
      "\u001b[31m[56]#011train-error:0.1304#011validation-error:0.1765\u001b[0m\n",
      "\u001b[31m[18:21:24] src/tree/updater_prune.cc:74: tree pruning end, 1 roots, 18 extra nodes, 8 pruned nodes, max_depth=5\u001b[0m\n",
      "\u001b[31m[57]#011train-error:0.129933#011validation-error:0.1742\u001b[0m\n",
      "\u001b[31m[18:21:26] src/tree/updater_prune.cc:74: tree pruning end, 1 roots, 18 extra nodes, 6 pruned nodes, max_depth=5\u001b[0m\n",
      "\u001b[31m[58]#011train-error:0.1292#011validation-error:0.1733\u001b[0m\n",
      "\u001b[31m[18:21:27] src/tree/updater_prune.cc:74: tree pruning end, 1 roots, 22 extra nodes, 8 pruned nodes, max_depth=5\u001b[0m\n",
      "\u001b[31m[59]#011train-error:0.128267#011validation-error:0.1728\u001b[0m\n",
      "\u001b[31m[18:21:28] src/tree/updater_prune.cc:74: tree pruning end, 1 roots, 24 extra nodes, 6 pruned nodes, max_depth=5\u001b[0m\n",
      "\u001b[31m[60]#011train-error:0.127067#011validation-error:0.1724\u001b[0m\n",
      "\u001b[31m[18:21:29] src/tree/updater_prune.cc:74: tree pruning end, 1 roots, 36 extra nodes, 2 pruned nodes, max_depth=5\u001b[0m\n",
      "\u001b[31m[61]#011train-error:0.125533#011validation-error:0.1706\u001b[0m\n",
      "\u001b[31m[18:21:31] src/tree/updater_prune.cc:74: tree pruning end, 1 roots, 20 extra nodes, 8 pruned nodes, max_depth=5\u001b[0m\n",
      "\u001b[31m[62]#011train-error:0.125067#011validation-error:0.1698\u001b[0m\n",
      "\u001b[31m[18:21:32] src/tree/updater_prune.cc:74: tree pruning end, 1 roots, 32 extra nodes, 2 pruned nodes, max_depth=5\u001b[0m\n",
      "\u001b[31m[63]#011train-error:0.125267#011validation-error:0.1687\u001b[0m\n",
      "\u001b[31m[18:21:33] src/tree/updater_prune.cc:74: tree pruning end, 1 roots, 16 extra nodes, 2 pruned nodes, max_depth=5\u001b[0m\n",
      "\u001b[31m[64]#011train-error:0.124067#011validation-error:0.1692\u001b[0m\n",
      "\u001b[31m[18:21:34] src/tree/updater_prune.cc:74: tree pruning end, 1 roots, 14 extra nodes, 12 pruned nodes, max_depth=5\u001b[0m\n",
      "\u001b[31m[65]#011train-error:0.123533#011validation-error:0.1696\u001b[0m\n",
      "\u001b[31m[18:21:36] src/tree/updater_prune.cc:74: tree pruning end, 1 roots, 22 extra nodes, 10 pruned nodes, max_depth=5\u001b[0m\n",
      "\u001b[31m[66]#011train-error:0.122133#011validation-error:0.1693\u001b[0m\n",
      "\u001b[31m[18:21:37] src/tree/updater_prune.cc:74: tree pruning end, 1 roots, 24 extra nodes, 4 pruned nodes, max_depth=5\u001b[0m\n",
      "\u001b[31m[67]#011train-error:0.121667#011validation-error:0.1689\u001b[0m\n",
      "\u001b[31m[18:21:38] src/tree/updater_prune.cc:74: tree pruning end, 1 roots, 12 extra nodes, 4 pruned nodes, max_depth=5\u001b[0m\n",
      "\u001b[31m[68]#011train-error:0.121267#011validation-error:0.1676\u001b[0m\n",
      "\u001b[31m[18:21:40] src/tree/updater_prune.cc:74: tree pruning end, 1 roots, 28 extra nodes, 6 pruned nodes, max_depth=5\u001b[0m\n",
      "\u001b[31m[69]#011train-error:0.119733#011validation-error:0.1679\u001b[0m\n",
      "\u001b[31m[18:21:41] src/tree/updater_prune.cc:74: tree pruning end, 1 roots, 20 extra nodes, 12 pruned nodes, max_depth=5\u001b[0m\n",
      "\u001b[31m[70]#011train-error:0.1196#011validation-error:0.1681\u001b[0m\n",
      "\u001b[31m[18:21:42] src/tree/updater_prune.cc:74: tree pruning end, 1 roots, 36 extra nodes, 2 pruned nodes, max_depth=5\u001b[0m\n",
      "\u001b[31m[71]#011train-error:0.118333#011validation-error:0.1679\u001b[0m\n",
      "\u001b[31m[18:21:43] src/tree/updater_prune.cc:74: tree pruning end, 1 roots, 16 extra nodes, 14 pruned nodes, max_depth=5\u001b[0m\n",
      "\u001b[31m[72]#011train-error:0.117733#011validation-error:0.1671\u001b[0m\n",
      "\u001b[31m[18:21:45] src/tree/updater_prune.cc:74: tree pruning end, 1 roots, 16 extra nodes, 6 pruned nodes, max_depth=5\u001b[0m\n",
      "\u001b[31m[73]#011train-error:0.116867#011validation-error:0.1656\u001b[0m\n",
      "\u001b[31m[18:21:46] src/tree/updater_prune.cc:74: tree pruning end, 1 roots, 20 extra nodes, 8 pruned nodes, max_depth=5\u001b[0m\n",
      "\u001b[31m[74]#011train-error:0.116067#011validation-error:0.1661\u001b[0m\n",
      "\u001b[31m[18:21:47] src/tree/updater_prune.cc:74: tree pruning end, 1 roots, 12 extra nodes, 4 pruned nodes, max_depth=5\u001b[0m\n",
      "\u001b[31m[75]#011train-error:0.115667#011validation-error:0.1655\u001b[0m\n",
      "\u001b[31m[18:21:48] src/tree/updater_prune.cc:74: tree pruning end, 1 roots, 16 extra nodes, 8 pruned nodes, max_depth=5\u001b[0m\n",
      "\u001b[31m[76]#011train-error:0.114533#011validation-error:0.1648\u001b[0m\n",
      "\u001b[31m[18:21:50] src/tree/updater_prune.cc:74: tree pruning end, 1 roots, 18 extra nodes, 16 pruned nodes, max_depth=5\u001b[0m\n",
      "\u001b[31m[77]#011train-error:0.113733#011validation-error:0.1641\u001b[0m\n",
      "\u001b[31m[18:21:51] src/tree/updater_prune.cc:74: tree pruning end, 1 roots, 20 extra nodes, 4 pruned nodes, max_depth=5\u001b[0m\n",
      "\u001b[31m[78]#011train-error:0.113067#011validation-error:0.1635\u001b[0m\n",
      "\u001b[31m[18:21:52] src/tree/updater_prune.cc:74: tree pruning end, 1 roots, 24 extra nodes, 6 pruned nodes, max_depth=5\u001b[0m\n",
      "\u001b[31m[79]#011train-error:0.111933#011validation-error:0.1621\u001b[0m\n",
      "\u001b[31m[18:21:53] src/tree/updater_prune.cc:74: tree pruning end, 1 roots, 30 extra nodes, 12 pruned nodes, max_depth=5\u001b[0m\n",
      "\u001b[31m[80]#011train-error:0.111667#011validation-error:0.1608\u001b[0m\n",
      "\u001b[31m[18:21:55] src/tree/updater_prune.cc:74: tree pruning end, 1 roots, 16 extra nodes, 12 pruned nodes, max_depth=5\u001b[0m\n",
      "\u001b[31m[81]#011train-error:0.110667#011validation-error:0.1598\u001b[0m\n",
      "\u001b[31m[18:21:56] src/tree/updater_prune.cc:74: tree pruning end, 1 roots, 18 extra nodes, 6 pruned nodes, max_depth=5\u001b[0m\n",
      "\u001b[31m[82]#011train-error:0.1098#011validation-error:0.1604\u001b[0m\n",
      "\u001b[31m[18:21:57] src/tree/updater_prune.cc:74: tree pruning end, 1 roots, 12 extra nodes, 8 pruned nodes, max_depth=5\u001b[0m\n",
      "\u001b[31m[83]#011train-error:0.109733#011validation-error:0.1613\u001b[0m\n",
      "\u001b[31m[18:21:58] src/tree/updater_prune.cc:74: tree pruning end, 1 roots, 18 extra nodes, 6 pruned nodes, max_depth=5\u001b[0m\n",
      "\u001b[31m[84]#011train-error:0.109#011validation-error:0.1611\u001b[0m\n",
      "\u001b[31m[18:22:00] src/tree/updater_prune.cc:74: tree pruning end, 1 roots, 20 extra nodes, 10 pruned nodes, max_depth=5\u001b[0m\n",
      "\u001b[31m[85]#011train-error:0.108#011validation-error:0.1603\u001b[0m\n",
      "\u001b[31m[18:22:01] src/tree/updater_prune.cc:74: tree pruning end, 1 roots, 20 extra nodes, 6 pruned nodes, max_depth=5\u001b[0m\n",
      "\u001b[31m[86]#011train-error:0.108067#011validation-error:0.1598\u001b[0m\n",
      "\u001b[31m[18:22:02] src/tree/updater_prune.cc:74: tree pruning end, 1 roots, 12 extra nodes, 2 pruned nodes, max_depth=5\u001b[0m\n",
      "\u001b[31m[87]#011train-error:0.107933#011validation-error:0.1597\u001b[0m\n",
      "\u001b[31m[18:22:03] src/tree/updater_prune.cc:74: tree pruning end, 1 roots, 14 extra nodes, 2 pruned nodes, max_depth=5\u001b[0m\n",
      "\u001b[31m[88]#011train-error:0.1076#011validation-error:0.1588\u001b[0m\n",
      "\u001b[31m[18:22:05] src/tree/updater_prune.cc:74: tree pruning end, 1 roots, 14 extra nodes, 10 pruned nodes, max_depth=5\u001b[0m\n",
      "\u001b[31m[89]#011train-error:0.1068#011validation-error:0.1586\u001b[0m\n",
      "\u001b[31m[18:22:06] src/tree/updater_prune.cc:74: tree pruning end, 1 roots, 22 extra nodes, 12 pruned nodes, max_depth=5\u001b[0m\n",
      "\u001b[31m[90]#011train-error:0.106333#011validation-error:0.1588\u001b[0m\n",
      "\u001b[31m[18:22:07] src/tree/updater_prune.cc:74: tree pruning end, 1 roots, 24 extra nodes, 12 pruned nodes, max_depth=5\u001b[0m\n",
      "\u001b[31m[91]#011train-error:0.1062#011validation-error:0.1588\u001b[0m\n"
     ]
    },
    {
     "name": "stdout",
     "output_type": "stream",
     "text": [
      "\u001b[31m[18:22:09] src/tree/updater_prune.cc:74: tree pruning end, 1 roots, 12 extra nodes, 4 pruned nodes, max_depth=5\u001b[0m\n",
      "\u001b[31m[92]#011train-error:0.1062#011validation-error:0.158\u001b[0m\n",
      "\u001b[31m[18:22:10] src/tree/updater_prune.cc:74: tree pruning end, 1 roots, 14 extra nodes, 12 pruned nodes, max_depth=5\u001b[0m\n",
      "\u001b[31m[93]#011train-error:0.105867#011validation-error:0.1578\u001b[0m\n",
      "\u001b[31m[18:22:11] src/tree/updater_prune.cc:74: tree pruning end, 1 roots, 14 extra nodes, 8 pruned nodes, max_depth=5\u001b[0m\n",
      "\u001b[31m[94]#011train-error:0.106133#011validation-error:0.1576\u001b[0m\n",
      "\u001b[31m[18:22:12] src/tree/updater_prune.cc:74: tree pruning end, 1 roots, 16 extra nodes, 6 pruned nodes, max_depth=5\u001b[0m\n",
      "\u001b[31m[95]#011train-error:0.1048#011validation-error:0.1568\u001b[0m\n",
      "\u001b[31m[18:22:14] src/tree/updater_prune.cc:74: tree pruning end, 1 roots, 28 extra nodes, 10 pruned nodes, max_depth=5\u001b[0m\n",
      "\u001b[31m[96]#011train-error:0.104067#011validation-error:0.1555\u001b[0m\n",
      "\u001b[31m[18:22:15] src/tree/updater_prune.cc:74: tree pruning end, 1 roots, 28 extra nodes, 6 pruned nodes, max_depth=5\u001b[0m\n",
      "\u001b[31m[97]#011train-error:0.103133#011validation-error:0.1561\u001b[0m\n",
      "\u001b[31m[18:22:16] src/tree/updater_prune.cc:74: tree pruning end, 1 roots, 12 extra nodes, 6 pruned nodes, max_depth=5\u001b[0m\n",
      "\u001b[31m[98]#011train-error:0.1032#011validation-error:0.156\u001b[0m\n",
      "\u001b[31m[18:22:17] src/tree/updater_prune.cc:74: tree pruning end, 1 roots, 24 extra nodes, 10 pruned nodes, max_depth=5\u001b[0m\n",
      "\u001b[31m[99]#011train-error:0.102667#011validation-error:0.155\u001b[0m\n",
      "\u001b[31m[18:22:19] src/tree/updater_prune.cc:74: tree pruning end, 1 roots, 20 extra nodes, 10 pruned nodes, max_depth=5\u001b[0m\n",
      "\u001b[31m[100]#011train-error:0.103#011validation-error:0.1549\u001b[0m\n",
      "\u001b[31m[18:22:20] src/tree/updater_prune.cc:74: tree pruning end, 1 roots, 22 extra nodes, 0 pruned nodes, max_depth=5\u001b[0m\n",
      "\u001b[31m[101]#011train-error:0.102667#011validation-error:0.1553\u001b[0m\n",
      "\u001b[31m[18:22:21] src/tree/updater_prune.cc:74: tree pruning end, 1 roots, 12 extra nodes, 6 pruned nodes, max_depth=5\u001b[0m\n",
      "\u001b[31m[102]#011train-error:0.101933#011validation-error:0.1548\u001b[0m\n",
      "\u001b[31m[18:22:22] src/tree/updater_prune.cc:74: tree pruning end, 1 roots, 14 extra nodes, 6 pruned nodes, max_depth=5\u001b[0m\n",
      "\u001b[31m[103]#011train-error:0.1012#011validation-error:0.1546\u001b[0m\n",
      "\u001b[31m[18:22:24] src/tree/updater_prune.cc:74: tree pruning end, 1 roots, 14 extra nodes, 8 pruned nodes, max_depth=5\u001b[0m\n",
      "\u001b[31m[104]#011train-error:0.101067#011validation-error:0.1543\u001b[0m\n",
      "\u001b[31m[18:22:25] src/tree/updater_prune.cc:74: tree pruning end, 1 roots, 20 extra nodes, 2 pruned nodes, max_depth=5\u001b[0m\n",
      "\u001b[31m[105]#011train-error:0.1006#011validation-error:0.1541\u001b[0m\n",
      "\u001b[31m[18:22:26] src/tree/updater_prune.cc:74: tree pruning end, 1 roots, 14 extra nodes, 10 pruned nodes, max_depth=5\u001b[0m\n",
      "\u001b[31m[106]#011train-error:0.099667#011validation-error:0.1539\u001b[0m\n",
      "\u001b[31m[18:22:27] src/tree/updater_prune.cc:74: tree pruning end, 1 roots, 12 extra nodes, 4 pruned nodes, max_depth=5\u001b[0m\n",
      "\u001b[31m[107]#011train-error:0.1#011validation-error:0.1544\u001b[0m\n",
      "\u001b[31m[18:22:29] src/tree/updater_prune.cc:74: tree pruning end, 1 roots, 10 extra nodes, 2 pruned nodes, max_depth=5\u001b[0m\n",
      "\u001b[31m[108]#011train-error:0.099533#011validation-error:0.1544\u001b[0m\n",
      "\u001b[31m[18:22:30] src/tree/updater_prune.cc:74: tree pruning end, 1 roots, 28 extra nodes, 6 pruned nodes, max_depth=5\u001b[0m\n",
      "\u001b[31m[109]#011train-error:0.098067#011validation-error:0.1531\u001b[0m\n",
      "\u001b[31m[18:22:31] src/tree/updater_prune.cc:74: tree pruning end, 1 roots, 26 extra nodes, 2 pruned nodes, max_depth=5\u001b[0m\n",
      "\u001b[31m[110]#011train-error:0.097333#011validation-error:0.153\u001b[0m\n",
      "\u001b[31m[18:22:32] src/tree/updater_prune.cc:74: tree pruning end, 1 roots, 10 extra nodes, 10 pruned nodes, max_depth=5\u001b[0m\n",
      "\u001b[31m[111]#011train-error:0.097133#011validation-error:0.1527\u001b[0m\n",
      "\u001b[31m[18:22:34] src/tree/updater_prune.cc:74: tree pruning end, 1 roots, 14 extra nodes, 6 pruned nodes, max_depth=5\u001b[0m\n",
      "\u001b[31m[112]#011train-error:0.096267#011validation-error:0.1521\u001b[0m\n",
      "\u001b[31m[18:22:35] src/tree/updater_prune.cc:74: tree pruning end, 1 roots, 26 extra nodes, 6 pruned nodes, max_depth=5\u001b[0m\n",
      "\u001b[31m[113]#011train-error:0.095333#011validation-error:0.1525\u001b[0m\n",
      "\u001b[31m[18:22:36] src/tree/updater_prune.cc:74: tree pruning end, 1 roots, 16 extra nodes, 10 pruned nodes, max_depth=5\u001b[0m\n",
      "\u001b[31m[114]#011train-error:0.094933#011validation-error:0.1522\u001b[0m\n",
      "\u001b[31m[18:22:37] src/tree/updater_prune.cc:74: tree pruning end, 1 roots, 12 extra nodes, 4 pruned nodes, max_depth=5\u001b[0m\n",
      "\u001b[31m[115]#011train-error:0.094667#011validation-error:0.1521\u001b[0m\n",
      "\u001b[31m[18:22:39] src/tree/updater_prune.cc:74: tree pruning end, 1 roots, 10 extra nodes, 0 pruned nodes, max_depth=5\u001b[0m\n",
      "\u001b[31m[116]#011train-error:0.094333#011validation-error:0.152\u001b[0m\n",
      "\u001b[31m[18:22:40] src/tree/updater_prune.cc:74: tree pruning end, 1 roots, 18 extra nodes, 6 pruned nodes, max_depth=5\u001b[0m\n",
      "\u001b[31m[117]#011train-error:0.093933#011validation-error:0.152\u001b[0m\n",
      "\u001b[31m[18:22:41] src/tree/updater_prune.cc:74: tree pruning end, 1 roots, 10 extra nodes, 8 pruned nodes, max_depth=5\u001b[0m\n",
      "\u001b[31m[118]#011train-error:0.093933#011validation-error:0.1517\u001b[0m\n",
      "\u001b[31m[18:22:43] src/tree/updater_prune.cc:74: tree pruning end, 1 roots, 12 extra nodes, 4 pruned nodes, max_depth=5\u001b[0m\n",
      "\u001b[31m[119]#011train-error:0.093267#011validation-error:0.1513\u001b[0m\n",
      "\u001b[31m[18:22:44] src/tree/updater_prune.cc:74: tree pruning end, 1 roots, 10 extra nodes, 6 pruned nodes, max_depth=5\u001b[0m\n",
      "\u001b[31m[120]#011train-error:0.093933#011validation-error:0.1516\u001b[0m\n",
      "\u001b[31m[18:22:45] src/tree/updater_prune.cc:74: tree pruning end, 1 roots, 12 extra nodes, 8 pruned nodes, max_depth=5\u001b[0m\n",
      "\u001b[31m[121]#011train-error:0.093133#011validation-error:0.1504\u001b[0m\n",
      "\u001b[31m[18:22:46] src/tree/updater_prune.cc:74: tree pruning end, 1 roots, 24 extra nodes, 12 pruned nodes, max_depth=5\u001b[0m\n",
      "\u001b[31m[122]#011train-error:0.093133#011validation-error:0.1512\u001b[0m\n",
      "\u001b[31m[18:22:48] src/tree/updater_prune.cc:74: tree pruning end, 1 roots, 10 extra nodes, 6 pruned nodes, max_depth=5\u001b[0m\n",
      "\u001b[31m[123]#011train-error:0.092533#011validation-error:0.15\u001b[0m\n",
      "\u001b[31m[18:22:49] src/tree/updater_prune.cc:74: tree pruning end, 1 roots, 10 extra nodes, 2 pruned nodes, max_depth=5\u001b[0m\n",
      "\u001b[31m[124]#011train-error:0.092333#011validation-error:0.1503\u001b[0m\n",
      "\u001b[31m[18:22:50] src/tree/updater_prune.cc:74: tree pruning end, 1 roots, 16 extra nodes, 6 pruned nodes, max_depth=5\u001b[0m\n",
      "\u001b[31m[125]#011train-error:0.0916#011validation-error:0.1501\u001b[0m\n",
      "\u001b[31m[18:22:51] src/tree/updater_prune.cc:74: tree pruning end, 1 roots, 14 extra nodes, 8 pruned nodes, max_depth=5\u001b[0m\n",
      "\u001b[31m[126]#011train-error:0.0914#011validation-error:0.1499\u001b[0m\n",
      "\u001b[31m[18:22:53] src/tree/updater_prune.cc:74: tree pruning end, 1 roots, 24 extra nodes, 12 pruned nodes, max_depth=5\u001b[0m\n",
      "\u001b[31m[127]#011train-error:0.0914#011validation-error:0.1494\u001b[0m\n",
      "\u001b[31m[18:22:54] src/tree/updater_prune.cc:74: tree pruning end, 1 roots, 26 extra nodes, 12 pruned nodes, max_depth=5\u001b[0m\n",
      "\u001b[31m[128]#011train-error:0.090933#011validation-error:0.1491\u001b[0m\n",
      "\u001b[31m[18:22:55] src/tree/updater_prune.cc:74: tree pruning end, 1 roots, 22 extra nodes, 8 pruned nodes, max_depth=5\u001b[0m\n",
      "\u001b[31m[129]#011train-error:0.089733#011validation-error:0.1497\u001b[0m\n",
      "\u001b[31m[18:22:56] src/tree/updater_prune.cc:74: tree pruning end, 1 roots, 22 extra nodes, 4 pruned nodes, max_depth=5\u001b[0m\n",
      "\u001b[31m[130]#011train-error:0.089267#011validation-error:0.1495\u001b[0m\n",
      "\u001b[31m[18:22:58] src/tree/updater_prune.cc:74: tree pruning end, 1 roots, 20 extra nodes, 6 pruned nodes, max_depth=5\u001b[0m\n",
      "\u001b[31m[131]#011train-error:0.089467#011validation-error:0.1493\u001b[0m\n",
      "\u001b[31m[18:22:59] src/tree/updater_prune.cc:74: tree pruning end, 1 roots, 24 extra nodes, 12 pruned nodes, max_depth=5\u001b[0m\n",
      "\u001b[31m[132]#011train-error:0.088667#011validation-error:0.149\u001b[0m\n",
      "\u001b[31m[18:23:00] src/tree/updater_prune.cc:74: tree pruning end, 1 roots, 14 extra nodes, 4 pruned nodes, max_depth=5\u001b[0m\n",
      "\u001b[31m[133]#011train-error:0.088533#011validation-error:0.1494\u001b[0m\n",
      "\u001b[31m[18:23:02] src/tree/updater_prune.cc:74: tree pruning end, 1 roots, 20 extra nodes, 12 pruned nodes, max_depth=5\u001b[0m\n",
      "\u001b[31m[134]#011train-error:0.087933#011validation-error:0.1482\u001b[0m\n",
      "\u001b[31m[18:23:03] src/tree/updater_prune.cc:74: tree pruning end, 1 roots, 18 extra nodes, 12 pruned nodes, max_depth=5\u001b[0m\n",
      "\u001b[31m[135]#011train-error:0.086933#011validation-error:0.1482\u001b[0m\n",
      "\u001b[31m[18:23:04] src/tree/updater_prune.cc:74: tree pruning end, 1 roots, 30 extra nodes, 6 pruned nodes, max_depth=5\u001b[0m\n",
      "\u001b[31m[136]#011train-error:0.0864#011validation-error:0.148\u001b[0m\n",
      "\u001b[31m[18:23:05] src/tree/updater_prune.cc:74: tree pruning end, 1 roots, 10 extra nodes, 8 pruned nodes, max_depth=5\u001b[0m\n",
      "\u001b[31m[137]#011train-error:0.086467#011validation-error:0.1478\u001b[0m\n",
      "\u001b[31m[18:23:07] src/tree/updater_prune.cc:74: tree pruning end, 1 roots, 14 extra nodes, 8 pruned nodes, max_depth=5\u001b[0m\n",
      "\u001b[31m[138]#011train-error:0.086#011validation-error:0.1469\u001b[0m\n",
      "\u001b[31m[18:23:08] src/tree/updater_prune.cc:74: tree pruning end, 1 roots, 28 extra nodes, 14 pruned nodes, max_depth=5\u001b[0m\n",
      "\u001b[31m[139]#011train-error:0.086267#011validation-error:0.1478\u001b[0m\n"
     ]
    },
    {
     "name": "stdout",
     "output_type": "stream",
     "text": [
      "\u001b[31m[18:23:09] src/tree/updater_prune.cc:74: tree pruning end, 1 roots, 16 extra nodes, 10 pruned nodes, max_depth=5\u001b[0m\n",
      "\u001b[31m[140]#011train-error:0.086#011validation-error:0.1472\u001b[0m\n",
      "\u001b[31m[18:23:10] src/tree/updater_prune.cc:74: tree pruning end, 1 roots, 12 extra nodes, 4 pruned nodes, max_depth=5\u001b[0m\n",
      "\u001b[31m[141]#011train-error:0.086067#011validation-error:0.1466\u001b[0m\n",
      "\u001b[31m[18:23:12] src/tree/updater_prune.cc:74: tree pruning end, 1 roots, 12 extra nodes, 8 pruned nodes, max_depth=5\u001b[0m\n",
      "\u001b[31m[142]#011train-error:0.085467#011validation-error:0.1472\u001b[0m\n",
      "\u001b[31m[18:23:13] src/tree/updater_prune.cc:74: tree pruning end, 1 roots, 14 extra nodes, 10 pruned nodes, max_depth=5\u001b[0m\n",
      "\u001b[31m[143]#011train-error:0.0858#011validation-error:0.1462\u001b[0m\n",
      "\u001b[31m[18:23:14] src/tree/updater_prune.cc:74: tree pruning end, 1 roots, 16 extra nodes, 10 pruned nodes, max_depth=5\u001b[0m\n",
      "\u001b[31m[144]#011train-error:0.085067#011validation-error:0.1467\u001b[0m\n",
      "\u001b[31m[18:23:15] src/tree/updater_prune.cc:74: tree pruning end, 1 roots, 28 extra nodes, 2 pruned nodes, max_depth=5\u001b[0m\n",
      "\u001b[31m[145]#011train-error:0.0842#011validation-error:0.1467\u001b[0m\n",
      "\u001b[31m[18:23:17] src/tree/updater_prune.cc:74: tree pruning end, 1 roots, 12 extra nodes, 0 pruned nodes, max_depth=5\u001b[0m\n",
      "\u001b[31m[146]#011train-error:0.083933#011validation-error:0.147\u001b[0m\n",
      "\u001b[31m[18:23:18] src/tree/updater_prune.cc:74: tree pruning end, 1 roots, 10 extra nodes, 8 pruned nodes, max_depth=5\u001b[0m\n",
      "\u001b[31m[147]#011train-error:0.0836#011validation-error:0.1474\u001b[0m\n",
      "\u001b[31m[18:23:19] src/tree/updater_prune.cc:74: tree pruning end, 1 roots, 24 extra nodes, 12 pruned nodes, max_depth=5\u001b[0m\n",
      "\u001b[31m[148]#011train-error:0.083733#011validation-error:0.1472\u001b[0m\n",
      "\u001b[31m[18:23:20] src/tree/updater_prune.cc:74: tree pruning end, 1 roots, 20 extra nodes, 6 pruned nodes, max_depth=5\u001b[0m\n",
      "\u001b[31m[149]#011train-error:0.082933#011validation-error:0.147\u001b[0m\n",
      "\u001b[31m[18:23:22] src/tree/updater_prune.cc:74: tree pruning end, 1 roots, 12 extra nodes, 6 pruned nodes, max_depth=5\u001b[0m\n",
      "\u001b[31m[150]#011train-error:0.082933#011validation-error:0.1466\u001b[0m\n",
      "\u001b[31m[18:23:23] src/tree/updater_prune.cc:74: tree pruning end, 1 roots, 12 extra nodes, 6 pruned nodes, max_depth=5\u001b[0m\n",
      "\u001b[31m[151]#011train-error:0.082267#011validation-error:0.147\u001b[0m\n",
      "\u001b[31m[18:23:24] src/tree/updater_prune.cc:74: tree pruning end, 1 roots, 12 extra nodes, 16 pruned nodes, max_depth=5\u001b[0m\n",
      "\u001b[31m[152]#011train-error:0.082133#011validation-error:0.1465\u001b[0m\n",
      "\u001b[31m[18:23:25] src/tree/updater_prune.cc:74: tree pruning end, 1 roots, 18 extra nodes, 6 pruned nodes, max_depth=5\u001b[0m\n",
      "\u001b[31m[153]#011train-error:0.081867#011validation-error:0.1457\u001b[0m\n",
      "\u001b[31m[18:23:27] src/tree/updater_prune.cc:74: tree pruning end, 1 roots, 24 extra nodes, 4 pruned nodes, max_depth=5\u001b[0m\n",
      "\u001b[31m[154]#011train-error:0.081667#011validation-error:0.1464\u001b[0m\n",
      "\u001b[31m[18:23:28] src/tree/updater_prune.cc:74: tree pruning end, 1 roots, 12 extra nodes, 12 pruned nodes, max_depth=5\u001b[0m\n",
      "\u001b[31m[155]#011train-error:0.0816#011validation-error:0.1466\u001b[0m\n",
      "\u001b[31m[18:23:29] src/tree/updater_prune.cc:74: tree pruning end, 1 roots, 12 extra nodes, 2 pruned nodes, max_depth=5\u001b[0m\n",
      "\u001b[31m[156]#011train-error:0.081333#011validation-error:0.1454\u001b[0m\n",
      "\u001b[31m[18:23:31] src/tree/updater_prune.cc:74: tree pruning end, 1 roots, 10 extra nodes, 10 pruned nodes, max_depth=5\u001b[0m\n",
      "\u001b[31m[157]#011train-error:0.081267#011validation-error:0.1453\u001b[0m\n",
      "\u001b[31m[18:23:32] src/tree/updater_prune.cc:74: tree pruning end, 1 roots, 22 extra nodes, 14 pruned nodes, max_depth=5\u001b[0m\n",
      "\u001b[31m[158]#011train-error:0.0804#011validation-error:0.1455\u001b[0m\n",
      "\u001b[31m[18:23:33] src/tree/updater_prune.cc:74: tree pruning end, 1 roots, 10 extra nodes, 0 pruned nodes, max_depth=5\u001b[0m\n",
      "\u001b[31m[159]#011train-error:0.079733#011validation-error:0.1457\u001b[0m\n",
      "\u001b[31m[18:23:34] src/tree/updater_prune.cc:74: tree pruning end, 1 roots, 12 extra nodes, 2 pruned nodes, max_depth=5\u001b[0m\n",
      "\u001b[31m[160]#011train-error:0.079867#011validation-error:0.1452\u001b[0m\n",
      "\u001b[31m[18:23:36] src/tree/updater_prune.cc:74: tree pruning end, 1 roots, 18 extra nodes, 10 pruned nodes, max_depth=5\u001b[0m\n",
      "\u001b[31m[161]#011train-error:0.079133#011validation-error:0.1442\u001b[0m\n",
      "\u001b[31m[18:23:37] src/tree/updater_prune.cc:74: tree pruning end, 1 roots, 22 extra nodes, 12 pruned nodes, max_depth=5\u001b[0m\n",
      "\u001b[31m[162]#011train-error:0.078667#011validation-error:0.1447\u001b[0m\n",
      "\u001b[31m[18:23:38] src/tree/updater_prune.cc:74: tree pruning end, 1 roots, 18 extra nodes, 12 pruned nodes, max_depth=5\u001b[0m\n",
      "\u001b[31m[163]#011train-error:0.078733#011validation-error:0.1447\u001b[0m\n",
      "\u001b[31m[18:23:39] src/tree/updater_prune.cc:74: tree pruning end, 1 roots, 16 extra nodes, 6 pruned nodes, max_depth=5\u001b[0m\n",
      "\u001b[31m[164]#011train-error:0.0782#011validation-error:0.1454\u001b[0m\n",
      "\u001b[31m[18:23:41] src/tree/updater_prune.cc:74: tree pruning end, 1 roots, 26 extra nodes, 4 pruned nodes, max_depth=5\u001b[0m\n",
      "\u001b[31m[165]#011train-error:0.077667#011validation-error:0.1438\u001b[0m\n",
      "\u001b[31m[18:23:42] src/tree/updater_prune.cc:74: tree pruning end, 1 roots, 24 extra nodes, 6 pruned nodes, max_depth=5\u001b[0m\n",
      "\u001b[31m[166]#011train-error:0.076933#011validation-error:0.1424\u001b[0m\n",
      "\u001b[31m[18:23:43] src/tree/updater_prune.cc:74: tree pruning end, 1 roots, 12 extra nodes, 2 pruned nodes, max_depth=5\u001b[0m\n",
      "\u001b[31m[167]#011train-error:0.076667#011validation-error:0.142\u001b[0m\n",
      "\u001b[31m[18:23:44] src/tree/updater_prune.cc:74: tree pruning end, 1 roots, 20 extra nodes, 4 pruned nodes, max_depth=5\u001b[0m\n",
      "\u001b[31m[168]#011train-error:0.075667#011validation-error:0.1423\u001b[0m\n",
      "\u001b[31m[18:23:46] src/tree/updater_prune.cc:74: tree pruning end, 1 roots, 14 extra nodes, 14 pruned nodes, max_depth=5\u001b[0m\n",
      "\u001b[31m[169]#011train-error:0.0756#011validation-error:0.1427\u001b[0m\n",
      "\u001b[31m[18:23:47] src/tree/updater_prune.cc:74: tree pruning end, 1 roots, 18 extra nodes, 10 pruned nodes, max_depth=5\u001b[0m\n",
      "\u001b[31m[170]#011train-error:0.074533#011validation-error:0.1424\u001b[0m\n",
      "\u001b[31m[18:23:48] src/tree/updater_prune.cc:74: tree pruning end, 1 roots, 10 extra nodes, 18 pruned nodes, max_depth=5\u001b[0m\n",
      "\u001b[31m[171]#011train-error:0.074533#011validation-error:0.1432\u001b[0m\n",
      "\u001b[31m[18:23:49] src/tree/updater_prune.cc:74: tree pruning end, 1 roots, 14 extra nodes, 4 pruned nodes, max_depth=5\u001b[0m\n",
      "\u001b[31m[172]#011train-error:0.074333#011validation-error:0.1434\u001b[0m\n",
      "\u001b[31m[18:23:51] src/tree/updater_prune.cc:74: tree pruning end, 1 roots, 10 extra nodes, 8 pruned nodes, max_depth=5\u001b[0m\n",
      "\u001b[31m[173]#011train-error:0.0738#011validation-error:0.1427\u001b[0m\n",
      "\u001b[31m[18:23:52] src/tree/updater_prune.cc:74: tree pruning end, 1 roots, 12 extra nodes, 8 pruned nodes, max_depth=5\u001b[0m\n",
      "\u001b[31m[174]#011train-error:0.0738#011validation-error:0.1428\u001b[0m\n",
      "\u001b[31m[18:23:53] src/tree/updater_prune.cc:74: tree pruning end, 1 roots, 16 extra nodes, 10 pruned nodes, max_depth=5\u001b[0m\n",
      "\u001b[31m[175]#011train-error:0.0734#011validation-error:0.1431\u001b[0m\n",
      "\u001b[31m[18:23:54] src/tree/updater_prune.cc:74: tree pruning end, 1 roots, 20 extra nodes, 2 pruned nodes, max_depth=5\u001b[0m\n",
      "\u001b[31m[176]#011train-error:0.072867#011validation-error:0.1434\u001b[0m\n",
      "\u001b[31m[18:23:56] src/tree/updater_prune.cc:74: tree pruning end, 1 roots, 14 extra nodes, 8 pruned nodes, max_depth=5\u001b[0m\n",
      "\u001b[31m[177]#011train-error:0.073#011validation-error:0.1435\u001b[0m\n",
      "\u001b[31mStopping. Best iteration:\u001b[0m\n",
      "\u001b[31m[167]#011train-error:0.076667#011validation-error:0.142\n",
      "\u001b[0m\n",
      "\n",
      "2019-08-02 18:24:05 Uploading - Uploading generated training model\n",
      "2019-08-02 18:24:05 Completed - Training job completed\n",
      "Billable seconds: 280\n"
     ]
    }
   ],
   "source": [
    "xgb.fit({'train': s3_input_train, 'validation': s3_input_validation})"
   ]
  },
  {
   "cell_type": "markdown",
   "metadata": {},
   "source": [
    "## Step 5: Testing the model\n",
    "\n",
    "Now that we've fit our XGBoost model, it's time to see how well it performs. To do this we will use SageMakers Batch Transform functionality. Batch Transform is a convenient way to perform inference on a large dataset in a way that is not realtime. That is, we don't necessarily need to use our model's results immediately and instead we can perform inference on a large number of samples. An example of this in industry might be performing an end of month report. This method of inference can also be useful to us as it means that we can perform inference on our entire test set. \n",
    "\n",
    "To perform a Batch Transformation we need to first create a transformer objects from our trained estimator object."
   ]
  },
  {
   "cell_type": "code",
   "execution_count": 24,
   "metadata": {},
   "outputs": [],
   "source": [
    "xgb_transformer = xgb.transformer(instance_count = 1, instance_type = 'ml.m4.xlarge') # 这个不是dl 里面的attn transformer 就是data.fit_transform"
   ]
  },
  {
   "cell_type": "markdown",
   "metadata": {},
   "source": [
    "Next we actually perform the transform job. When doing so we need to make sure to specify the type of data we are sending so that it is serialized correctly in the background. In our case we are providing our model with csv data so we specify `text/csv`. Also, if the test data that we have provided is too large to process all at once then we need to specify how the data file should be split up. Since each line is a single entry in our data set we tell SageMaker that it can split the input on each line."
   ]
  },
  {
   "cell_type": "code",
   "execution_count": 25,
   "metadata": {},
   "outputs": [],
   "source": [
    "xgb_transformer.transform(test_location, content_type='text/csv', split_type='Line')"
   ]
  },
  {
   "cell_type": "markdown",
   "metadata": {},
   "source": [
    "Currently the transform job is running but it is doing so in the background. Since we wish to wait until the transform job is done and we would like a bit of feedback we can run the `wait()` method."
   ]
  },
  {
   "cell_type": "code",
   "execution_count": 26,
   "metadata": {},
   "outputs": [
    {
     "name": "stdout",
     "output_type": "stream",
     "text": [
      "................................................!\n"
     ]
    }
   ],
   "source": [
    "xgb_transformer.wait() # 名字起得非常好，等等吧"
   ]
  },
  {
   "cell_type": "markdown",
   "metadata": {},
   "source": [
    "Now the transform job has executed and the result, the estimated sentiment of each review, has been saved on S3. Since we would rather work on this file locally we can perform a bit of notebook magic to copy the file to the `data_dir`."
   ]
  },
  {
   "cell_type": "code",
   "execution_count": 27,
   "metadata": {},
   "outputs": [
    {
     "name": "stdout",
     "output_type": "stream",
     "text": [
      "Completed 256.0 KiB/369.9 KiB (3.5 MiB/s) with 1 file(s) remaining\r",
      "Completed 369.9 KiB/369.9 KiB (4.9 MiB/s) with 1 file(s) remaining\r",
      "download: s3://sagemaker-us-east-1-399691565139/xgboost-2019-08-02-18-24-35-150/test.csv.out to ../data/sentiment_web_app/test.csv.out\r\n"
     ]
    }
   ],
   "source": [
    "!aws s3 cp --recursive $xgb_transformer.output_path $data_dir"
   ]
  },
  {
   "cell_type": "markdown",
   "metadata": {},
   "source": [
    "The last step is now to read in the output from our model, convert the output to something a little more usable, in this case we want the sentiment to be either `1` (positive) or `0` (negative), and then compare to the ground truth labels."
   ]
  },
  {
   "cell_type": "code",
   "execution_count": 28,
   "metadata": {},
   "outputs": [],
   "source": [
    "predictions = pd.read_csv(os.path.join(data_dir, 'test.csv.out'), header=None)\n",
    "predictions = [round(num) for num in predictions.squeeze().values]"
   ]
  },
  {
   "cell_type": "code",
   "execution_count": 29,
   "metadata": {},
   "outputs": [
    {
     "data": {
      "text/plain": [
       "0.85916"
      ]
     },
     "execution_count": 29,
     "metadata": {},
     "output_type": "execute_result"
    }
   ],
   "source": [
    "from sklearn.metrics import accuracy_score\n",
    "accuracy_score(test_y, predictions)"
   ]
  },
  {
   "cell_type": "markdown",
   "metadata": {},
   "source": [
    "## Step 6: Deploying the model\n",
    "\n",
    "Once we construct and fit our model, SageMaker stores the resulting model artifacts and we can use those to deploy an endpoint (inference code). To see this, look in the SageMaker console and you should see that a model has been created along with a link to the S3 location where the model artifacts have been stored.\n",
    "\n",
    "Deploying an endpoint is a lot like training the model with a few important differences. The first is that a deployed model doesn't change the model artifacts, so as you send it various testing instances the model won't change. Another difference is that since we aren't performing a fixed computation, as we were in the training step or while performing a batch transform, the compute instance that gets started stays running until we tell it to stop. This is important to note as if we forget and leave it running we will be charged the entire time.\n",
    "\n",
    "In other words **If you are no longer using a deployed endpoint, shut it down!**"
   ]
  },
  {
   "cell_type": "code",
   "execution_count": 30,
   "metadata": {},
   "outputs": [
    {
     "name": "stderr",
     "output_type": "stream",
     "text": [
      "Using already existing model: xgboost-2019-08-02-18-16-49-387\n"
     ]
    },
    {
     "name": "stdout",
     "output_type": "stream",
     "text": [
      "---------------------------------------------------------------------------------------------------!"
     ]
    }
   ],
   "source": [
    "xgb_predictor = xgb.deploy(initial_instance_count = 1, instance_type = 'ml.m4.xlarge') # 直接调用estimator 就可以deloy。\n",
    "#这里就产生了endpoint 了。 train 好的model 一直放在了 一个instance 上，随时输入data 就可以有结果。\n",
    "#一切都藏在这个新变量里面。"
   ]
  },
  {
   "cell_type": "markdown",
   "metadata": {},
   "source": [
    "### Testing the model (again)\n",
    "\n",
    "Now that we have deployed our endpoint, we can send the testing data to it and get back the inference results. We already did this earlier using the batch transform functionality of SageMaker, however, we will test our model again using the newly deployed endpoint so that we can make sure that it works properly and to get a bit of a feel for how the endpoint works.\n",
    "\n",
    "When using the created endpoint it is important to know that we are limited in the amount of information we can send in each call so we need to break the testing data up into chunks and then send each chunk. Also, we need to serialize our data before we send it to the endpoint to ensure that our data is transmitted properly. Fortunately, SageMaker can do the serialization part for us provided we tell it the format of our data."
   ]
  },
  {
   "cell_type": "code",
   "execution_count": 31,
   "metadata": {},
   "outputs": [],
   "source": [
    "from sagemaker.predictor import csv_serializer\n",
    "# 给它装上转换器，可以读csv\n",
    "\n",
    "# We need to tell the endpoint what format the data we are sending is in so that SageMaker can perform the serialization.\n",
    "xgb_predictor.content_type = 'text/csv'\n",
    "xgb_predictor.serializer = csv_serializer"
   ]
  },
  {
   "cell_type": "code",
   "execution_count": 32,
   "metadata": {},
   "outputs": [],
   "source": [
    "# We split the data into chunks and send each chunk seperately, accumulating the results.\n",
    "\n",
    "def predict(data, rows=512):\n",
    "    split_array = np.array_split(data, int(data.shape[0] / float(rows) + 1))\n",
    "    predictions = ''\n",
    "    for array in split_array:\n",
    "        predictions = ','.join([predictions, xgb_predictor.predict(array).decode('utf-8')])\n",
    "    \n",
    "    return np.fromstring(predictions[1:], sep=',')"
   ]
  },
  {
   "cell_type": "code",
   "execution_count": 33,
   "metadata": {},
   "outputs": [],
   "source": [
    "test_X = pd.read_csv(os.path.join(data_dir, 'test.csv'), header=None).values\n",
    "\n",
    "predictions = predict(test_X)\n",
    "predictions = [round(num) for num in predictions]"
   ]
  },
  {
   "cell_type": "markdown",
   "metadata": {},
   "source": [
    "Lastly, we check to see what the accuracy of our model is."
   ]
  },
  {
   "cell_type": "code",
   "execution_count": 34,
   "metadata": {},
   "outputs": [
    {
     "data": {
      "text/plain": [
       "0.85916"
      ]
     },
     "execution_count": 34,
     "metadata": {},
     "output_type": "execute_result"
    }
   ],
   "source": [
    "from sklearn.metrics import accuracy_score\n",
    "accuracy_score(test_y, predictions)"
   ]
  },
  {
   "cell_type": "markdown",
   "metadata": {},
   "source": [
    "And the results here should agree with the model testing that we did earlier using the batch transform job.\n",
    "\n",
    "### Cleaning up\n",
    "\n",
    "Now that we've determined that deploying our model works as expected, we are going to shut it down. Remember that the longer the endpoint is left running, the greater the cost and since we have a bit more work to do before we are able to use our endpoint with our simple web app, we should shut everything down."
   ]
  },
  {
   "cell_type": "code",
   "execution_count": 35,
   "metadata": {},
   "outputs": [],
   "source": [
    "xgb_predictor.delete_endpoint() # 不用了要删掉，不然会一直扣费\n"
   ]
  },
  {
   "cell_type": "markdown",
   "metadata": {},
   "source": [
    "## Step 7: Putting our model to work\n",
    "\n",
    "As we've mentioned a few times now, our goal is to have our model deployed and then access it using a very simple web app. The intent is for this web app to take some user submitted data (a review), send it off to our endpoint (the model) and then display the result.\n",
    "\n",
    "However, there is a small catch. Currently the only way we can access the endpoint to send it data is using the SageMaker API. We can, if we wish, expose the actual URL that our model's endpoint is receiving data from, however, if we just send it data ourselves we will not get anything in return. This is because the endpoint created by SageMaker requires the entity accessing it have the correct permissions. So, we would need to somehow authenticate our web app with AWS.\n",
    "\n",
    "Having a website that authenticates to AWS seems a bit beyond the scope of this lesson so we will opt for an alternative approach. Namely, we will create a new endpoint which does not require authentication and which acts as a proxy for the SageMaker endpoint.\n",
    "\n",
    "As an additional constraint, we will try to avoid doing any data processing in the web app itself. Remember that when we constructed and tested our model we started with a movie review, then we simplified it by removing any html formatting and punctuation, then we constructed a bag of words embedding and the resulting vector is what we sent to our model. All of this needs to be done to our user input as well.\n",
    "\n",
    "Fortunately we can do all of this data processing in the backend, using Amazon's Lambda service.\n",
    "\n",
    "<img src=\"Web App Diagram.svg\">\n",
    "\n",
    "The diagram above gives an overview of how the various services will work together. On the far right is the model which we trained above and which will be deployed using SageMaker. On the far left is our web app that collects a user's movie review, sends it off and expects a positive or negative sentiment in return.\n",
    "\n",
    "In the middle is where some of the magic happens. We will construct a Lambda function, which you can think of as a straightforward Python function that can be executed whenever a specified event occurs. This Python function will do the data processing we need to perform on a user submitted review. In addition, we will give this function permission to send and recieve data from a SageMaker endpoint.\n",
    "\n",
    "Lastly, the method we will use to execute the Lambda function is a new endpoint that we will create using API Gateway. This endpoint will be a url that listens for data to be sent to it. Once it gets some data it will pass that data on to the Lambda function and then return whatever the Lambda function returns. Essentially it will act as an interface that lets our web app communicate with the Lambda function.\n",
    "\n",
    "### Processing a single review\n",
    "\n",
    "For now, suppose we are given a movie review by our user in the form of a string, like so:"
   ]
  },
  {
   "cell_type": "code",
   "execution_count": 36,
   "metadata": {},
   "outputs": [],
   "source": [
    "# 用一个普通的data 我们来做测试\n",
    "test_review = \"Nothing but a disgusting materialistic pageant of glistening abed remote control greed zombies, totally devoid of any heart or heat. A romantic comedy that has zero romantic chemestry and zero laughs!\""
   ]
  },
  {
   "cell_type": "markdown",
   "metadata": {},
   "source": [
    "How do we go from this string to the bag of words feature vector that is expected by our model?\n",
    "\n",
    "If we recall at the beginning of this notebook, the first step is to remove any unnecessary characters using the `review_to_words` method. Remember that we intentionally did this in a very simplistic way. This is because we are going to have to copy this method to our (eventual) Lambda function (we will go into more detail later) and this means it needs to be rather simplistic."
   ]
  },
  {
   "cell_type": "code",
   "execution_count": 37,
   "metadata": {},
   "outputs": [
    {
     "name": "stdout",
     "output_type": "stream",
     "text": [
      "nothing but a disgusting materialistic pageant of glistening abed remote control greed zombies totally devoid of any heart or heat a romantic comedy that has zero romantic chemestry and zero laughs\n"
     ]
    }
   ],
   "source": [
    "test_words = review_to_words(test_review)\n",
    "print(test_words)"
   ]
  },
  {
   "cell_type": "markdown",
   "metadata": {},
   "source": [
    "Next, we need to construct a bag of words embedding of the `test_words` string. To do this, remember that a bag of words embedding uses a `vocabulary` consisting of the most frequently appearing words in a set of documents. Then, for each word in the vocabulary we record the number of times that word appears in `test_words`. We constructed the `vocabulary` earlier using the training set for our problem so encoding `test_words` is relatively straightforward."
   ]
  },
  {
   "cell_type": "code",
   "execution_count": 38,
   "metadata": {},
   "outputs": [],
   "source": [
    "# 就是变成one-hot\n",
    "def bow_encoding(words, vocabulary):\n",
    "    bow = [0] * len(vocabulary) # Start by setting the count for each word in the vocabulary to zero.\n",
    "    for word in words.split():  # For each word in the string\n",
    "        if word in vocabulary:  # If the word is one that occurs in the vocabulary, increase its count.\n",
    "            bow[vocabulary[word]] += 1\n",
    "    return bow"
   ]
  },
  {
   "cell_type": "code",
   "execution_count": 39,
   "metadata": {},
   "outputs": [
    {
     "name": "stdout",
     "output_type": "stream",
     "text": [
      "[0, 0, 0, 0, 0, 0, 0, 0, 0, 0, 0, 0, 0, 0, 0, 0, 0, 0, 0, 0, 0, 0, 0, 0, 0, 0, 0, 0, 0, 0, 0, 0, 0, 0, 0, 0, 0, 0, 0, 0, 0, 0, 0, 0, 0, 0, 0, 0, 0, 0, 0, 0, 0, 0, 0, 0, 0, 0, 0, 0, 0, 0, 0, 0, 0, 0, 0, 0, 0, 0, 0, 0, 0, 0, 0, 0, 0, 0, 0, 0, 0, 0, 0, 0, 0, 0, 0, 0, 0, 0, 0, 0, 0, 0, 0, 0, 0, 0, 0, 0, 0, 0, 0, 0, 0, 0, 0, 0, 0, 0, 0, 0, 0, 0, 0, 0, 0, 0, 0, 0, 0, 0, 0, 0, 0, 0, 0, 0, 0, 0, 0, 0, 0, 0, 0, 0, 0, 0, 0, 0, 0, 0, 0, 0, 0, 0, 0, 0, 0, 0, 0, 0, 0, 0, 0, 0, 0, 0, 0, 0, 0, 0, 0, 0, 0, 0, 0, 0, 0, 0, 0, 0, 0, 0, 0, 0, 0, 0, 0, 0, 0, 0, 0, 0, 0, 0, 0, 0, 0, 0, 0, 0, 0, 0, 0, 0, 0, 0, 0, 0, 0, 0, 0, 0, 0, 0, 0, 0, 0, 0, 0, 0, 0, 0, 0, 0, 0, 0, 0, 0, 0, 0, 0, 0, 0, 0, 1, 0, 0, 0, 0, 0, 0, 0, 0, 0, 0, 0, 0, 0, 0, 0, 0, 0, 0, 0, 0, 0, 0, 0, 0, 0, 0, 0, 0, 0, 1, 0, 0, 0, 0, 0, 0, 0, 0, 0, 0, 0, 0, 0, 0, 0, 0, 0, 0, 0, 0, 0, 0, 0, 0, 0, 0, 0, 0, 0, 0, 0, 0, 0, 0, 0, 0, 0, 0, 0, 0, 0, 0, 0, 0, 0, 0, 0, 0, 0, 0, 0, 0, 0, 0, 0, 0, 0, 0, 0, 0, 0, 0, 0, 0, 0, 0, 0, 0, 0, 0, 0, 0, 0, 0, 0, 0, 0, 0, 0, 0, 0, 0, 0, 0, 0, 0, 0, 0, 0, 0, 0, 0, 0, 0, 0, 0, 0, 0, 0, 0, 0, 0, 0, 0, 0, 0, 0, 0, 0, 0, 0, 0, 0, 0, 0, 0, 0, 0, 0, 0, 0, 0, 0, 0, 0, 0, 0, 0, 0, 0, 0, 0, 0, 0, 0, 0, 0, 0, 0, 0, 0, 0, 0, 0, 0, 0, 0, 0, 0, 0, 0, 0, 0, 0, 0, 0, 0, 0, 0, 0, 0, 0, 0, 0, 0, 0, 0, 0, 0, 0, 0, 0, 0, 0, 0, 0, 0, 0, 0, 0, 0, 0, 0, 0, 0, 0, 0, 0, 0, 0, 0, 0, 0, 0, 0, 0, 0, 0, 0, 0, 0, 0, 0, 0, 0, 0, 0, 0, 0, 0, 0, 0, 0, 0, 0, 0, 0, 0, 0, 0, 0, 0, 0, 0, 0, 0, 0, 0, 0, 0, 0, 0, 0, 0, 0, 0, 0, 0, 0, 0, 0, 0, 0, 0, 0, 0, 0, 0, 0, 0, 0, 0, 0, 0, 0, 0, 0, 0, 0, 0, 0, 0, 0, 0, 0, 0, 0, 0, 0, 0, 0, 0, 0, 0, 0, 0, 0, 0, 0, 0, 0, 0, 0, 0, 0, 0, 0, 0, 0, 0, 0, 0, 0, 0, 0, 0, 0, 0, 0, 0, 0, 0, 0, 0, 0, 0, 0, 0, 0, 0, 0, 0, 0, 0, 0, 0, 0, 0, 0, 0, 0, 0, 0, 0, 0, 0, 0, 0, 0, 0, 0, 0, 0, 0, 0, 0, 0, 0, 0, 0, 0, 0, 0, 0, 0, 0, 0, 0, 0, 0, 0, 0, 0, 0, 0, 0, 0, 0, 0, 0, 0, 0, 0, 0, 0, 0, 0, 0, 0, 0, 0, 0, 0, 0, 0, 0, 0, 0, 0, 1, 0, 0, 0, 0, 0, 0, 0, 0, 0, 0, 0, 0, 0, 0, 0, 0, 0, 0, 0, 0, 0, 0, 0, 0, 0, 0, 0, 0, 0, 0, 0, 0, 0, 0, 0, 0, 0, 0, 0, 0, 0, 0, 0, 0, 0, 0, 0, 0, 0, 0, 0, 0, 0, 0, 0, 0, 0, 0, 0, 0, 0, 0, 0, 0, 0, 0, 0, 0, 0, 0, 0, 0, 0, 0, 0, 0, 0, 0, 0, 0, 0, 0, 0, 0, 0, 0, 0, 0, 0, 0, 0, 0, 0, 0, 0, 0, 0, 0, 0, 0, 0, 0, 0, 0, 0, 0, 0, 0, 0, 0, 0, 0, 0, 0, 0, 0, 0, 0, 0, 0, 0, 0, 0, 0, 0, 0, 0, 0, 0, 0, 0, 0, 0, 0, 0, 0, 0, 0, 0, 0, 0, 0, 0, 0, 0, 0, 0, 0, 0, 0, 0, 0, 0, 0, 0, 0, 0, 0, 0, 0, 0, 0, 0, 0, 0, 0, 0, 0, 0, 0, 0, 0, 0, 0, 0, 0, 0, 0, 0, 0, 0, 0, 0, 0, 0, 0, 0, 0, 0, 0, 0, 0, 0, 0, 0, 0, 0, 0, 0, 0, 0, 0, 0, 0, 0, 0, 0, 0, 0, 0, 0, 0, 0, 0, 0, 0, 0, 0, 0, 0, 0, 0, 0, 0, 0, 0, 0, 0, 0, 0, 0, 0, 0, 0, 0, 0, 0, 0, 0, 0, 0, 0, 0, 0, 0, 0, 0, 0, 0, 0, 0, 0, 0, 1, 0, 0, 0, 0, 0, 0, 0, 0, 0, 0, 0, 0, 0, 0, 0, 0, 0, 0, 0, 0, 0, 0, 0, 0, 0, 0, 0, 0, 0, 0, 0, 0, 0, 0, 0, 0, 0, 0, 0, 0, 0, 0, 0, 0, 0, 0, 0, 0, 0, 0, 0, 0, 0, 0, 0, 0, 0, 0, 0, 0, 0, 0, 0, 0, 0, 0, 0, 0, 0, 0, 0, 0, 0, 0, 0, 0, 0, 0, 0, 0, 0, 0, 0, 0, 0, 0, 1, 0, 0, 0, 0, 0, 0, 0, 0, 0, 0, 0, 0, 0, 0, 0, 0, 0, 0, 0, 0, 0, 0, 0, 0, 0, 0, 0, 0, 0, 0, 0, 0, 0, 0, 0, 0, 0, 0, 0, 0, 0, 0, 0, 0, 0, 0, 0, 0, 0, 0, 0, 0, 0, 0, 0, 0, 0, 0, 0, 0, 0, 0, 0, 0, 0, 0, 0, 0, 0, 0, 0, 0, 0, 0, 0, 0, 0, 0, 0, 0, 0, 0, 0, 0, 0, 0, 0, 0, 0, 0, 0, 0, 0, 0, 0, 0, 0, 0, 0, 0, 0, 0, 0, 0, 0, 0, 0, 0, 0, 0, 0, 0, 0, 0, 0, 0, 0, 0, 0, 0, 0, 0, 0, 0, 0, 0, 0, 0, 0, 0, 0, 0, 0, 0, 0, 0, 0, 0, 0, 0, 0, 0, 0, 0, 0, 0, 0, 0, 0, 0, 0, 0, 0, 0, 0, 0, 0, 0, 0, 0, 0, 0, 0, 0, 0, 0, 0, 0, 0, 0, 0, 0, 0, 0, 0, 0, 0, 0, 0, 0, 0, 0, 0, 0, 0, 0, 0, 0, 0, 0, 0, 0, 0, 0, 0, 0, 0, 0, 0, 0, 0, 0, 0, 0, 0, 0, 0, 0, 0, 0, 0, 0, 0, 0, 0, 0, 0, 0, 0, 0, 0, 0, 0, 0, 0, 0, 0, 0, 0, 0, 0, 0, 0, 0, 0, 0, 0, 0, 0, 0, 0, 0, 0, 0, 0, 0, 0, 0, 0, 0, 0, 0, 1, 0, 0, 0, 0, 0, 0, 0, 0, 0, 0, 0, 0, 0, 0, 0, 0, 0, 0, 0, 0, 0, 0, 0, 0, 0, 0, 0, 0, 0, 0, 0, 0, 0, 0, 0, 0, 0, 0, 0, 0, 0, 0, 0, 0, 0, 0, 0, 0, 0, 0, 0, 0, 0, 0, 0, 1, 0, 0, 0, 0, 0, 0, 0, 0, 0, 0, 0, 0, 0, 0, 0, 0, 0, 0, 0, 0, 0, 0, 0, 0, 0, 0, 0, 0, 0, 0, 0, 0, 0, 0, 0, 0, 0, 0, 0, 0, 0, 0, 0, 0, 0, 0, 0, 0, 0, 0, 0, 0, 0, 0, 0, 0, 0, 0, 0, 0, 0, 0, 0, 0, 0, 0, 0, 0, 0, 0, 0, 0, 0, 0, 0, 0, 0, 0, 0, 0, 0, 0, 0, 0, 0, 0, 0, 0, 0, 0, 0, 0, 0, 0, 0, 0, 0, 0, 0, 0, 0, 0, 0, 0, 0, 0, 0, 0, 0, 0, 0, 0, 0, 0, 0, 0, 0, 0, 0, 0, 0, 0, 0, 0, 0, 0, 0, 0, 0, 0, 0, 0, 0, 0, 0, 0, 0, 0, 0, 0, 0, 0, 0, 0, 0, 0, 0, 0, 0, 0, 0, 0, 0, 0, 0, 0, 0, 0, 0, 0, 0, 0, 0, 0, 0, 0, 0, 0, 0, 0, 0, 0, 0, 0, 0, 0, 0, 0, 0, 0, 0, 0, 0, 0, 0, 0, 0, 0, 0, 0, 0, 0, 0, 0, 0, 0, 0, 0, 0, 0, 0, 0, 0, 0, 0, 0, 0, 0, 0, 0, 0, 0, 0, 0, 0, 0, 0, 0, 0, 0, 0, 0, 0, 0, 0, 0, 0, 0, 0, 0, 0, 0, 0, 0, 0, 0, 0, 0, 0, 0, 0, 0, 0, 0, 0, 0, 0, 0, 0, 0, 0, 0, 0, 0, 0, 0, 0, 0, 0, 0, 0, 0, 0, 0, 0, 0, 0, 0, 0, 0, 0, 0, 0, 0, 0, 0, 0, 0, 0, 0, 0, 0, 0, 0, 0, 0, 0, 0, 0, 0, 0, 0, 0, 0, 0, 0, 0, 0, 0, 0, 0, 0, 0, 0, 0, 0, 0, 0, 0, 0, 0, 0, 0, 0, 0, 0, 0, 0, 0, 0, 0, 0, 0, 0, 0, 0, 0, 0, 0, 0, 0, 0, 0, 0, 0, 0, 0, 0, 0, 0, 0, 0, 0, 0, 0, 0, 0, 0, 0, 0, 0, 0, 0, 0, 0, 0, 0, 0, 0, 0, 0, 0, 0, 0, 0, 0, 0, 0, 0, 0, 0, 0, 0, 0, 0, 0, 0, 0, 0, 0, 0, 0, 0, 0, 0, 0, 0, 0, 0, 0, 0, 0, 0, 0, 0, 0, 0, 0, 0, 0, 0, 0, 0, 0, 0, 0, 0, 0, 0, 0, 0, 0, 0, 0, 0, 0, 0, 0, 0, 0, 0, 0, 0, 0, 0, 0, 0, 0, 0, 0, 0, 0, 0, 0, 0, 0, 0, 0, 0, 0, 0, 0, 0, 0, 0, 0, 0, 0, 0, 0, 0, 0, 0, 0, 0, 0, 0, 0, 0, 0, 0, 0, 0, 0, 0, 0, 0, 0, 0, 0, 0, 0, 0, 0, 0, 0, 0, 0, 0, 0, 0, 0, 0, 0, 0, 0, 0, 0, 0, 0, 0, 0, 0, 0, 0, 0, 0, 0, 0, 0, 0, 0, 0, 0, 0, 0, 0, 0, 0, 0, 0, 0, 0, 0, 0, 0, 0, 0, 0, 0, 0, 0, 0, 0, 0, 0, 0, 0, 0, 0, 0, 0, 0, 0, 0, 0, 0, 0, 0, 0, 0, 0, 0, 0, 0, 0, 0, 0, 0, 0, 0, 0, 0, 0, 0, 0, 0, 0, 0, 0, 0, 0, 0, 0, 0, 0, 0, 0, 0, 0, 0, 0, 0, 0, 0, 0, 0, 0, 0, 0, 0, 0, 0, 0, 0, 0, 0, 0, 0, 0, 0, 0, 0, 0, 0, 0, 0, 0, 0, 0, 0, 0, 0, 0, 0, 0, 0, 0, 0, 0, 0, 0, 0, 0, 0, 0, 0, 0, 0, 0, 0, 0, 0, 0, 0, 0, 0, 0, 0, 0, 0, 0, 0, 0, 0, 0, 0, 0, 0, 0, 0, 0, 0, 0, 0, 0, 0, 0, 0, 0, 0, 0, 0, 0, 0, 0, 0, 0, 0, 0, 0, 0, 0, 0, 0, 0, 0, 0, 0, 0, 0, 0, 0, 0, 0, 0, 0, 0, 0, 0, 0, 1, 0, 0, 0, 0, 0, 0, 0, 0, 0, 0, 0, 0, 0, 0, 0, 0, 0, 0, 0, 0, 0, 0, 0, 0, 0, 0, 0, 0, 0, 0, 0, 0, 0, 0, 0, 0, 0, 0, 0, 0, 0, 0, 0, 0, 0, 0, 0, 0, 0, 0, 0, 0, 0, 0, 0, 0, 0, 0, 0, 0, 0, 0, 0, 0, 0, 0, 0, 0, 0, 0, 0, 0, 0, 0, 1, 0, 0, 0, 0, 0, 0, 0, 0, 0, 0, 0, 0, 0, 0, 0, 0, 0, 0, 0, 0, 1, 0, 0, 1, 0, 0, 0, 0, 0, 0, 0, 0, 0, 0, 0, 0, 0, 0, 0, 0, 0, 0, 0, 0, 0, 0, 0, 0, 0, 0, 0, 0, 0, 0, 0, 0, 0, 0, 0, 0, 0, 0, 0, 0, 0, 0, 0, 0, 0, 0, 0, 0, 0, 0, 0, 0, 0, 0, 0, 0, 0, 0, 0, 0, 0, 0, 0, 0, 0, 0, 0, 0, 0, 0, 0, 0, 0, 0, 0, 0, 0, 0, 0, 0, 0, 0, 0, 0, 0, 0, 0, 0, 0, 0, 0, 0, 0, 0, 0, 0, 0, 0, 0, 0, 0, 0, 0, 0, 0, 0, 0, 0, 0, 0, 0, 0, 0, 0, 0, 0, 0, 0, 0, 0, 0, 0, 0, 0, 0, 0, 0, 0, 0, 0, 0, 0, 0, 0, 0, 0, 0, 0, 0, 0, 0, 0, 0, 0, 0, 0, 0, 0, 0, 0, 0, 0, 0, 0, 0, 0, 0, 0, 0, 0, 0, 0, 0, 0, 0, 0, 0, 0, 0, 0, 0, 0, 0, 0, 0, 0, 0, 0, 0, 0, 0, 0, 0, 0, 0, 0, 0, 0, 0, 0, 0, 0, 0, 0, 0, 0, 0, 0, 0, 0, 0, 0, 0, 0, 0, 0, 0, 0, 0, 0, 0, 0, 0, 0, 0, 0, 0, 0, 0, 0, 0, 0, 0, 0, 0, 0, 0, 0, 0, 0, 0, 0, 0, 0, 0, 0, 0, 0, 0, 0, 0, 0, 0, 0, 0, 0, 0, 0, 0, 0, 0, 0, 0, 0, 0, 0, 0, 0, 0, 0, 0, 0, 0, 0, 0, 0, 0, 0, 0, 0, 0, 0, 0, 0, 0, 0, 0, 0, 0, 0, 0, 0, 0, 0, 0, 0, 0, 0, 0, 0, 0, 0, 0, 0, 0, 0, 0, 0, 0, 0, 0, 0, 0, 0, 0, 0, 0, 0, 0, 0, 0, 0, 0, 0, 0, 0, 0, 0, 0, 0, 0, 0, 0, 0, 0, 0, 0, 0, 0, 0, 0, 0, 0, 0, 0, 0, 0, 0, 0, 0, 0, 0, 0, 0, 0, 0, 0, 0, 0, 0, 0, 0, 0, 0, 0, 0, 0, 0, 0, 0, 0, 0, 0, 0, 0, 0, 0, 0, 0, 0, 0, 0, 0, 0, 0, 0, 0, 0, 0, 0, 0, 0, 0, 0, 0, 0, 0, 0, 0, 0, 0, 0, 0, 0, 0, 0, 0, 0, 0, 0, 0, 0, 0, 0, 0, 0, 0, 0, 0, 0, 0, 0, 0, 0, 0, 0, 0, 0, 0, 0, 0, 0, 0, 0, 0, 0, 0, 0, 0, 0, 0, 0, 0, 0, 0, 0, 0, 0, 0, 0, 0, 0, 0, 0, 0, 0, 0, 0, 0, 0, 0, 0, 0, 0, 0, 0, 0, 0, 0, 0, 0, 0, 0, 0, 0, 0, 1, 0, 0, 0, 0, 0, 0, 0, 0, 0, 0, 0, 0, 0, 0, 0, 0, 0, 0, 0, 0, 0, 0, 0, 0, 0, 0, 0, 0, 0, 0, 0, 0, 0, 0, 0, 0, 0, 0, 0, 0, 0, 0, 0, 0, 0, 0, 0, 0, 0, 0, 0, 0, 0, 0, 0, 0, 0, 0, 0, 0, 0, 0, 0, 0, 0, 0, 0, 0, 0, 0, 0, 0, 0, 0, 0, 0, 0, 0, 0, 0, 0, 0, 0, 0, 0, 0, 0, 0, 0, 0, 0, 0, 0, 0, 0, 0, 0, 0, 0, 0, 0, 0, 0, 0, 0, 0, 0, 0, 0, 0, 0, 0, 0, 0, 0, 0, 0, 0, 0, 0, 0, 0, 0, 0, 0, 0, 0, 0, 0, 0, 0, 0, 0, 0, 0, 0, 0, 0, 0, 0, 0, 0, 0, 0, 0, 0, 0, 0, 0, 0, 0, 0, 0, 0, 0, 0, 0, 0, 0, 0, 0, 0, 0, 0, 0, 0, 0, 0, 0, 0, 0, 0, 0, 0, 0, 0, 0, 0, 0, 0, 0, 0, 0, 0, 0, 0, 0, 0, 0, 0, 0, 0, 0, 0, 0, 0, 0, 0, 0, 0, 0, 0, 0, 0, 0, 0, 0, 0, 0, 0, 0, 0, 0, 0, 0, 0, 0, 0, 0, 0, 0, 0, 0, 0, 0, 0, 0, 0, 0, 0, 0, 0, 0, 0, 0, 0, 0, 0, 0, 0, 0, 0, 0, 0, 0, 0, 0, 0, 0, 0, 0, 0, 0, 0, 0, 0, 0, 0, 0, 0, 0, 0, 0, 0, 0, 0, 0, 0, 0, 0, 0, 0, 0, 0, 0, 0, 0, 0, 0, 0, 0, 0, 0, 0, 0, 0, 0, 0, 0, 0, 0, 0, 0, 0, 0, 0, 0, 0, 0, 0, 0, 0, 0, 0, 0, 0, 0, 0, 0, 0, 0, 0, 0, 0, 0, 0, 0, 0, 0, 0, 0, 0, 0, 0, 0, 0, 0, 0, 0, 0, 0, 0, 0, 0, 0, 0, 0, 0, 0, 0, 0, 0, 0, 0, 0, 0, 0, 0, 0, 0, 0, 0, 0, 0, 0, 0, 0, 0, 0, 0, 0, 0, 0, 0, 0, 0, 0, 0, 0, 0, 0, 0, 0, 0, 0, 0, 0, 0, 0, 0, 0, 0, 0, 0, 0, 0, 0, 0, 0, 0, 0, 0, 0, 0, 0, 0, 0, 0, 0, 0, 0, 0, 0, 0, 0, 0, 0, 0, 0, 0, 0, 0, 0, 0, 0, 0, 0, 0, 0, 0, 0, 0, 0, 0, 0, 0, 0, 0, 0, 0, 0, 0, 0, 0, 0, 0, 0, 0, 0, 0, 0, 0, 0, 0, 0, 0, 0, 0, 0, 0, 0, 0, 0, 0, 0, 0, 0, 0, 0, 0, 0, 0, 0, 0, 0, 0, 0, 0, 0, 0, 0, 0, 0, 0, 0, 0, 0, 0, 0, 0, 0, 0, 0, 0, 0, 0, 0, 0, 0, 0, 0, 0, 0, 0, 0, 0, 0, 0, 0, 0, 0, 0, 0, 0, 0, 0, 0, 0, 0, 0, 0, 0, 1, 0, 0, 0, 0, 0, 0, 0, 0, 0, 0, 0, 0, 0, 0, 0, 0, 0, 0, 0, 0, 0, 0, 0, 0, 0, 0, 0, 0, 0, 0, 0, 0, 0, 0, 0, 2, 0, 0, 0, 0, 0, 0, 0, 0, 0, 0, 0, 0, 0, 0, 0, 0, 0, 0, 0, 0, 0, 0, 0, 0, 0, 0, 0, 0, 0, 0, 0, 0, 0, 0, 0, 0, 0, 0, 0, 0, 1, 0, 0, 0, 0, 0, 0, 0, 0, 0, 0, 0, 0, 0, 0, 0, 0, 0, 0, 0, 0, 0, 0, 0, 0, 0, 0, 0, 0, 0, 0, 0, 0, 0, 0, 0, 0, 0, 0, 0, 0, 0, 0, 0, 0, 0, 0, 0, 0, 0, 0, 0, 0, 0, 0, 0, 0, 0, 0, 0, 0, 0, 0, 0, 0, 0, 0, 0, 0, 0, 0, 0, 0, 0, 0, 0, 0, 0, 0, 0, 0, 0, 0, 0, 0, 0, 0, 0, 0, 0, 0, 0, 0, 0, 0, 0, 0, 0, 0, 0, 0, 0, 0, 0, 0, 0, 0, 0, 0, 0, 0, 0, 0, 0, 0, 0, 0, 0, 0, 0, 0, 0, 0, 0, 0, 0, 0, 0, 0, 0, 0, 0, 0, 0, 0, 0, 0, 0, 0, 0, 0, 0, 0, 0, 0, 0, 0, 0, 0, 0, 0, 0, 0, 0, 0, 0, 0, 0, 0, 0, 0, 0, 0, 0, 0, 0, 0, 0, 0, 0, 0, 0, 0, 0, 0, 0, 0, 0, 0, 0, 0, 0, 0, 0, 0, 0, 0, 0, 0, 0, 0, 0, 0, 0, 0, 0, 0, 0, 0, 0, 0, 0, 0, 0, 0, 0, 0, 0, 0, 0, 0, 0, 0, 0, 0, 0, 0, 0, 0, 0, 0, 0, 0, 0, 0, 0, 0, 0, 0, 0, 0, 0, 0, 0, 0, 0, 0, 0, 0, 0, 0, 0, 0, 0, 0, 0, 0, 0, 0, 0, 0, 0, 0, 0, 0, 0, 0, 0, 0, 0, 0, 0, 0, 0, 0, 0, 0, 0, 0, 0, 0, 0, 0, 0, 0, 0, 0, 0, 0, 0, 0, 0, 0, 0, 0, 0, 0, 0, 0, 0, 0, 0, 0, 0, 0, 0, 0, 0, 0, 0, 0, 0, 0, 0, 0, 0, 0, 0, 0, 0, 0, 0, 0, 0, 0, 0, 0, 0, 0, 0, 0, 0, 0, 0, 0, 0, 0, 0, 0, 0, 0, 0, 0, 0, 0, 0, 0, 0, 0, 0, 0, 0, 0, 0, 0, 0, 0, 0, 0, 0, 0, 0, 0, 0, 0, 0, 0, 0, 0, 0, 0, 0, 0, 0, 0, 0, 0, 0, 0, 0, 0, 0, 0, 0, 0, 0, 0, 0, 0, 0, 0, 0, 0, 0, 0, 0, 0, 0, 0, 0, 0, 0, 0, 0, 0, 0, 0, 0, 0, 0, 0, 0, 0, 0, 0, 0, 0, 0, 0, 0, 0, 0, 0, 0, 0, 0, 0, 0, 0, 0, 0, 0, 0, 0, 0, 0, 0, 0, 0, 0, 0, 0, 0, 0, 0, 0, 0, 0, 0, 0, 0, 0, 0, 0, 0, 0, 0, 0, 0, 0, 0, 0, 0, 0, 0, 0, 0, 0, 0, 0, 0, 0, 0, 0, 0, 0, 0, 0, 0, 0, 0, 0, 0, 0, 0, 0, 0, 0, 0, 0, 0, 0, 0, 0, 0, 0, 0, 0, 0, 0, 0, 0, 0, 0, 0, 0, 0, 0, 1, 0, 0, 0, 0, 0, 0, 0, 0, 0, 0, 0, 0, 0, 0, 0, 0, 0, 0, 0, 0, 0, 0, 0, 0, 0, 0, 0, 0, 0, 0, 0, 0, 0, 0, 0, 0, 0, 0, 0, 0, 0, 0, 0, 0, 0, 0, 0, 0, 0, 0, 0, 0, 0, 0, 0, 0, 0, 0, 0, 0, 0, 0, 0, 0, 0, 0, 0, 0, 0, 0, 0, 0, 0, 0, 0, 0, 0, 0, 0, 0, 0, 0, 0, 0, 0, 0, 0, 0, 0, 0, 0, 0, 0, 0, 0, 0, 0, 0, 0, 0, 0, 0, 0, 0, 0, 0, 0, 0, 0, 0, 2, 0, 0, 0, 0, 0, 0, 0, 0, 0, 0, 0, 0, 0, 0, 0, 0, 0, 0, 0, 0, 0, 0, 0, 0, 0, 0, 0, 0, 0, 0, 0, 0, 0, 0, 0, 0, 0, 0, 0, 0, 0, 0, 0, 0, 0, 0, 0, 0, 0, 0, 0, 0, 0, 0, 0, 0, 0, 0, 0, 0, 0, 0, 0, 0, 0, 0, 0, 0, 0, 0, 0, 0, 0, 0, 0, 0, 0, 0, 0, 0, 0, 0, 0, 0, 0, 0, 0, 0, 0, 0, 0, 0, 0, 0, 0, 0, 0, 0, 0, 0, 0, 0, 0, 0, 0, 0, 0, 0, 0, 0, 0, 0, 0, 0, 0, 0, 0, 0, 0, 0, 0, 0, 0, 0, 0, 0, 0, 0, 0, 0, 0, 0, 0, 0, 0, 0, 0, 0, 0, 0, 0, 0, 0, 0, 0, 0, 0, 0, 0, 0, 0, 0, 0, 0, 0, 0, 0, 0, 0, 0, 0, 0, 0, 0, 0, 0, 0, 0, 0, 0, 0, 0, 0, 0, 0, 0, 0, 0, 0, 0, 0, 0, 0, 0, 0, 0, 0, 0, 0, 0, 0, 0, 0, 0, 0, 0, 0, 0, 0, 0, 0, 0, 0, 0, 0, 0, 0, 0, 0, 0, 0, 0, 0, 0, 0, 0, 0, 0, 0, 0, 0, 0, 0, 0, 0, 0, 0, 0, 0, 0, 0, 0, 0, 0, 0, 0, 0, 0, 0, 0, 0, 0, 0, 0, 0, 0, 0, 0, 0, 0, 0, 0, 0, 0, 0, 0, 0, 0, 0, 0, 0, 0, 0, 0, 0, 0, 0, 0, 0, 0, 0, 0, 0, 0, 0, 0, 0, 0, 0, 0, 0, 0, 0, 0, 0, 0, 0, 0, 0, 0, 0, 0, 0, 0, 0, 0, 0, 0, 0, 0, 0, 0, 0, 0, 0, 0, 0, 0, 0, 0, 0, 0, 0, 0, 0, 0, 0, 0, 0, 0, 0, 0, 0, 0, 0, 0, 0, 0, 0, 0, 0, 0, 0, 0, 0, 0, 0, 0, 0, 0, 0, 0, 0, 0, 0, 0, 0, 0, 0, 0, 0, 0, 0, 0, 0, 0, 0, 0, 0, 0, 0, 0, 0, 0, 0, 0, 0, 0, 0, 0, 0, 0, 0, 0, 0, 0, 0, 0, 0, 0, 0, 0, 0, 0, 0, 0, 0, 0, 0, 0, 0, 0, 0, 0, 0, 0, 0, 0, 0, 0, 0, 0, 0, 0, 0, 0, 0, 0, 0, 0, 0, 0, 0, 0, 0, 0, 0, 0, 0, 0, 0, 0, 0, 0, 0, 0, 0, 0, 0, 0, 0, 0, 0, 0, 0, 0, 0, 0, 0, 0, 0, 0, 0, 0, 0, 0, 0, 0, 0, 0, 0, 0, 0, 0, 0, 0, 0, 0, 0, 0, 0, 0, 0, 0, 0, 0, 0, 0, 0, 0, 0, 0, 0, 0, 0, 0, 0, 0, 0, 0, 0, 0, 0, 0, 0, 0, 0, 0, 0, 0, 0, 0, 0, 0, 0, 0, 0, 0, 0, 0, 0, 0, 0, 0, 0, 0, 0, 0, 0, 0, 0, 0, 0, 0, 0, 0, 0, 0, 0, 0, 0, 0, 0, 0, 0, 0, 0, 0, 0, 0, 0, 0, 0, 0, 0, 0, 0, 0, 0, 0, 0, 0, 0, 0, 0, 0, 0, 0, 0, 0, 0, 0, 0, 0, 0, 0, 0, 0, 0, 0, 0, 0, 0, 0, 0, 0, 0, 0, 0, 0, 0, 0, 0, 0, 0, 0, 0, 0, 0, 0, 0, 0, 0, 0, 0, 0, 0, 0, 0, 0, 0, 0, 0, 0, 0, 0, 0, 0, 0, 0, 0, 0, 0, 0, 0, 0, 0, 0, 0, 0, 0, 0, 0, 0, 0, 0, 0, 0, 0, 0, 0, 0, 0, 0, 0, 0, 0, 0, 0, 0, 0, 0, 0, 0, 0, 0, 0, 0, 0, 0, 0, 0, 0, 0, 0, 0, 0, 0, 0, 0, 0, 0, 0, 0, 0, 0, 0, 0, 0, 0, 0, 0, 0, 0, 0, 0, 0, 0, 0, 0, 0, 0, 0, 0, 0, 0, 0, 0, 0, 0, 0, 0, 0, 0, 0, 0, 0, 0, 0, 0, 1, 0, 0, 0, 0, 0, 0, 0, 0, 0, 0, 0, 0, 0, 0, 0, 0, 0, 0, 0, 0, 0, 0, 0, 0, 0, 0, 0, 0, 0, 0, 0, 0, 0, 0, 0, 0, 0, 0, 0, 0, 0, 0, 0, 0, 0, 0, 0, 0, 0, 0, 0, 0, 0, 0, 0, 0, 0, 0, 0, 0, 0, 0, 0, 0, 0, 0, 0, 0, 0, 0, 0, 0, 0, 0, 0, 0, 0, 0, 0, 0, 0, 0, 0, 0, 0, 0, 0, 0, 0, 0, 0, 0, 0, 0, 0, 0, 0, 0, 0, 0, 0, 0, 0, 0, 0, 0, 0, 1, 0, 0, 0, 0, 0, 0, 0, 0, 0, 0, 0, 0, 0, 0, 0, 0, 0, 0, 0, 0, 0, 0, 0, 0, 0, 0, 0, 0, 0, 0, 0, 0, 0, 0, 0, 0, 0, 0, 0, 0, 0, 0, 0, 0, 0, 0, 0, 0, 0, 0, 0, 0, 0, 0, 0, 0, 0, 0, 0, 0, 0, 0, 0, 0, 0, 0, 0, 0, 0, 0, 0, 0, 0, 0, 0, 0, 0, 0, 0, 0, 0, 0, 0, 0, 0, 0, 0, 0, 0, 0, 0, 0, 0, 0, 0, 0, 0, 0, 0, 0, 0, 0, 0, 0, 0, 0, 0, 0, 0, 0, 0, 0, 0, 0, 0, 0, 0, 0, 0, 0, 0, 0, 0, 0, 0, 0, 0, 0, 0, 0, 0, 0, 0, 0, 0, 0, 0, 0, 0, 0, 0, 0, 0, 0, 0, 0, 0, 0, 0, 0, 0, 0, 0, 0, 0, 0, 0, 0, 0, 0, 0, 0, 0, 0, 0, 0, 0, 0, 0, 0, 0, 0, 0, 0, 0, 0, 0, 0, 0, 0, 0, 0, 0, 0, 0, 0, 0, 0, 0, 0, 0, 0, 0, 0, 0, 0, 0, 0, 0, 0, 0, 0, 0, 0, 0, 0, 0, 0, 0, 0, 0, 0, 0, 0, 0, 0, 0, 0, 0, 0, 0, 0, 0, 0, 0, 0, 0, 0, 0, 0, 0, 0, 0, 0, 0, 0, 0, 0, 0, 0, 0, 0, 0, 0, 0, 0, 0, 0, 0, 0, 0, 0, 0, 0, 0, 0, 0, 0, 0, 0, 0, 0, 0, 0, 0, 0, 0, 0, 0, 0, 0, 0, 0, 0, 0, 0, 0, 0, 0, 0, 0, 0, 0, 0, 0, 0, 0, 0, 0, 0, 0, 0, 0, 0, 0, 0, 0, 0, 0, 0, 0, 0, 0, 0, 0, 0, 0, 0, 0, 0, 0, 0, 0, 0, 0, 0, 0, 0, 0, 0, 0, 0, 0, 0, 0, 0, 0, 0, 0, 0, 0, 0, 0, 0, 0, 0, 0, 0, 0, 0, 0, 0, 0, 0, 0, 0, 0, 0, 0, 0, 0, 0, 0, 0, 0, 0, 0, 0, 0, 0, 0, 0, 0, 0, 0, 0, 0, 0, 0, 0, 0, 0, 0, 0, 0, 0, 0, 0, 0, 0, 0, 0, 0, 0, 0, 0, 0, 0, 0, 0, 0, 0, 0, 0, 0, 0, 0, 0, 0, 0, 0, 0, 0, 0, 0, 0, 0, 0, 0, 0, 0, 0, 0, 0, 0, 0, 0, 0, 0, 0, 0, 0, 0, 0, 0, 0, 0, 0, 0, 0, 0, 0, 0, 0, 0, 0, 0, 0, 0, 0, 0, 0, 0, 0, 0, 0, 0, 0, 0, 0, 0, 0, 0, 0, 0, 0, 0, 0, 0, 0, 0, 0, 0, 2, 0, 1, 0]\n"
     ]
    }
   ],
   "source": [
    "test_bow = bow_encoding(test_words, vocabulary)\n",
    "print(test_bow)"
   ]
  },
  {
   "cell_type": "code",
   "execution_count": 40,
   "metadata": {},
   "outputs": [
    {
     "data": {
      "text/plain": [
       "5000"
      ]
     },
     "execution_count": 40,
     "metadata": {},
     "output_type": "execute_result"
    }
   ],
   "source": [
    "len(test_bow)#为啥。Vocab长度呗"
   ]
  },
  {
   "cell_type": "markdown",
   "metadata": {},
   "source": [
    "So now we know how to construct a bag of words encoding of a user provided review, how to we send it to our endpoint? First, we need to start the endpoint back up."
   ]
  },
  {
   "cell_type": "code",
   "execution_count": 42,
   "metadata": {},
   "outputs": [
    {
     "name": "stderr",
     "output_type": "stream",
     "text": [
      "Using already existing model: xgboost-2019-08-02-18-16-49-387\n"
     ]
    },
    {
     "name": "stdout",
     "output_type": "stream",
     "text": [
      "----------------------------------------------------------------------------------------------------------!"
     ]
    }
   ],
   "source": [
    "xgb_predictor = xgb.deploy(initial_instance_count = 1, instance_type = 'ml.m4.xlarge')"
   ]
  },
  {
   "cell_type": "markdown",
   "metadata": {},
   "source": [
    "At this point we could just do the same thing that we did earlier when we tested our deployed model and send `test_bow` to our endpoint using the `xgb_predictor` object. However, when we eventually construct our Lambda function we won't have access to this object, so how do we call a SageMaker endpoint?\n",
    "\n",
    "It turns out that Python functions that are used in Lambda have access to another Amazon library called `boto3`. This library provides an API for working with Amazon services, including SageMaker. To start with, we need to get a handle to the SageMaker runtime."
   ]
  },
  {
   "cell_type": "code",
   "execution_count": 43,
   "metadata": {},
   "outputs": [],
   "source": [
    "import boto3\n",
    "\n",
    "runtime = boto3.Session().client('sagemaker-runtime')"
   ]
  },
  {
   "cell_type": "markdown",
   "metadata": {},
   "source": [
    "And now that we have access to the SageMaker runtime, we can ask it to make use of (invoke) an endpoint that has already been created. However, we need to provide SageMaker with the name of the deployed endpoint. To find this out we can print it out using the `xgb_predictor` object."
   ]
  },
  {
   "cell_type": "code",
   "execution_count": 44,
   "metadata": {},
   "outputs": [
    {
     "data": {
      "text/plain": [
       "'xgboost-2019-08-02-18-16-49-387'"
      ]
     },
     "execution_count": 44,
     "metadata": {},
     "output_type": "execute_result"
    }
   ],
   "source": [
    "xgb_predictor.endpoint # 这里我们要知道endpoint 名字才能放到API里面呀，lamdda里面呀，"
   ]
  },
  {
   "cell_type": "markdown",
   "metadata": {},
   "source": [
    "Using the SageMaker runtime and the name of our endpoint, we can invoke the endpoint and send it the `test_bow` data."
   ]
  },
  {
   "cell_type": "code",
   "execution_count": 46,
   "metadata": {},
   "outputs": [
    {
     "ename": "ParamValidationError",
     "evalue": "Parameter validation failed:\nInvalid type for parameter Body, value: [0, 0, 0, 0, 0, 0, 0, 0, 0, 0, 0, 0, 0, 0, 0, 0, 0, 0, 0, 0, 0, 0, 0, 0, 0, 0, 0, 0, 0, 0, 0, 0, 0, 0, 0, 0, 0, 0, 0, 0, 0, 0, 0, 0, 0, 0, 0, 0, 0, 0, 0, 0, 0, 0, 0, 0, 0, 0, 0, 0, 0, 0, 0, 0, 0, 0, 0, 0, 0, 0, 0, 0, 0, 0, 0, 0, 0, 0, 0, 0, 0, 0, 0, 0, 0, 0, 0, 0, 0, 0, 0, 0, 0, 0, 0, 0, 0, 0, 0, 0, 0, 0, 0, 0, 0, 0, 0, 0, 0, 0, 0, 0, 0, 0, 0, 0, 0, 0, 0, 0, 0, 0, 0, 0, 0, 0, 0, 0, 0, 0, 0, 0, 0, 0, 0, 0, 0, 0, 0, 0, 0, 0, 0, 0, 0, 0, 0, 0, 0, 0, 0, 0, 0, 0, 0, 0, 0, 0, 0, 0, 0, 0, 0, 0, 0, 0, 0, 0, 0, 0, 0, 0, 0, 0, 0, 0, 0, 0, 0, 0, 0, 0, 0, 0, 0, 0, 0, 0, 0, 0, 0, 0, 0, 0, 0, 0, 0, 0, 0, 0, 0, 0, 0, 0, 0, 0, 0, 0, 0, 0, 0, 0, 0, 0, 0, 0, 0, 0, 0, 0, 0, 0, 0, 0, 0, 0, 1, 0, 0, 0, 0, 0, 0, 0, 0, 0, 0, 0, 0, 0, 0, 0, 0, 0, 0, 0, 0, 0, 0, 0, 0, 0, 0, 0, 0, 0, 1, 0, 0, 0, 0, 0, 0, 0, 0, 0, 0, 0, 0, 0, 0, 0, 0, 0, 0, 0, 0, 0, 0, 0, 0, 0, 0, 0, 0, 0, 0, 0, 0, 0, 0, 0, 0, 0, 0, 0, 0, 0, 0, 0, 0, 0, 0, 0, 0, 0, 0, 0, 0, 0, 0, 0, 0, 0, 0, 0, 0, 0, 0, 0, 0, 0, 0, 0, 0, 0, 0, 0, 0, 0, 0, 0, 0, 0, 0, 0, 0, 0, 0, 0, 0, 0, 0, 0, 0, 0, 0, 0, 0, 0, 0, 0, 0, 0, 0, 0, 0, 0, 0, 0, 0, 0, 0, 0, 0, 0, 0, 0, 0, 0, 0, 0, 0, 0, 0, 0, 0, 0, 0, 0, 0, 0, 0, 0, 0, 0, 0, 0, 0, 0, 0, 0, 0, 0, 0, 0, 0, 0, 0, 0, 0, 0, 0, 0, 0, 0, 0, 0, 0, 0, 0, 0, 0, 0, 0, 0, 0, 0, 0, 0, 0, 0, 0, 0, 0, 0, 0, 0, 0, 0, 0, 0, 0, 0, 0, 0, 0, 0, 0, 0, 0, 0, 0, 0, 0, 0, 0, 0, 0, 0, 0, 0, 0, 0, 0, 0, 0, 0, 0, 0, 0, 0, 0, 0, 0, 0, 0, 0, 0, 0, 0, 0, 0, 0, 0, 0, 0, 0, 0, 0, 0, 0, 0, 0, 0, 0, 0, 0, 0, 0, 0, 0, 0, 0, 0, 0, 0, 0, 0, 0, 0, 0, 0, 0, 0, 0, 0, 0, 0, 0, 0, 0, 0, 0, 0, 0, 0, 0, 0, 0, 0, 0, 0, 0, 0, 0, 0, 0, 0, 0, 0, 0, 0, 0, 0, 0, 0, 0, 0, 0, 0, 0, 0, 0, 0, 0, 0, 0, 0, 0, 0, 0, 0, 0, 0, 0, 0, 0, 0, 0, 0, 0, 0, 0, 0, 0, 0, 0, 0, 0, 0, 0, 0, 0, 0, 0, 0, 0, 0, 0, 0, 0, 0, 0, 0, 0, 0, 0, 0, 0, 0, 0, 0, 0, 0, 0, 0, 0, 0, 0, 0, 0, 0, 0, 0, 0, 0, 0, 0, 0, 0, 0, 0, 0, 0, 0, 0, 0, 0, 0, 0, 0, 0, 0, 0, 0, 0, 0, 0, 0, 0, 0, 0, 0, 0, 0, 1, 0, 0, 0, 0, 0, 0, 0, 0, 0, 0, 0, 0, 0, 0, 0, 0, 0, 0, 0, 0, 0, 0, 0, 0, 0, 0, 0, 0, 0, 0, 0, 0, 0, 0, 0, 0, 0, 0, 0, 0, 0, 0, 0, 0, 0, 0, 0, 0, 0, 0, 0, 0, 0, 0, 0, 0, 0, 0, 0, 0, 0, 0, 0, 0, 0, 0, 0, 0, 0, 0, 0, 0, 0, 0, 0, 0, 0, 0, 0, 0, 0, 0, 0, 0, 0, 0, 0, 0, 0, 0, 0, 0, 0, 0, 0, 0, 0, 0, 0, 0, 0, 0, 0, 0, 0, 0, 0, 0, 0, 0, 0, 0, 0, 0, 0, 0, 0, 0, 0, 0, 0, 0, 0, 0, 0, 0, 0, 0, 0, 0, 0, 0, 0, 0, 0, 0, 0, 0, 0, 0, 0, 0, 0, 0, 0, 0, 0, 0, 0, 0, 0, 0, 0, 0, 0, 0, 0, 0, 0, 0, 0, 0, 0, 0, 0, 0, 0, 0, 0, 0, 0, 0, 0, 0, 0, 0, 0, 0, 0, 0, 0, 0, 0, 0, 0, 0, 0, 0, 0, 0, 0, 0, 0, 0, 0, 0, 0, 0, 0, 0, 0, 0, 0, 0, 0, 0, 0, 0, 0, 0, 0, 0, 0, 0, 0, 0, 0, 0, 0, 0, 0, 0, 0, 0, 0, 0, 0, 0, 0, 0, 0, 0, 0, 0, 0, 0, 0, 0, 0, 0, 0, 0, 0, 0, 0, 0, 0, 0, 0, 0, 0, 0, 0, 1, 0, 0, 0, 0, 0, 0, 0, 0, 0, 0, 0, 0, 0, 0, 0, 0, 0, 0, 0, 0, 0, 0, 0, 0, 0, 0, 0, 0, 0, 0, 0, 0, 0, 0, 0, 0, 0, 0, 0, 0, 0, 0, 0, 0, 0, 0, 0, 0, 0, 0, 0, 0, 0, 0, 0, 0, 0, 0, 0, 0, 0, 0, 0, 0, 0, 0, 0, 0, 0, 0, 0, 0, 0, 0, 0, 0, 0, 0, 0, 0, 0, 0, 0, 0, 0, 0, 1, 0, 0, 0, 0, 0, 0, 0, 0, 0, 0, 0, 0, 0, 0, 0, 0, 0, 0, 0, 0, 0, 0, 0, 0, 0, 0, 0, 0, 0, 0, 0, 0, 0, 0, 0, 0, 0, 0, 0, 0, 0, 0, 0, 0, 0, 0, 0, 0, 0, 0, 0, 0, 0, 0, 0, 0, 0, 0, 0, 0, 0, 0, 0, 0, 0, 0, 0, 0, 0, 0, 0, 0, 0, 0, 0, 0, 0, 0, 0, 0, 0, 0, 0, 0, 0, 0, 0, 0, 0, 0, 0, 0, 0, 0, 0, 0, 0, 0, 0, 0, 0, 0, 0, 0, 0, 0, 0, 0, 0, 0, 0, 0, 0, 0, 0, 0, 0, 0, 0, 0, 0, 0, 0, 0, 0, 0, 0, 0, 0, 0, 0, 0, 0, 0, 0, 0, 0, 0, 0, 0, 0, 0, 0, 0, 0, 0, 0, 0, 0, 0, 0, 0, 0, 0, 0, 0, 0, 0, 0, 0, 0, 0, 0, 0, 0, 0, 0, 0, 0, 0, 0, 0, 0, 0, 0, 0, 0, 0, 0, 0, 0, 0, 0, 0, 0, 0, 0, 0, 0, 0, 0, 0, 0, 0, 0, 0, 0, 0, 0, 0, 0, 0, 0, 0, 0, 0, 0, 0, 0, 0, 0, 0, 0, 0, 0, 0, 0, 0, 0, 0, 0, 0, 0, 0, 0, 0, 0, 0, 0, 0, 0, 0, 0, 0, 0, 0, 0, 0, 0, 0, 0, 0, 0, 0, 0, 0, 0, 0, 0, 0, 0, 0, 1, 0, 0, 0, 0, 0, 0, 0, 0, 0, 0, 0, 0, 0, 0, 0, 0, 0, 0, 0, 0, 0, 0, 0, 0, 0, 0, 0, 0, 0, 0, 0, 0, 0, 0, 0, 0, 0, 0, 0, 0, 0, 0, 0, 0, 0, 0, 0, 0, 0, 0, 0, 0, 0, 0, 0, 1, 0, 0, 0, 0, 0, 0, 0, 0, 0, 0, 0, 0, 0, 0, 0, 0, 0, 0, 0, 0, 0, 0, 0, 0, 0, 0, 0, 0, 0, 0, 0, 0, 0, 0, 0, 0, 0, 0, 0, 0, 0, 0, 0, 0, 0, 0, 0, 0, 0, 0, 0, 0, 0, 0, 0, 0, 0, 0, 0, 0, 0, 0, 0, 0, 0, 0, 0, 0, 0, 0, 0, 0, 0, 0, 0, 0, 0, 0, 0, 0, 0, 0, 0, 0, 0, 0, 0, 0, 0, 0, 0, 0, 0, 0, 0, 0, 0, 0, 0, 0, 0, 0, 0, 0, 0, 0, 0, 0, 0, 0, 0, 0, 0, 0, 0, 0, 0, 0, 0, 0, 0, 0, 0, 0, 0, 0, 0, 0, 0, 0, 0, 0, 0, 0, 0, 0, 0, 0, 0, 0, 0, 0, 0, 0, 0, 0, 0, 0, 0, 0, 0, 0, 0, 0, 0, 0, 0, 0, 0, 0, 0, 0, 0, 0, 0, 0, 0, 0, 0, 0, 0, 0, 0, 0, 0, 0, 0, 0, 0, 0, 0, 0, 0, 0, 0, 0, 0, 0, 0, 0, 0, 0, 0, 0, 0, 0, 0, 0, 0, 0, 0, 0, 0, 0, 0, 0, 0, 0, 0, 0, 0, 0, 0, 0, 0, 0, 0, 0, 0, 0, 0, 0, 0, 0, 0, 0, 0, 0, 0, 0, 0, 0, 0, 0, 0, 0, 0, 0, 0, 0, 0, 0, 0, 0, 0, 0, 0, 0, 0, 0, 0, 0, 0, 0, 0, 0, 0, 0, 0, 0, 0, 0, 0, 0, 0, 0, 0, 0, 0, 0, 0, 0, 0, 0, 0, 0, 0, 0, 0, 0, 0, 0, 0, 0, 0, 0, 0, 0, 0, 0, 0, 0, 0, 0, 0, 0, 0, 0, 0, 0, 0, 0, 0, 0, 0, 0, 0, 0, 0, 0, 0, 0, 0, 0, 0, 0, 0, 0, 0, 0, 0, 0, 0, 0, 0, 0, 0, 0, 0, 0, 0, 0, 0, 0, 0, 0, 0, 0, 0, 0, 0, 0, 0, 0, 0, 0, 0, 0, 0, 0, 0, 0, 0, 0, 0, 0, 0, 0, 0, 0, 0, 0, 0, 0, 0, 0, 0, 0, 0, 0, 0, 0, 0, 0, 0, 0, 0, 0, 0, 0, 0, 0, 0, 0, 0, 0, 0, 0, 0, 0, 0, 0, 0, 0, 0, 0, 0, 0, 0, 0, 0, 0, 0, 0, 0, 0, 0, 0, 0, 0, 0, 0, 0, 0, 0, 0, 0, 0, 0, 0, 0, 0, 0, 0, 0, 0, 0, 0, 0, 0, 0, 0, 0, 0, 0, 0, 0, 0, 0, 0, 0, 0, 0, 0, 0, 0, 0, 0, 0, 0, 0, 0, 0, 0, 0, 0, 0, 0, 0, 0, 0, 0, 0, 0, 0, 0, 0, 0, 0, 0, 0, 0, 0, 0, 0, 0, 0, 0, 0, 0, 0, 0, 0, 0, 0, 0, 0, 0, 0, 0, 0, 0, 0, 0, 0, 0, 0, 0, 0, 0, 0, 0, 0, 0, 0, 0, 0, 0, 0, 0, 0, 0, 0, 0, 0, 0, 0, 0, 0, 0, 0, 0, 0, 0, 0, 0, 0, 0, 0, 0, 0, 0, 0, 0, 0, 0, 0, 0, 0, 0, 0, 0, 0, 0, 0, 0, 0, 0, 0, 0, 0, 0, 0, 0, 0, 0, 0, 0, 0, 0, 0, 0, 0, 0, 0, 0, 0, 0, 0, 0, 0, 0, 0, 0, 0, 0, 0, 0, 0, 0, 0, 0, 0, 0, 0, 0, 0, 0, 0, 0, 0, 0, 0, 0, 0, 0, 0, 0, 0, 0, 0, 0, 0, 0, 0, 0, 0, 0, 0, 0, 0, 0, 0, 0, 0, 0, 0, 0, 0, 0, 0, 0, 0, 0, 0, 0, 0, 0, 0, 0, 0, 0, 0, 0, 0, 0, 0, 0, 0, 0, 0, 0, 0, 0, 0, 0, 0, 0, 0, 0, 0, 0, 0, 0, 0, 0, 0, 0, 0, 0, 0, 0, 0, 0, 0, 0, 0, 0, 0, 0, 0, 0, 0, 0, 0, 0, 0, 0, 0, 0, 0, 1, 0, 0, 0, 0, 0, 0, 0, 0, 0, 0, 0, 0, 0, 0, 0, 0, 0, 0, 0, 0, 0, 0, 0, 0, 0, 0, 0, 0, 0, 0, 0, 0, 0, 0, 0, 0, 0, 0, 0, 0, 0, 0, 0, 0, 0, 0, 0, 0, 0, 0, 0, 0, 0, 0, 0, 0, 0, 0, 0, 0, 0, 0, 0, 0, 0, 0, 0, 0, 0, 0, 0, 0, 0, 0, 1, 0, 0, 0, 0, 0, 0, 0, 0, 0, 0, 0, 0, 0, 0, 0, 0, 0, 0, 0, 0, 1, 0, 0, 1, 0, 0, 0, 0, 0, 0, 0, 0, 0, 0, 0, 0, 0, 0, 0, 0, 0, 0, 0, 0, 0, 0, 0, 0, 0, 0, 0, 0, 0, 0, 0, 0, 0, 0, 0, 0, 0, 0, 0, 0, 0, 0, 0, 0, 0, 0, 0, 0, 0, 0, 0, 0, 0, 0, 0, 0, 0, 0, 0, 0, 0, 0, 0, 0, 0, 0, 0, 0, 0, 0, 0, 0, 0, 0, 0, 0, 0, 0, 0, 0, 0, 0, 0, 0, 0, 0, 0, 0, 0, 0, 0, 0, 0, 0, 0, 0, 0, 0, 0, 0, 0, 0, 0, 0, 0, 0, 0, 0, 0, 0, 0, 0, 0, 0, 0, 0, 0, 0, 0, 0, 0, 0, 0, 0, 0, 0, 0, 0, 0, 0, 0, 0, 0, 0, 0, 0, 0, 0, 0, 0, 0, 0, 0, 0, 0, 0, 0, 0, 0, 0, 0, 0, 0, 0, 0, 0, 0, 0, 0, 0, 0, 0, 0, 0, 0, 0, 0, 0, 0, 0, 0, 0, 0, 0, 0, 0, 0, 0, 0, 0, 0, 0, 0, 0, 0, 0, 0, 0, 0, 0, 0, 0, 0, 0, 0, 0, 0, 0, 0, 0, 0, 0, 0, 0, 0, 0, 0, 0, 0, 0, 0, 0, 0, 0, 0, 0, 0, 0, 0, 0, 0, 0, 0, 0, 0, 0, 0, 0, 0, 0, 0, 0, 0, 0, 0, 0, 0, 0, 0, 0, 0, 0, 0, 0, 0, 0, 0, 0, 0, 0, 0, 0, 0, 0, 0, 0, 0, 0, 0, 0, 0, 0, 0, 0, 0, 0, 0, 0, 0, 0, 0, 0, 0, 0, 0, 0, 0, 0, 0, 0, 0, 0, 0, 0, 0, 0, 0, 0, 0, 0, 0, 0, 0, 0, 0, 0, 0, 0, 0, 0, 0, 0, 0, 0, 0, 0, 0, 0, 0, 0, 0, 0, 0, 0, 0, 0, 0, 0, 0, 0, 0, 0, 0, 0, 0, 0, 0, 0, 0, 0, 0, 0, 0, 0, 0, 0, 0, 0, 0, 0, 0, 0, 0, 0, 0, 0, 0, 0, 0, 0, 0, 0, 0, 0, 0, 0, 0, 0, 0, 0, 0, 0, 0, 0, 0, 0, 0, 0, 0, 0, 0, 0, 0, 0, 0, 0, 0, 0, 0, 0, 0, 0, 0, 0, 0, 0, 0, 0, 0, 0, 0, 0, 0, 0, 0, 0, 0, 0, 0, 0, 0, 0, 0, 0, 0, 0, 0, 0, 0, 0, 0, 0, 0, 0, 0, 0, 0, 0, 0, 0, 0, 0, 0, 0, 0, 0, 0, 0, 0, 0, 0, 0, 0, 0, 0, 0, 0, 0, 0, 0, 0, 0, 0, 0, 0, 0, 0, 0, 0, 0, 0, 0, 0, 0, 0, 0, 0, 0, 0, 0, 0, 0, 0, 0, 0, 0, 1, 0, 0, 0, 0, 0, 0, 0, 0, 0, 0, 0, 0, 0, 0, 0, 0, 0, 0, 0, 0, 0, 0, 0, 0, 0, 0, 0, 0, 0, 0, 0, 0, 0, 0, 0, 0, 0, 0, 0, 0, 0, 0, 0, 0, 0, 0, 0, 0, 0, 0, 0, 0, 0, 0, 0, 0, 0, 0, 0, 0, 0, 0, 0, 0, 0, 0, 0, 0, 0, 0, 0, 0, 0, 0, 0, 0, 0, 0, 0, 0, 0, 0, 0, 0, 0, 0, 0, 0, 0, 0, 0, 0, 0, 0, 0, 0, 0, 0, 0, 0, 0, 0, 0, 0, 0, 0, 0, 0, 0, 0, 0, 0, 0, 0, 0, 0, 0, 0, 0, 0, 0, 0, 0, 0, 0, 0, 0, 0, 0, 0, 0, 0, 0, 0, 0, 0, 0, 0, 0, 0, 0, 0, 0, 0, 0, 0, 0, 0, 0, 0, 0, 0, 0, 0, 0, 0, 0, 0, 0, 0, 0, 0, 0, 0, 0, 0, 0, 0, 0, 0, 0, 0, 0, 0, 0, 0, 0, 0, 0, 0, 0, 0, 0, 0, 0, 0, 0, 0, 0, 0, 0, 0, 0, 0, 0, 0, 0, 0, 0, 0, 0, 0, 0, 0, 0, 0, 0, 0, 0, 0, 0, 0, 0, 0, 0, 0, 0, 0, 0, 0, 0, 0, 0, 0, 0, 0, 0, 0, 0, 0, 0, 0, 0, 0, 0, 0, 0, 0, 0, 0, 0, 0, 0, 0, 0, 0, 0, 0, 0, 0, 0, 0, 0, 0, 0, 0, 0, 0, 0, 0, 0, 0, 0, 0, 0, 0, 0, 0, 0, 0, 0, 0, 0, 0, 0, 0, 0, 0, 0, 0, 0, 0, 0, 0, 0, 0, 0, 0, 0, 0, 0, 0, 0, 0, 0, 0, 0, 0, 0, 0, 0, 0, 0, 0, 0, 0, 0, 0, 0, 0, 0, 0, 0, 0, 0, 0, 0, 0, 0, 0, 0, 0, 0, 0, 0, 0, 0, 0, 0, 0, 0, 0, 0, 0, 0, 0, 0, 0, 0, 0, 0, 0, 0, 0, 0, 0, 0, 0, 0, 0, 0, 0, 0, 0, 0, 0, 0, 0, 0, 0, 0, 0, 0, 0, 0, 0, 0, 0, 0, 0, 0, 0, 0, 0, 0, 0, 0, 0, 0, 0, 0, 0, 0, 0, 0, 0, 0, 0, 0, 0, 0, 0, 0, 0, 0, 0, 0, 0, 0, 0, 0, 0, 0, 0, 0, 0, 0, 0, 0, 0, 0, 0, 0, 0, 0, 0, 0, 0, 0, 0, 0, 0, 0, 0, 0, 0, 0, 0, 0, 0, 0, 0, 0, 0, 0, 0, 0, 0, 0, 0, 0, 0, 0, 0, 0, 0, 0, 0, 0, 0, 0, 0, 0, 0, 0, 0, 0, 0, 0, 0, 0, 0, 0, 0, 0, 0, 0, 0, 0, 0, 0, 0, 0, 0, 0, 0, 0, 0, 0, 0, 0, 0, 0, 0, 0, 0, 0, 0, 0, 0, 0, 0, 0, 0, 0, 0, 0, 0, 0, 0, 0, 0, 0, 0, 0, 0, 0, 0, 0, 0, 0, 0, 1, 0, 0, 0, 0, 0, 0, 0, 0, 0, 0, 0, 0, 0, 0, 0, 0, 0, 0, 0, 0, 0, 0, 0, 0, 0, 0, 0, 0, 0, 0, 0, 0, 0, 0, 0, 2, 0, 0, 0, 0, 0, 0, 0, 0, 0, 0, 0, 0, 0, 0, 0, 0, 0, 0, 0, 0, 0, 0, 0, 0, 0, 0, 0, 0, 0, 0, 0, 0, 0, 0, 0, 0, 0, 0, 0, 0, 1, 0, 0, 0, 0, 0, 0, 0, 0, 0, 0, 0, 0, 0, 0, 0, 0, 0, 0, 0, 0, 0, 0, 0, 0, 0, 0, 0, 0, 0, 0, 0, 0, 0, 0, 0, 0, 0, 0, 0, 0, 0, 0, 0, 0, 0, 0, 0, 0, 0, 0, 0, 0, 0, 0, 0, 0, 0, 0, 0, 0, 0, 0, 0, 0, 0, 0, 0, 0, 0, 0, 0, 0, 0, 0, 0, 0, 0, 0, 0, 0, 0, 0, 0, 0, 0, 0, 0, 0, 0, 0, 0, 0, 0, 0, 0, 0, 0, 0, 0, 0, 0, 0, 0, 0, 0, 0, 0, 0, 0, 0, 0, 0, 0, 0, 0, 0, 0, 0, 0, 0, 0, 0, 0, 0, 0, 0, 0, 0, 0, 0, 0, 0, 0, 0, 0, 0, 0, 0, 0, 0, 0, 0, 0, 0, 0, 0, 0, 0, 0, 0, 0, 0, 0, 0, 0, 0, 0, 0, 0, 0, 0, 0, 0, 0, 0, 0, 0, 0, 0, 0, 0, 0, 0, 0, 0, 0, 0, 0, 0, 0, 0, 0, 0, 0, 0, 0, 0, 0, 0, 0, 0, 0, 0, 0, 0, 0, 0, 0, 0, 0, 0, 0, 0, 0, 0, 0, 0, 0, 0, 0, 0, 0, 0, 0, 0, 0, 0, 0, 0, 0, 0, 0, 0, 0, 0, 0, 0, 0, 0, 0, 0, 0, 0, 0, 0, 0, 0, 0, 0, 0, 0, 0, 0, 0, 0, 0, 0, 0, 0, 0, 0, 0, 0, 0, 0, 0, 0, 0, 0, 0, 0, 0, 0, 0, 0, 0, 0, 0, 0, 0, 0, 0, 0, 0, 0, 0, 0, 0, 0, 0, 0, 0, 0, 0, 0, 0, 0, 0, 0, 0, 0, 0, 0, 0, 0, 0, 0, 0, 0, 0, 0, 0, 0, 0, 0, 0, 0, 0, 0, 0, 0, 0, 0, 0, 0, 0, 0, 0, 0, 0, 0, 0, 0, 0, 0, 0, 0, 0, 0, 0, 0, 0, 0, 0, 0, 0, 0, 0, 0, 0, 0, 0, 0, 0, 0, 0, 0, 0, 0, 0, 0, 0, 0, 0, 0, 0, 0, 0, 0, 0, 0, 0, 0, 0, 0, 0, 0, 0, 0, 0, 0, 0, 0, 0, 0, 0, 0, 0, 0, 0, 0, 0, 0, 0, 0, 0, 0, 0, 0, 0, 0, 0, 0, 0, 0, 0, 0, 0, 0, 0, 0, 0, 0, 0, 0, 0, 0, 0, 0, 0, 0, 0, 0, 0, 0, 0, 0, 0, 0, 0, 0, 0, 0, 0, 0, 0, 0, 0, 0, 0, 0, 0, 0, 0, 0, 0, 0, 0, 0, 0, 0, 0, 0, 0, 0, 0, 0, 0, 0, 0, 0, 0, 0, 0, 0, 0, 0, 0, 0, 0, 0, 0, 0, 0, 0, 0, 0, 0, 0, 0, 0, 0, 0, 0, 0, 0, 0, 0, 0, 0, 0, 0, 0, 0, 0, 0, 0, 0, 0, 0, 0, 0, 0, 0, 0, 0, 0, 1, 0, 0, 0, 0, 0, 0, 0, 0, 0, 0, 0, 0, 0, 0, 0, 0, 0, 0, 0, 0, 0, 0, 0, 0, 0, 0, 0, 0, 0, 0, 0, 0, 0, 0, 0, 0, 0, 0, 0, 0, 0, 0, 0, 0, 0, 0, 0, 0, 0, 0, 0, 0, 0, 0, 0, 0, 0, 0, 0, 0, 0, 0, 0, 0, 0, 0, 0, 0, 0, 0, 0, 0, 0, 0, 0, 0, 0, 0, 0, 0, 0, 0, 0, 0, 0, 0, 0, 0, 0, 0, 0, 0, 0, 0, 0, 0, 0, 0, 0, 0, 0, 0, 0, 0, 0, 0, 0, 0, 0, 0, 2, 0, 0, 0, 0, 0, 0, 0, 0, 0, 0, 0, 0, 0, 0, 0, 0, 0, 0, 0, 0, 0, 0, 0, 0, 0, 0, 0, 0, 0, 0, 0, 0, 0, 0, 0, 0, 0, 0, 0, 0, 0, 0, 0, 0, 0, 0, 0, 0, 0, 0, 0, 0, 0, 0, 0, 0, 0, 0, 0, 0, 0, 0, 0, 0, 0, 0, 0, 0, 0, 0, 0, 0, 0, 0, 0, 0, 0, 0, 0, 0, 0, 0, 0, 0, 0, 0, 0, 0, 0, 0, 0, 0, 0, 0, 0, 0, 0, 0, 0, 0, 0, 0, 0, 0, 0, 0, 0, 0, 0, 0, 0, 0, 0, 0, 0, 0, 0, 0, 0, 0, 0, 0, 0, 0, 0, 0, 0, 0, 0, 0, 0, 0, 0, 0, 0, 0, 0, 0, 0, 0, 0, 0, 0, 0, 0, 0, 0, 0, 0, 0, 0, 0, 0, 0, 0, 0, 0, 0, 0, 0, 0, 0, 0, 0, 0, 0, 0, 0, 0, 0, 0, 0, 0, 0, 0, 0, 0, 0, 0, 0, 0, 0, 0, 0, 0, 0, 0, 0, 0, 0, 0, 0, 0, 0, 0, 0, 0, 0, 0, 0, 0, 0, 0, 0, 0, 0, 0, 0, 0, 0, 0, 0, 0, 0, 0, 0, 0, 0, 0, 0, 0, 0, 0, 0, 0, 0, 0, 0, 0, 0, 0, 0, 0, 0, 0, 0, 0, 0, 0, 0, 0, 0, 0, 0, 0, 0, 0, 0, 0, 0, 0, 0, 0, 0, 0, 0, 0, 0, 0, 0, 0, 0, 0, 0, 0, 0, 0, 0, 0, 0, 0, 0, 0, 0, 0, 0, 0, 0, 0, 0, 0, 0, 0, 0, 0, 0, 0, 0, 0, 0, 0, 0, 0, 0, 0, 0, 0, 0, 0, 0, 0, 0, 0, 0, 0, 0, 0, 0, 0, 0, 0, 0, 0, 0, 0, 0, 0, 0, 0, 0, 0, 0, 0, 0, 0, 0, 0, 0, 0, 0, 0, 0, 0, 0, 0, 0, 0, 0, 0, 0, 0, 0, 0, 0, 0, 0, 0, 0, 0, 0, 0, 0, 0, 0, 0, 0, 0, 0, 0, 0, 0, 0, 0, 0, 0, 0, 0, 0, 0, 0, 0, 0, 0, 0, 0, 0, 0, 0, 0, 0, 0, 0, 0, 0, 0, 0, 0, 0, 0, 0, 0, 0, 0, 0, 0, 0, 0, 0, 0, 0, 0, 0, 0, 0, 0, 0, 0, 0, 0, 0, 0, 0, 0, 0, 0, 0, 0, 0, 0, 0, 0, 0, 0, 0, 0, 0, 0, 0, 0, 0, 0, 0, 0, 0, 0, 0, 0, 0, 0, 0, 0, 0, 0, 0, 0, 0, 0, 0, 0, 0, 0, 0, 0, 0, 0, 0, 0, 0, 0, 0, 0, 0, 0, 0, 0, 0, 0, 0, 0, 0, 0, 0, 0, 0, 0, 0, 0, 0, 0, 0, 0, 0, 0, 0, 0, 0, 0, 0, 0, 0, 0, 0, 0, 0, 0, 0, 0, 0, 0, 0, 0, 0, 0, 0, 0, 0, 0, 0, 0, 0, 0, 0, 0, 0, 0, 0, 0, 0, 0, 0, 0, 0, 0, 0, 0, 0, 0, 0, 0, 0, 0, 0, 0, 0, 0, 0, 0, 0, 0, 0, 0, 0, 0, 0, 0, 0, 0, 0, 0, 0, 0, 0, 0, 0, 0, 0, 0, 0, 0, 0, 0, 0, 0, 0, 0, 0, 0, 0, 0, 0, 0, 0, 0, 0, 0, 0, 0, 0, 0, 0, 0, 0, 0, 0, 0, 0, 0, 0, 0, 0, 0, 0, 0, 0, 0, 0, 0, 0, 0, 0, 0, 0, 0, 0, 0, 0, 0, 0, 0, 0, 0, 0, 0, 0, 0, 0, 0, 0, 0, 0, 0, 0, 0, 0, 0, 0, 0, 0, 0, 0, 0, 0, 0, 0, 0, 0, 0, 0, 0, 0, 0, 0, 0, 0, 0, 0, 0, 0, 0, 0, 0, 0, 0, 0, 0, 0, 0, 0, 0, 0, 0, 0, 0, 0, 0, 0, 0, 0, 0, 0, 0, 0, 0, 0, 0, 0, 0, 0, 0, 0, 0, 0, 0, 0, 0, 0, 0, 0, 0, 0, 1, 0, 0, 0, 0, 0, 0, 0, 0, 0, 0, 0, 0, 0, 0, 0, 0, 0, 0, 0, 0, 0, 0, 0, 0, 0, 0, 0, 0, 0, 0, 0, 0, 0, 0, 0, 0, 0, 0, 0, 0, 0, 0, 0, 0, 0, 0, 0, 0, 0, 0, 0, 0, 0, 0, 0, 0, 0, 0, 0, 0, 0, 0, 0, 0, 0, 0, 0, 0, 0, 0, 0, 0, 0, 0, 0, 0, 0, 0, 0, 0, 0, 0, 0, 0, 0, 0, 0, 0, 0, 0, 0, 0, 0, 0, 0, 0, 0, 0, 0, 0, 0, 0, 0, 0, 0, 0, 0, 1, 0, 0, 0, 0, 0, 0, 0, 0, 0, 0, 0, 0, 0, 0, 0, 0, 0, 0, 0, 0, 0, 0, 0, 0, 0, 0, 0, 0, 0, 0, 0, 0, 0, 0, 0, 0, 0, 0, 0, 0, 0, 0, 0, 0, 0, 0, 0, 0, 0, 0, 0, 0, 0, 0, 0, 0, 0, 0, 0, 0, 0, 0, 0, 0, 0, 0, 0, 0, 0, 0, 0, 0, 0, 0, 0, 0, 0, 0, 0, 0, 0, 0, 0, 0, 0, 0, 0, 0, 0, 0, 0, 0, 0, 0, 0, 0, 0, 0, 0, 0, 0, 0, 0, 0, 0, 0, 0, 0, 0, 0, 0, 0, 0, 0, 0, 0, 0, 0, 0, 0, 0, 0, 0, 0, 0, 0, 0, 0, 0, 0, 0, 0, 0, 0, 0, 0, 0, 0, 0, 0, 0, 0, 0, 0, 0, 0, 0, 0, 0, 0, 0, 0, 0, 0, 0, 0, 0, 0, 0, 0, 0, 0, 0, 0, 0, 0, 0, 0, 0, 0, 0, 0, 0, 0, 0, 0, 0, 0, 0, 0, 0, 0, 0, 0, 0, 0, 0, 0, 0, 0, 0, 0, 0, 0, 0, 0, 0, 0, 0, 0, 0, 0, 0, 0, 0, 0, 0, 0, 0, 0, 0, 0, 0, 0, 0, 0, 0, 0, 0, 0, 0, 0, 0, 0, 0, 0, 0, 0, 0, 0, 0, 0, 0, 0, 0, 0, 0, 0, 0, 0, 0, 0, 0, 0, 0, 0, 0, 0, 0, 0, 0, 0, 0, 0, 0, 0, 0, 0, 0, 0, 0, 0, 0, 0, 0, 0, 0, 0, 0, 0, 0, 0, 0, 0, 0, 0, 0, 0, 0, 0, 0, 0, 0, 0, 0, 0, 0, 0, 0, 0, 0, 0, 0, 0, 0, 0, 0, 0, 0, 0, 0, 0, 0, 0, 0, 0, 0, 0, 0, 0, 0, 0, 0, 0, 0, 0, 0, 0, 0, 0, 0, 0, 0, 0, 0, 0, 0, 0, 0, 0, 0, 0, 0, 0, 0, 0, 0, 0, 0, 0, 0, 0, 0, 0, 0, 0, 0, 0, 0, 0, 0, 0, 0, 0, 0, 0, 0, 0, 0, 0, 0, 0, 0, 0, 0, 0, 0, 0, 0, 0, 0, 0, 0, 0, 0, 0, 0, 0, 0, 0, 0, 0, 0, 0, 0, 0, 0, 0, 0, 0, 0, 0, 0, 0, 0, 0, 0, 0, 0, 0, 0, 0, 0, 0, 0, 0, 0, 0, 0, 0, 0, 0, 0, 0, 0, 0, 0, 0, 0, 0, 0, 0, 0, 0, 0, 0, 0, 0, 0, 0, 0, 0, 0, 0, 0, 0, 0, 0, 0, 0, 0, 0, 0, 0, 0, 0, 0, 0, 0, 0, 0, 0, 0, 0, 0, 0, 0, 0, 0, 0, 0, 0, 0, 2, 0, 1, 0], type: <class 'list'>, valid types: <class 'bytes'>, <class 'bytearray'>, file-like object",
     "output_type": "error",
     "traceback": [
      "\u001b[0;31m---------------------------------------------------------------------------\u001b[0m",
      "\u001b[0;31mParamValidationError\u001b[0m                      Traceback (most recent call last)",
      "\u001b[0;32m<ipython-input-46-c9ab54ae3a48>\u001b[0m in \u001b[0;36m<module>\u001b[0;34m()\u001b[0m\n\u001b[1;32m      1\u001b[0m response = runtime.invoke_endpoint(EndpointName = xgb_predictor.endpoint, # The name of the endpoint we created\n\u001b[1;32m      2\u001b[0m                                        \u001b[0mContentType\u001b[0m \u001b[0;34m=\u001b[0m \u001b[0;34m'text/csv'\u001b[0m\u001b[0;34m,\u001b[0m                     \u001b[0;31m# The data format that is expected\u001b[0m\u001b[0;34m\u001b[0m\u001b[0m\n\u001b[0;32m----> 3\u001b[0;31m                                        Body = test_bow)\n\u001b[0m",
      "\u001b[0;32m~/anaconda3/envs/python3/lib/python3.6/site-packages/botocore/client.py\u001b[0m in \u001b[0;36m_api_call\u001b[0;34m(self, *args, **kwargs)\u001b[0m\n\u001b[1;32m    355\u001b[0m                     \"%s() only accepts keyword arguments.\" % py_operation_name)\n\u001b[1;32m    356\u001b[0m             \u001b[0;31m# The \"self\" in this scope is referring to the BaseClient.\u001b[0m\u001b[0;34m\u001b[0m\u001b[0;34m\u001b[0m\u001b[0m\n\u001b[0;32m--> 357\u001b[0;31m             \u001b[0;32mreturn\u001b[0m \u001b[0mself\u001b[0m\u001b[0;34m.\u001b[0m\u001b[0m_make_api_call\u001b[0m\u001b[0;34m(\u001b[0m\u001b[0moperation_name\u001b[0m\u001b[0;34m,\u001b[0m \u001b[0mkwargs\u001b[0m\u001b[0;34m)\u001b[0m\u001b[0;34m\u001b[0m\u001b[0m\n\u001b[0m\u001b[1;32m    358\u001b[0m \u001b[0;34m\u001b[0m\u001b[0m\n\u001b[1;32m    359\u001b[0m         \u001b[0m_api_call\u001b[0m\u001b[0;34m.\u001b[0m\u001b[0m__name__\u001b[0m \u001b[0;34m=\u001b[0m \u001b[0mstr\u001b[0m\u001b[0;34m(\u001b[0m\u001b[0mpy_operation_name\u001b[0m\u001b[0;34m)\u001b[0m\u001b[0;34m\u001b[0m\u001b[0m\n",
      "\u001b[0;32m~/anaconda3/envs/python3/lib/python3.6/site-packages/botocore/client.py\u001b[0m in \u001b[0;36m_make_api_call\u001b[0;34m(self, operation_name, api_params)\u001b[0m\n\u001b[1;32m    632\u001b[0m         }\n\u001b[1;32m    633\u001b[0m         request_dict = self._convert_to_request_dict(\n\u001b[0;32m--> 634\u001b[0;31m             api_params, operation_model, context=request_context)\n\u001b[0m\u001b[1;32m    635\u001b[0m \u001b[0;34m\u001b[0m\u001b[0m\n\u001b[1;32m    636\u001b[0m         \u001b[0mservice_id\u001b[0m \u001b[0;34m=\u001b[0m \u001b[0mself\u001b[0m\u001b[0;34m.\u001b[0m\u001b[0m_service_model\u001b[0m\u001b[0;34m.\u001b[0m\u001b[0mservice_id\u001b[0m\u001b[0;34m.\u001b[0m\u001b[0mhyphenize\u001b[0m\u001b[0;34m(\u001b[0m\u001b[0;34m)\u001b[0m\u001b[0;34m\u001b[0m\u001b[0m\n",
      "\u001b[0;32m~/anaconda3/envs/python3/lib/python3.6/site-packages/botocore/client.py\u001b[0m in \u001b[0;36m_convert_to_request_dict\u001b[0;34m(self, api_params, operation_model, context)\u001b[0m\n\u001b[1;32m    680\u001b[0m             api_params, operation_model, context)\n\u001b[1;32m    681\u001b[0m         request_dict = self._serializer.serialize_to_request(\n\u001b[0;32m--> 682\u001b[0;31m             api_params, operation_model)\n\u001b[0m\u001b[1;32m    683\u001b[0m         \u001b[0;32mif\u001b[0m \u001b[0;32mnot\u001b[0m \u001b[0mself\u001b[0m\u001b[0;34m.\u001b[0m\u001b[0m_client_config\u001b[0m\u001b[0;34m.\u001b[0m\u001b[0minject_host_prefix\u001b[0m\u001b[0;34m:\u001b[0m\u001b[0;34m\u001b[0m\u001b[0m\n\u001b[1;32m    684\u001b[0m             \u001b[0mrequest_dict\u001b[0m\u001b[0;34m.\u001b[0m\u001b[0mpop\u001b[0m\u001b[0;34m(\u001b[0m\u001b[0;34m'host_prefix'\u001b[0m\u001b[0;34m,\u001b[0m \u001b[0;32mNone\u001b[0m\u001b[0;34m)\u001b[0m\u001b[0;34m\u001b[0m\u001b[0m\n",
      "\u001b[0;32m~/anaconda3/envs/python3/lib/python3.6/site-packages/botocore/validate.py\u001b[0m in \u001b[0;36mserialize_to_request\u001b[0;34m(self, parameters, operation_model)\u001b[0m\n\u001b[1;32m    295\u001b[0m                                                     operation_model.input_shape)\n\u001b[1;32m    296\u001b[0m             \u001b[0;32mif\u001b[0m \u001b[0mreport\u001b[0m\u001b[0;34m.\u001b[0m\u001b[0mhas_errors\u001b[0m\u001b[0;34m(\u001b[0m\u001b[0;34m)\u001b[0m\u001b[0;34m:\u001b[0m\u001b[0;34m\u001b[0m\u001b[0m\n\u001b[0;32m--> 297\u001b[0;31m                 \u001b[0;32mraise\u001b[0m \u001b[0mParamValidationError\u001b[0m\u001b[0;34m(\u001b[0m\u001b[0mreport\u001b[0m\u001b[0;34m=\u001b[0m\u001b[0mreport\u001b[0m\u001b[0;34m.\u001b[0m\u001b[0mgenerate_report\u001b[0m\u001b[0;34m(\u001b[0m\u001b[0;34m)\u001b[0m\u001b[0;34m)\u001b[0m\u001b[0;34m\u001b[0m\u001b[0m\n\u001b[0m\u001b[1;32m    298\u001b[0m         return self._serializer.serialize_to_request(parameters,\n\u001b[1;32m    299\u001b[0m                                                      operation_model)\n",
      "\u001b[0;31mParamValidationError\u001b[0m: Parameter validation failed:\nInvalid type for parameter Body, value: [0, 0, 0, 0, 0, 0, 0, 0, 0, 0, 0, 0, 0, 0, 0, 0, 0, 0, 0, 0, 0, 0, 0, 0, 0, 0, 0, 0, 0, 0, 0, 0, 0, 0, 0, 0, 0, 0, 0, 0, 0, 0, 0, 0, 0, 0, 0, 0, 0, 0, 0, 0, 0, 0, 0, 0, 0, 0, 0, 0, 0, 0, 0, 0, 0, 0, 0, 0, 0, 0, 0, 0, 0, 0, 0, 0, 0, 0, 0, 0, 0, 0, 0, 0, 0, 0, 0, 0, 0, 0, 0, 0, 0, 0, 0, 0, 0, 0, 0, 0, 0, 0, 0, 0, 0, 0, 0, 0, 0, 0, 0, 0, 0, 0, 0, 0, 0, 0, 0, 0, 0, 0, 0, 0, 0, 0, 0, 0, 0, 0, 0, 0, 0, 0, 0, 0, 0, 0, 0, 0, 0, 0, 0, 0, 0, 0, 0, 0, 0, 0, 0, 0, 0, 0, 0, 0, 0, 0, 0, 0, 0, 0, 0, 0, 0, 0, 0, 0, 0, 0, 0, 0, 0, 0, 0, 0, 0, 0, 0, 0, 0, 0, 0, 0, 0, 0, 0, 0, 0, 0, 0, 0, 0, 0, 0, 0, 0, 0, 0, 0, 0, 0, 0, 0, 0, 0, 0, 0, 0, 0, 0, 0, 0, 0, 0, 0, 0, 0, 0, 0, 0, 0, 0, 0, 0, 0, 1, 0, 0, 0, 0, 0, 0, 0, 0, 0, 0, 0, 0, 0, 0, 0, 0, 0, 0, 0, 0, 0, 0, 0, 0, 0, 0, 0, 0, 0, 1, 0, 0, 0, 0, 0, 0, 0, 0, 0, 0, 0, 0, 0, 0, 0, 0, 0, 0, 0, 0, 0, 0, 0, 0, 0, 0, 0, 0, 0, 0, 0, 0, 0, 0, 0, 0, 0, 0, 0, 0, 0, 0, 0, 0, 0, 0, 0, 0, 0, 0, 0, 0, 0, 0, 0, 0, 0, 0, 0, 0, 0, 0, 0, 0, 0, 0, 0, 0, 0, 0, 0, 0, 0, 0, 0, 0, 0, 0, 0, 0, 0, 0, 0, 0, 0, 0, 0, 0, 0, 0, 0, 0, 0, 0, 0, 0, 0, 0, 0, 0, 0, 0, 0, 0, 0, 0, 0, 0, 0, 0, 0, 0, 0, 0, 0, 0, 0, 0, 0, 0, 0, 0, 0, 0, 0, 0, 0, 0, 0, 0, 0, 0, 0, 0, 0, 0, 0, 0, 0, 0, 0, 0, 0, 0, 0, 0, 0, 0, 0, 0, 0, 0, 0, 0, 0, 0, 0, 0, 0, 0, 0, 0, 0, 0, 0, 0, 0, 0, 0, 0, 0, 0, 0, 0, 0, 0, 0, 0, 0, 0, 0, 0, 0, 0, 0, 0, 0, 0, 0, 0, 0, 0, 0, 0, 0, 0, 0, 0, 0, 0, 0, 0, 0, 0, 0, 0, 0, 0, 0, 0, 0, 0, 0, 0, 0, 0, 0, 0, 0, 0, 0, 0, 0, 0, 0, 0, 0, 0, 0, 0, 0, 0, 0, 0, 0, 0, 0, 0, 0, 0, 0, 0, 0, 0, 0, 0, 0, 0, 0, 0, 0, 0, 0, 0, 0, 0, 0, 0, 0, 0, 0, 0, 0, 0, 0, 0, 0, 0, 0, 0, 0, 0, 0, 0, 0, 0, 0, 0, 0, 0, 0, 0, 0, 0, 0, 0, 0, 0, 0, 0, 0, 0, 0, 0, 0, 0, 0, 0, 0, 0, 0, 0, 0, 0, 0, 0, 0, 0, 0, 0, 0, 0, 0, 0, 0, 0, 0, 0, 0, 0, 0, 0, 0, 0, 0, 0, 0, 0, 0, 0, 0, 0, 0, 0, 0, 0, 0, 0, 0, 0, 0, 0, 0, 0, 0, 0, 0, 0, 0, 0, 0, 0, 0, 0, 0, 0, 0, 0, 0, 0, 0, 0, 0, 0, 0, 0, 0, 0, 0, 0, 0, 0, 0, 0, 0, 0, 0, 0, 0, 1, 0, 0, 0, 0, 0, 0, 0, 0, 0, 0, 0, 0, 0, 0, 0, 0, 0, 0, 0, 0, 0, 0, 0, 0, 0, 0, 0, 0, 0, 0, 0, 0, 0, 0, 0, 0, 0, 0, 0, 0, 0, 0, 0, 0, 0, 0, 0, 0, 0, 0, 0, 0, 0, 0, 0, 0, 0, 0, 0, 0, 0, 0, 0, 0, 0, 0, 0, 0, 0, 0, 0, 0, 0, 0, 0, 0, 0, 0, 0, 0, 0, 0, 0, 0, 0, 0, 0, 0, 0, 0, 0, 0, 0, 0, 0, 0, 0, 0, 0, 0, 0, 0, 0, 0, 0, 0, 0, 0, 0, 0, 0, 0, 0, 0, 0, 0, 0, 0, 0, 0, 0, 0, 0, 0, 0, 0, 0, 0, 0, 0, 0, 0, 0, 0, 0, 0, 0, 0, 0, 0, 0, 0, 0, 0, 0, 0, 0, 0, 0, 0, 0, 0, 0, 0, 0, 0, 0, 0, 0, 0, 0, 0, 0, 0, 0, 0, 0, 0, 0, 0, 0, 0, 0, 0, 0, 0, 0, 0, 0, 0, 0, 0, 0, 0, 0, 0, 0, 0, 0, 0, 0, 0, 0, 0, 0, 0, 0, 0, 0, 0, 0, 0, 0, 0, 0, 0, 0, 0, 0, 0, 0, 0, 0, 0, 0, 0, 0, 0, 0, 0, 0, 0, 0, 0, 0, 0, 0, 0, 0, 0, 0, 0, 0, 0, 0, 0, 0, 0, 0, 0, 0, 0, 0, 0, 0, 0, 0, 0, 0, 0, 0, 0, 0, 1, 0, 0, 0, 0, 0, 0, 0, 0, 0, 0, 0, 0, 0, 0, 0, 0, 0, 0, 0, 0, 0, 0, 0, 0, 0, 0, 0, 0, 0, 0, 0, 0, 0, 0, 0, 0, 0, 0, 0, 0, 0, 0, 0, 0, 0, 0, 0, 0, 0, 0, 0, 0, 0, 0, 0, 0, 0, 0, 0, 0, 0, 0, 0, 0, 0, 0, 0, 0, 0, 0, 0, 0, 0, 0, 0, 0, 0, 0, 0, 0, 0, 0, 0, 0, 0, 0, 1, 0, 0, 0, 0, 0, 0, 0, 0, 0, 0, 0, 0, 0, 0, 0, 0, 0, 0, 0, 0, 0, 0, 0, 0, 0, 0, 0, 0, 0, 0, 0, 0, 0, 0, 0, 0, 0, 0, 0, 0, 0, 0, 0, 0, 0, 0, 0, 0, 0, 0, 0, 0, 0, 0, 0, 0, 0, 0, 0, 0, 0, 0, 0, 0, 0, 0, 0, 0, 0, 0, 0, 0, 0, 0, 0, 0, 0, 0, 0, 0, 0, 0, 0, 0, 0, 0, 0, 0, 0, 0, 0, 0, 0, 0, 0, 0, 0, 0, 0, 0, 0, 0, 0, 0, 0, 0, 0, 0, 0, 0, 0, 0, 0, 0, 0, 0, 0, 0, 0, 0, 0, 0, 0, 0, 0, 0, 0, 0, 0, 0, 0, 0, 0, 0, 0, 0, 0, 0, 0, 0, 0, 0, 0, 0, 0, 0, 0, 0, 0, 0, 0, 0, 0, 0, 0, 0, 0, 0, 0, 0, 0, 0, 0, 0, 0, 0, 0, 0, 0, 0, 0, 0, 0, 0, 0, 0, 0, 0, 0, 0, 0, 0, 0, 0, 0, 0, 0, 0, 0, 0, 0, 0, 0, 0, 0, 0, 0, 0, 0, 0, 0, 0, 0, 0, 0, 0, 0, 0, 0, 0, 0, 0, 0, 0, 0, 0, 0, 0, 0, 0, 0, 0, 0, 0, 0, 0, 0, 0, 0, 0, 0, 0, 0, 0, 0, 0, 0, 0, 0, 0, 0, 0, 0, 0, 0, 0, 0, 0, 0, 0, 0, 0, 1, 0, 0, 0, 0, 0, 0, 0, 0, 0, 0, 0, 0, 0, 0, 0, 0, 0, 0, 0, 0, 0, 0, 0, 0, 0, 0, 0, 0, 0, 0, 0, 0, 0, 0, 0, 0, 0, 0, 0, 0, 0, 0, 0, 0, 0, 0, 0, 0, 0, 0, 0, 0, 0, 0, 0, 1, 0, 0, 0, 0, 0, 0, 0, 0, 0, 0, 0, 0, 0, 0, 0, 0, 0, 0, 0, 0, 0, 0, 0, 0, 0, 0, 0, 0, 0, 0, 0, 0, 0, 0, 0, 0, 0, 0, 0, 0, 0, 0, 0, 0, 0, 0, 0, 0, 0, 0, 0, 0, 0, 0, 0, 0, 0, 0, 0, 0, 0, 0, 0, 0, 0, 0, 0, 0, 0, 0, 0, 0, 0, 0, 0, 0, 0, 0, 0, 0, 0, 0, 0, 0, 0, 0, 0, 0, 0, 0, 0, 0, 0, 0, 0, 0, 0, 0, 0, 0, 0, 0, 0, 0, 0, 0, 0, 0, 0, 0, 0, 0, 0, 0, 0, 0, 0, 0, 0, 0, 0, 0, 0, 0, 0, 0, 0, 0, 0, 0, 0, 0, 0, 0, 0, 0, 0, 0, 0, 0, 0, 0, 0, 0, 0, 0, 0, 0, 0, 0, 0, 0, 0, 0, 0, 0, 0, 0, 0, 0, 0, 0, 0, 0, 0, 0, 0, 0, 0, 0, 0, 0, 0, 0, 0, 0, 0, 0, 0, 0, 0, 0, 0, 0, 0, 0, 0, 0, 0, 0, 0, 0, 0, 0, 0, 0, 0, 0, 0, 0, 0, 0, 0, 0, 0, 0, 0, 0, 0, 0, 0, 0, 0, 0, 0, 0, 0, 0, 0, 0, 0, 0, 0, 0, 0, 0, 0, 0, 0, 0, 0, 0, 0, 0, 0, 0, 0, 0, 0, 0, 0, 0, 0, 0, 0, 0, 0, 0, 0, 0, 0, 0, 0, 0, 0, 0, 0, 0, 0, 0, 0, 0, 0, 0, 0, 0, 0, 0, 0, 0, 0, 0, 0, 0, 0, 0, 0, 0, 0, 0, 0, 0, 0, 0, 0, 0, 0, 0, 0, 0, 0, 0, 0, 0, 0, 0, 0, 0, 0, 0, 0, 0, 0, 0, 0, 0, 0, 0, 0, 0, 0, 0, 0, 0, 0, 0, 0, 0, 0, 0, 0, 0, 0, 0, 0, 0, 0, 0, 0, 0, 0, 0, 0, 0, 0, 0, 0, 0, 0, 0, 0, 0, 0, 0, 0, 0, 0, 0, 0, 0, 0, 0, 0, 0, 0, 0, 0, 0, 0, 0, 0, 0, 0, 0, 0, 0, 0, 0, 0, 0, 0, 0, 0, 0, 0, 0, 0, 0, 0, 0, 0, 0, 0, 0, 0, 0, 0, 0, 0, 0, 0, 0, 0, 0, 0, 0, 0, 0, 0, 0, 0, 0, 0, 0, 0, 0, 0, 0, 0, 0, 0, 0, 0, 0, 0, 0, 0, 0, 0, 0, 0, 0, 0, 0, 0, 0, 0, 0, 0, 0, 0, 0, 0, 0, 0, 0, 0, 0, 0, 0, 0, 0, 0, 0, 0, 0, 0, 0, 0, 0, 0, 0, 0, 0, 0, 0, 0, 0, 0, 0, 0, 0, 0, 0, 0, 0, 0, 0, 0, 0, 0, 0, 0, 0, 0, 0, 0, 0, 0, 0, 0, 0, 0, 0, 0, 0, 0, 0, 0, 0, 0, 0, 0, 0, 0, 0, 0, 0, 0, 0, 0, 0, 0, 0, 0, 0, 0, 0, 0, 0, 0, 0, 0, 0, 0, 0, 0, 0, 0, 0, 0, 0, 0, 0, 0, 0, 0, 0, 0, 0, 0, 0, 0, 0, 0, 0, 0, 0, 0, 0, 0, 0, 0, 0, 0, 0, 0, 0, 0, 0, 0, 0, 0, 0, 0, 0, 0, 0, 0, 0, 0, 0, 0, 0, 0, 0, 0, 0, 0, 0, 0, 0, 0, 0, 0, 0, 0, 0, 0, 0, 0, 0, 0, 0, 0, 0, 0, 0, 0, 0, 0, 0, 0, 0, 0, 0, 0, 0, 0, 0, 0, 0, 0, 0, 0, 0, 0, 0, 0, 0, 0, 0, 0, 0, 0, 0, 0, 0, 0, 0, 0, 0, 0, 0, 0, 0, 0, 0, 0, 0, 0, 0, 0, 0, 0, 0, 0, 0, 0, 0, 0, 0, 0, 0, 0, 0, 0, 0, 0, 0, 0, 0, 0, 0, 0, 0, 0, 0, 0, 0, 0, 0, 0, 0, 0, 0, 0, 0, 0, 0, 0, 0, 0, 0, 0, 0, 0, 0, 0, 0, 0, 1, 0, 0, 0, 0, 0, 0, 0, 0, 0, 0, 0, 0, 0, 0, 0, 0, 0, 0, 0, 0, 0, 0, 0, 0, 0, 0, 0, 0, 0, 0, 0, 0, 0, 0, 0, 0, 0, 0, 0, 0, 0, 0, 0, 0, 0, 0, 0, 0, 0, 0, 0, 0, 0, 0, 0, 0, 0, 0, 0, 0, 0, 0, 0, 0, 0, 0, 0, 0, 0, 0, 0, 0, 0, 0, 1, 0, 0, 0, 0, 0, 0, 0, 0, 0, 0, 0, 0, 0, 0, 0, 0, 0, 0, 0, 0, 1, 0, 0, 1, 0, 0, 0, 0, 0, 0, 0, 0, 0, 0, 0, 0, 0, 0, 0, 0, 0, 0, 0, 0, 0, 0, 0, 0, 0, 0, 0, 0, 0, 0, 0, 0, 0, 0, 0, 0, 0, 0, 0, 0, 0, 0, 0, 0, 0, 0, 0, 0, 0, 0, 0, 0, 0, 0, 0, 0, 0, 0, 0, 0, 0, 0, 0, 0, 0, 0, 0, 0, 0, 0, 0, 0, 0, 0, 0, 0, 0, 0, 0, 0, 0, 0, 0, 0, 0, 0, 0, 0, 0, 0, 0, 0, 0, 0, 0, 0, 0, 0, 0, 0, 0, 0, 0, 0, 0, 0, 0, 0, 0, 0, 0, 0, 0, 0, 0, 0, 0, 0, 0, 0, 0, 0, 0, 0, 0, 0, 0, 0, 0, 0, 0, 0, 0, 0, 0, 0, 0, 0, 0, 0, 0, 0, 0, 0, 0, 0, 0, 0, 0, 0, 0, 0, 0, 0, 0, 0, 0, 0, 0, 0, 0, 0, 0, 0, 0, 0, 0, 0, 0, 0, 0, 0, 0, 0, 0, 0, 0, 0, 0, 0, 0, 0, 0, 0, 0, 0, 0, 0, 0, 0, 0, 0, 0, 0, 0, 0, 0, 0, 0, 0, 0, 0, 0, 0, 0, 0, 0, 0, 0, 0, 0, 0, 0, 0, 0, 0, 0, 0, 0, 0, 0, 0, 0, 0, 0, 0, 0, 0, 0, 0, 0, 0, 0, 0, 0, 0, 0, 0, 0, 0, 0, 0, 0, 0, 0, 0, 0, 0, 0, 0, 0, 0, 0, 0, 0, 0, 0, 0, 0, 0, 0, 0, 0, 0, 0, 0, 0, 0, 0, 0, 0, 0, 0, 0, 0, 0, 0, 0, 0, 0, 0, 0, 0, 0, 0, 0, 0, 0, 0, 0, 0, 0, 0, 0, 0, 0, 0, 0, 0, 0, 0, 0, 0, 0, 0, 0, 0, 0, 0, 0, 0, 0, 0, 0, 0, 0, 0, 0, 0, 0, 0, 0, 0, 0, 0, 0, 0, 0, 0, 0, 0, 0, 0, 0, 0, 0, 0, 0, 0, 0, 0, 0, 0, 0, 0, 0, 0, 0, 0, 0, 0, 0, 0, 0, 0, 0, 0, 0, 0, 0, 0, 0, 0, 0, 0, 0, 0, 0, 0, 0, 0, 0, 0, 0, 0, 0, 0, 0, 0, 0, 0, 0, 0, 0, 0, 0, 0, 0, 0, 0, 0, 0, 0, 0, 0, 0, 0, 0, 0, 0, 0, 0, 0, 0, 0, 0, 0, 0, 0, 0, 0, 0, 0, 0, 0, 0, 0, 0, 0, 0, 0, 0, 0, 0, 0, 0, 0, 0, 0, 0, 0, 0, 0, 0, 0, 0, 0, 0, 0, 0, 0, 0, 0, 0, 0, 0, 0, 0, 0, 0, 0, 0, 0, 0, 0, 0, 0, 0, 0, 0, 0, 0, 0, 0, 0, 0, 1, 0, 0, 0, 0, 0, 0, 0, 0, 0, 0, 0, 0, 0, 0, 0, 0, 0, 0, 0, 0, 0, 0, 0, 0, 0, 0, 0, 0, 0, 0, 0, 0, 0, 0, 0, 0, 0, 0, 0, 0, 0, 0, 0, 0, 0, 0, 0, 0, 0, 0, 0, 0, 0, 0, 0, 0, 0, 0, 0, 0, 0, 0, 0, 0, 0, 0, 0, 0, 0, 0, 0, 0, 0, 0, 0, 0, 0, 0, 0, 0, 0, 0, 0, 0, 0, 0, 0, 0, 0, 0, 0, 0, 0, 0, 0, 0, 0, 0, 0, 0, 0, 0, 0, 0, 0, 0, 0, 0, 0, 0, 0, 0, 0, 0, 0, 0, 0, 0, 0, 0, 0, 0, 0, 0, 0, 0, 0, 0, 0, 0, 0, 0, 0, 0, 0, 0, 0, 0, 0, 0, 0, 0, 0, 0, 0, 0, 0, 0, 0, 0, 0, 0, 0, 0, 0, 0, 0, 0, 0, 0, 0, 0, 0, 0, 0, 0, 0, 0, 0, 0, 0, 0, 0, 0, 0, 0, 0, 0, 0, 0, 0, 0, 0, 0, 0, 0, 0, 0, 0, 0, 0, 0, 0, 0, 0, 0, 0, 0, 0, 0, 0, 0, 0, 0, 0, 0, 0, 0, 0, 0, 0, 0, 0, 0, 0, 0, 0, 0, 0, 0, 0, 0, 0, 0, 0, 0, 0, 0, 0, 0, 0, 0, 0, 0, 0, 0, 0, 0, 0, 0, 0, 0, 0, 0, 0, 0, 0, 0, 0, 0, 0, 0, 0, 0, 0, 0, 0, 0, 0, 0, 0, 0, 0, 0, 0, 0, 0, 0, 0, 0, 0, 0, 0, 0, 0, 0, 0, 0, 0, 0, 0, 0, 0, 0, 0, 0, 0, 0, 0, 0, 0, 0, 0, 0, 0, 0, 0, 0, 0, 0, 0, 0, 0, 0, 0, 0, 0, 0, 0, 0, 0, 0, 0, 0, 0, 0, 0, 0, 0, 0, 0, 0, 0, 0, 0, 0, 0, 0, 0, 0, 0, 0, 0, 0, 0, 0, 0, 0, 0, 0, 0, 0, 0, 0, 0, 0, 0, 0, 0, 0, 0, 0, 0, 0, 0, 0, 0, 0, 0, 0, 0, 0, 0, 0, 0, 0, 0, 0, 0, 0, 0, 0, 0, 0, 0, 0, 0, 0, 0, 0, 0, 0, 0, 0, 0, 0, 0, 0, 0, 0, 0, 0, 0, 0, 0, 0, 0, 0, 0, 0, 0, 0, 0, 0, 0, 0, 0, 0, 0, 0, 0, 0, 0, 0, 0, 0, 0, 0, 0, 0, 0, 0, 0, 0, 0, 0, 0, 0, 0, 0, 0, 0, 0, 0, 0, 0, 0, 0, 0, 0, 0, 0, 0, 0, 0, 0, 0, 0, 0, 0, 0, 0, 0, 0, 0, 0, 0, 0, 0, 0, 0, 0, 0, 0, 0, 0, 0, 0, 0, 0, 0, 0, 0, 0, 0, 0, 0, 0, 0, 0, 0, 0, 0, 0, 0, 0, 0, 0, 0, 0, 0, 0, 0, 0, 0, 0, 0, 0, 0, 0, 0, 0, 0, 0, 0, 0, 0, 0, 0, 0, 0, 0, 1, 0, 0, 0, 0, 0, 0, 0, 0, 0, 0, 0, 0, 0, 0, 0, 0, 0, 0, 0, 0, 0, 0, 0, 0, 0, 0, 0, 0, 0, 0, 0, 0, 0, 0, 0, 2, 0, 0, 0, 0, 0, 0, 0, 0, 0, 0, 0, 0, 0, 0, 0, 0, 0, 0, 0, 0, 0, 0, 0, 0, 0, 0, 0, 0, 0, 0, 0, 0, 0, 0, 0, 0, 0, 0, 0, 0, 1, 0, 0, 0, 0, 0, 0, 0, 0, 0, 0, 0, 0, 0, 0, 0, 0, 0, 0, 0, 0, 0, 0, 0, 0, 0, 0, 0, 0, 0, 0, 0, 0, 0, 0, 0, 0, 0, 0, 0, 0, 0, 0, 0, 0, 0, 0, 0, 0, 0, 0, 0, 0, 0, 0, 0, 0, 0, 0, 0, 0, 0, 0, 0, 0, 0, 0, 0, 0, 0, 0, 0, 0, 0, 0, 0, 0, 0, 0, 0, 0, 0, 0, 0, 0, 0, 0, 0, 0, 0, 0, 0, 0, 0, 0, 0, 0, 0, 0, 0, 0, 0, 0, 0, 0, 0, 0, 0, 0, 0, 0, 0, 0, 0, 0, 0, 0, 0, 0, 0, 0, 0, 0, 0, 0, 0, 0, 0, 0, 0, 0, 0, 0, 0, 0, 0, 0, 0, 0, 0, 0, 0, 0, 0, 0, 0, 0, 0, 0, 0, 0, 0, 0, 0, 0, 0, 0, 0, 0, 0, 0, 0, 0, 0, 0, 0, 0, 0, 0, 0, 0, 0, 0, 0, 0, 0, 0, 0, 0, 0, 0, 0, 0, 0, 0, 0, 0, 0, 0, 0, 0, 0, 0, 0, 0, 0, 0, 0, 0, 0, 0, 0, 0, 0, 0, 0, 0, 0, 0, 0, 0, 0, 0, 0, 0, 0, 0, 0, 0, 0, 0, 0, 0, 0, 0, 0, 0, 0, 0, 0, 0, 0, 0, 0, 0, 0, 0, 0, 0, 0, 0, 0, 0, 0, 0, 0, 0, 0, 0, 0, 0, 0, 0, 0, 0, 0, 0, 0, 0, 0, 0, 0, 0, 0, 0, 0, 0, 0, 0, 0, 0, 0, 0, 0, 0, 0, 0, 0, 0, 0, 0, 0, 0, 0, 0, 0, 0, 0, 0, 0, 0, 0, 0, 0, 0, 0, 0, 0, 0, 0, 0, 0, 0, 0, 0, 0, 0, 0, 0, 0, 0, 0, 0, 0, 0, 0, 0, 0, 0, 0, 0, 0, 0, 0, 0, 0, 0, 0, 0, 0, 0, 0, 0, 0, 0, 0, 0, 0, 0, 0, 0, 0, 0, 0, 0, 0, 0, 0, 0, 0, 0, 0, 0, 0, 0, 0, 0, 0, 0, 0, 0, 0, 0, 0, 0, 0, 0, 0, 0, 0, 0, 0, 0, 0, 0, 0, 0, 0, 0, 0, 0, 0, 0, 0, 0, 0, 0, 0, 0, 0, 0, 0, 0, 0, 0, 0, 0, 0, 0, 0, 0, 0, 0, 0, 0, 0, 0, 0, 0, 0, 0, 0, 0, 0, 0, 0, 0, 0, 0, 0, 0, 0, 0, 0, 0, 0, 0, 0, 0, 0, 0, 0, 0, 0, 0, 0, 0, 0, 0, 0, 0, 0, 0, 0, 0, 0, 0, 0, 0, 0, 0, 0, 0, 0, 0, 0, 0, 0, 0, 0, 0, 0, 0, 0, 0, 0, 0, 0, 0, 0, 0, 0, 0, 0, 0, 0, 0, 0, 0, 0, 0, 0, 0, 0, 0, 0, 0, 0, 0, 0, 0, 0, 0, 0, 0, 0, 0, 0, 1, 0, 0, 0, 0, 0, 0, 0, 0, 0, 0, 0, 0, 0, 0, 0, 0, 0, 0, 0, 0, 0, 0, 0, 0, 0, 0, 0, 0, 0, 0, 0, 0, 0, 0, 0, 0, 0, 0, 0, 0, 0, 0, 0, 0, 0, 0, 0, 0, 0, 0, 0, 0, 0, 0, 0, 0, 0, 0, 0, 0, 0, 0, 0, 0, 0, 0, 0, 0, 0, 0, 0, 0, 0, 0, 0, 0, 0, 0, 0, 0, 0, 0, 0, 0, 0, 0, 0, 0, 0, 0, 0, 0, 0, 0, 0, 0, 0, 0, 0, 0, 0, 0, 0, 0, 0, 0, 0, 0, 0, 0, 2, 0, 0, 0, 0, 0, 0, 0, 0, 0, 0, 0, 0, 0, 0, 0, 0, 0, 0, 0, 0, 0, 0, 0, 0, 0, 0, 0, 0, 0, 0, 0, 0, 0, 0, 0, 0, 0, 0, 0, 0, 0, 0, 0, 0, 0, 0, 0, 0, 0, 0, 0, 0, 0, 0, 0, 0, 0, 0, 0, 0, 0, 0, 0, 0, 0, 0, 0, 0, 0, 0, 0, 0, 0, 0, 0, 0, 0, 0, 0, 0, 0, 0, 0, 0, 0, 0, 0, 0, 0, 0, 0, 0, 0, 0, 0, 0, 0, 0, 0, 0, 0, 0, 0, 0, 0, 0, 0, 0, 0, 0, 0, 0, 0, 0, 0, 0, 0, 0, 0, 0, 0, 0, 0, 0, 0, 0, 0, 0, 0, 0, 0, 0, 0, 0, 0, 0, 0, 0, 0, 0, 0, 0, 0, 0, 0, 0, 0, 0, 0, 0, 0, 0, 0, 0, 0, 0, 0, 0, 0, 0, 0, 0, 0, 0, 0, 0, 0, 0, 0, 0, 0, 0, 0, 0, 0, 0, 0, 0, 0, 0, 0, 0, 0, 0, 0, 0, 0, 0, 0, 0, 0, 0, 0, 0, 0, 0, 0, 0, 0, 0, 0, 0, 0, 0, 0, 0, 0, 0, 0, 0, 0, 0, 0, 0, 0, 0, 0, 0, 0, 0, 0, 0, 0, 0, 0, 0, 0, 0, 0, 0, 0, 0, 0, 0, 0, 0, 0, 0, 0, 0, 0, 0, 0, 0, 0, 0, 0, 0, 0, 0, 0, 0, 0, 0, 0, 0, 0, 0, 0, 0, 0, 0, 0, 0, 0, 0, 0, 0, 0, 0, 0, 0, 0, 0, 0, 0, 0, 0, 0, 0, 0, 0, 0, 0, 0, 0, 0, 0, 0, 0, 0, 0, 0, 0, 0, 0, 0, 0, 0, 0, 0, 0, 0, 0, 0, 0, 0, 0, 0, 0, 0, 0, 0, 0, 0, 0, 0, 0, 0, 0, 0, 0, 0, 0, 0, 0, 0, 0, 0, 0, 0, 0, 0, 0, 0, 0, 0, 0, 0, 0, 0, 0, 0, 0, 0, 0, 0, 0, 0, 0, 0, 0, 0, 0, 0, 0, 0, 0, 0, 0, 0, 0, 0, 0, 0, 0, 0, 0, 0, 0, 0, 0, 0, 0, 0, 0, 0, 0, 0, 0, 0, 0, 0, 0, 0, 0, 0, 0, 0, 0, 0, 0, 0, 0, 0, 0, 0, 0, 0, 0, 0, 0, 0, 0, 0, 0, 0, 0, 0, 0, 0, 0, 0, 0, 0, 0, 0, 0, 0, 0, 0, 0, 0, 0, 0, 0, 0, 0, 0, 0, 0, 0, 0, 0, 0, 0, 0, 0, 0, 0, 0, 0, 0, 0, 0, 0, 0, 0, 0, 0, 0, 0, 0, 0, 0, 0, 0, 0, 0, 0, 0, 0, 0, 0, 0, 0, 0, 0, 0, 0, 0, 0, 0, 0, 0, 0, 0, 0, 0, 0, 0, 0, 0, 0, 0, 0, 0, 0, 0, 0, 0, 0, 0, 0, 0, 0, 0, 0, 0, 0, 0, 0, 0, 0, 0, 0, 0, 0, 0, 0, 0, 0, 0, 0, 0, 0, 0, 0, 0, 0, 0, 0, 0, 0, 0, 0, 0, 0, 0, 0, 0, 0, 0, 0, 0, 0, 0, 0, 0, 0, 0, 0, 0, 0, 0, 0, 0, 0, 0, 0, 0, 0, 0, 0, 0, 0, 0, 0, 0, 0, 0, 0, 0, 0, 0, 0, 0, 0, 0, 0, 0, 0, 0, 0, 0, 0, 0, 0, 0, 0, 0, 0, 0, 0, 0, 0, 0, 0, 0, 0, 0, 0, 0, 0, 0, 0, 0, 0, 0, 0, 0, 0, 0, 0, 0, 0, 0, 0, 0, 0, 0, 0, 0, 0, 0, 0, 0, 0, 0, 0, 0, 0, 0, 0, 0, 0, 0, 0, 0, 0, 0, 0, 0, 0, 0, 0, 0, 0, 0, 0, 0, 0, 0, 0, 0, 0, 0, 0, 0, 0, 0, 0, 0, 0, 0, 0, 0, 0, 0, 0, 0, 0, 0, 0, 0, 0, 0, 0, 0, 0, 0, 0, 0, 0, 0, 0, 0, 0, 0, 0, 0, 0, 0, 0, 0, 0, 0, 0, 0, 0, 1, 0, 0, 0, 0, 0, 0, 0, 0, 0, 0, 0, 0, 0, 0, 0, 0, 0, 0, 0, 0, 0, 0, 0, 0, 0, 0, 0, 0, 0, 0, 0, 0, 0, 0, 0, 0, 0, 0, 0, 0, 0, 0, 0, 0, 0, 0, 0, 0, 0, 0, 0, 0, 0, 0, 0, 0, 0, 0, 0, 0, 0, 0, 0, 0, 0, 0, 0, 0, 0, 0, 0, 0, 0, 0, 0, 0, 0, 0, 0, 0, 0, 0, 0, 0, 0, 0, 0, 0, 0, 0, 0, 0, 0, 0, 0, 0, 0, 0, 0, 0, 0, 0, 0, 0, 0, 0, 0, 1, 0, 0, 0, 0, 0, 0, 0, 0, 0, 0, 0, 0, 0, 0, 0, 0, 0, 0, 0, 0, 0, 0, 0, 0, 0, 0, 0, 0, 0, 0, 0, 0, 0, 0, 0, 0, 0, 0, 0, 0, 0, 0, 0, 0, 0, 0, 0, 0, 0, 0, 0, 0, 0, 0, 0, 0, 0, 0, 0, 0, 0, 0, 0, 0, 0, 0, 0, 0, 0, 0, 0, 0, 0, 0, 0, 0, 0, 0, 0, 0, 0, 0, 0, 0, 0, 0, 0, 0, 0, 0, 0, 0, 0, 0, 0, 0, 0, 0, 0, 0, 0, 0, 0, 0, 0, 0, 0, 0, 0, 0, 0, 0, 0, 0, 0, 0, 0, 0, 0, 0, 0, 0, 0, 0, 0, 0, 0, 0, 0, 0, 0, 0, 0, 0, 0, 0, 0, 0, 0, 0, 0, 0, 0, 0, 0, 0, 0, 0, 0, 0, 0, 0, 0, 0, 0, 0, 0, 0, 0, 0, 0, 0, 0, 0, 0, 0, 0, 0, 0, 0, 0, 0, 0, 0, 0, 0, 0, 0, 0, 0, 0, 0, 0, 0, 0, 0, 0, 0, 0, 0, 0, 0, 0, 0, 0, 0, 0, 0, 0, 0, 0, 0, 0, 0, 0, 0, 0, 0, 0, 0, 0, 0, 0, 0, 0, 0, 0, 0, 0, 0, 0, 0, 0, 0, 0, 0, 0, 0, 0, 0, 0, 0, 0, 0, 0, 0, 0, 0, 0, 0, 0, 0, 0, 0, 0, 0, 0, 0, 0, 0, 0, 0, 0, 0, 0, 0, 0, 0, 0, 0, 0, 0, 0, 0, 0, 0, 0, 0, 0, 0, 0, 0, 0, 0, 0, 0, 0, 0, 0, 0, 0, 0, 0, 0, 0, 0, 0, 0, 0, 0, 0, 0, 0, 0, 0, 0, 0, 0, 0, 0, 0, 0, 0, 0, 0, 0, 0, 0, 0, 0, 0, 0, 0, 0, 0, 0, 0, 0, 0, 0, 0, 0, 0, 0, 0, 0, 0, 0, 0, 0, 0, 0, 0, 0, 0, 0, 0, 0, 0, 0, 0, 0, 0, 0, 0, 0, 0, 0, 0, 0, 0, 0, 0, 0, 0, 0, 0, 0, 0, 0, 0, 0, 0, 0, 0, 0, 0, 0, 0, 0, 0, 0, 0, 0, 0, 0, 0, 0, 0, 0, 0, 0, 0, 0, 0, 0, 0, 0, 0, 0, 0, 0, 0, 0, 0, 0, 0, 0, 0, 0, 0, 0, 0, 0, 0, 0, 0, 0, 0, 0, 0, 0, 0, 0, 0, 0, 0, 0, 0, 0, 0, 0, 0, 0, 0, 0, 0, 0, 0, 0, 0, 0, 0, 0, 0, 0, 0, 0, 0, 0, 0, 0, 0, 0, 0, 0, 0, 0, 0, 0, 0, 0, 0, 0, 0, 0, 0, 0, 0, 0, 0, 0, 0, 2, 0, 1, 0], type: <class 'list'>, valid types: <class 'bytes'>, <class 'bytearray'>, file-like object"
     ]
    }
   ],
   "source": [
    "response = runtime.invoke_endpoint(EndpointName = xgb_predictor.endpoint, # The name of the endpoint we created\n",
    "                                       ContentType = 'text/csv',                     # The data format that is expected\n",
    "                                       Body = test_bow)"
   ]
  },
  {
   "cell_type": "markdown",
   "metadata": {},
   "source": [
    "So why did we get an error?\n",
    "\n",
    "Because we tried to send the endpoint a list of integers but it expected us to send data of type `text/csv`. So, we need to convert it."
   ]
  },
  {
   "cell_type": "code",
   "execution_count": 47,
   "metadata": {},
   "outputs": [],
   "source": [
    "response = runtime.invoke_endpoint(EndpointName = xgb_predictor.endpoint, # The name of the endpoint we created\n",
    "                                       ContentType = 'text/csv',                     # The data format that is expected\n",
    "                                       Body = ','.join([str(val) for val in test_bow]).encode('utf-8'))"
   ]
  },
  {
   "cell_type": "code",
   "execution_count": 48,
   "metadata": {},
   "outputs": [
    {
     "name": "stdout",
     "output_type": "stream",
     "text": [
      "{'ResponseMetadata': {'RequestId': '602ef9d0-0e27-46f0-a77f-d16a6f2d4c8b', 'HTTPStatusCode': 200, 'HTTPHeaders': {'x-amzn-requestid': '602ef9d0-0e27-46f0-a77f-d16a6f2d4c8b', 'x-amzn-invoked-production-variant': 'AllTraffic', 'date': 'Fri, 2 Aug 2019 19:06:41 GMT', 'content-type': 'text/csv; charset=utf-8', 'content-length': '14'}, 'RetryAttempts': 0}, 'ContentType': 'text/csv; charset=utf-8', 'InvokedProductionVariant': 'AllTraffic', 'Body': <botocore.response.StreamingBody object at 0x7f802fce34e0>}\n"
     ]
    }
   ],
   "source": [
    "print(response)"
   ]
  },
  {
   "cell_type": "markdown",
   "metadata": {},
   "source": [
    "As we can see, the response from our model is a somewhat complicated looking dict that contains a bunch of information. The bit that we are most interested in is `'Body'` object which is a streaming object that we need to `read` in order to make use of."
   ]
  },
  {
   "cell_type": "code",
   "execution_count": 49,
   "metadata": {},
   "outputs": [
    {
     "name": "stdout",
     "output_type": "stream",
     "text": [
      "0.441008746624\n"
     ]
    }
   ],
   "source": [
    "response = response['Body'].read().decode('utf-8')\n",
    "print(response)"
   ]
  },
  {
   "cell_type": "markdown",
   "metadata": {},
   "source": [
    "Now that we know how to process the incoming user data we can start setting up the infrastructure to make our simple web app work. To do this we will make use of two different services. Amazon's Lambda and API Gateway services.\n",
    "\n",
    "Lambda is a service which allows someone to write some relatively simple code and have it executed whenever a chosen trigger occurs. For example, you may want to update a database whenever new data is uploaded to a folder stored on S3.\n",
    "\n",
    "API Gateway is a service that allows you to create HTTP endpoints (url addresses) which are connected to other AWS services. One of the benefits to this is that you get to decide what credentials, if any, are required to access these endpoints.\n",
    "\n",
    "In our case we are going to set up an HTTP endpoint through API Gateway which is open to the public. Then, whenever anyone sends data to our public endpoint we will trigger a Lambda function which will send the input (in our case a review) to our model's endpoint and then return the result."
   ]
  },
  {
   "cell_type": "markdown",
   "metadata": {},
   "source": [
    "### Setting up a Lambda function\n",
    "\n",
    "The first thing we are going to do is set up a Lambda function. This Lambda function will be executed whenever our public API has data sent to it. When it is executed it will receive the data, perform any sort of processing that is required, send the data (the review) to the SageMaker endpoint we've created and then return the result.\n",
    "\n",
    "#### Part A: Create an IAM Role for the Lambda function\n",
    "\n",
    "Since we want the Lambda function to call a SageMaker endpoint, we need to make sure that it has permission to do so. To do this, we will construct a role that we can later give the Lambda function.\n",
    "\n",
    "Using the AWS Console, navigate to the **IAM** page and click on **Roles**. Then, click on **Create role**. Make sure that the **AWS service** is the type of trusted entity selected and choose **Lambda** as the service that will use this role, then click **Next: Permissions**.\n",
    "\n",
    "In the search box type `sagemaker` and select the check box next to the **AmazonSageMakerFullAccess** policy. Then, click on **Next: Review**.\n",
    "\n",
    "Lastly, give this role a name. Make sure you use a name that you will remember later on, for example `LambdaSageMakerRole`. Then, click on **Create role**."
   ]
  },
  {
   "cell_type": "markdown",
   "metadata": {},
   "source": [
    "#### Part B: Create a Lambda function\n",
    "\n",
    "Now it is time to actually create the Lambda function. Remember from earlier that in order to process the user provided input and send it to our endpoint we need to gather two pieces of information:\n",
    "\n",
    " - The name of the endpoint, and\n",
    " - the vocabulary object.\n",
    "\n",
    "We will copy these pieces of information to our Lambda function after we create it.\n",
    "\n",
    "To start, using the AWS Console, navigate to the AWS Lambda page and click on **Create a function**. When you get to the next page, make sure that **Author from scratch** is selected. Now, name your Lambda function, using a name that you will remember later on, for example `sentiment_analysis_xgboost_func`. Make sure that the **Python 3.6** runtime is selected and then choose the role that you created in the previous part. Then, click on **Create Function**.\n",
    "\n",
    "On the next page you will see some information about the Lambda function you've just created. If you scroll down you should see an editor in which you can write the code that will be executed when your Lambda function is triggered. Collecting the code we wrote above to process a single review and adding it to the provided example `lambda_handler` we arrive at the following.\n",
    "\n",
    "```python\n",
    "# We need to use the low-level library to interact with SageMaker since the SageMaker API\n",
    "# is not available natively through Lambda.\n",
    "import boto3\n",
    "\n",
    "# And we need the regular expression library to do some of the data processing\n",
    "import re\n",
    "\n",
    "REPLACE_NO_SPACE = re.compile(\"(\\.)|(\\;)|(\\:)|(\\!)|(\\')|(\\?)|(\\,)|(\\\")|(\\()|(\\))|(\\[)|(\\])\")\n",
    "REPLACE_WITH_SPACE = re.compile(\"(<br\\s*/><br\\s*/>)|(\\-)|(\\/)\")\n",
    "\n",
    "def review_to_words(review):\n",
    "    words = REPLACE_NO_SPACE.sub(\"\", review.lower())\n",
    "    words = REPLACE_WITH_SPACE.sub(\" \", words)\n",
    "    return words\n",
    "    \n",
    "def bow_encoding(words, vocabulary):\n",
    "    bow = [0] * len(vocabulary) # Start by setting the count for each word in the vocabulary to zero.\n",
    "    for word in words.split():  # For each word in the string\n",
    "        if word in vocabulary:  # If the word is one that occurs in the vocabulary, increase its count.\n",
    "            bow[vocabulary[word]] += 1\n",
    "    return bow\n",
    "\n",
    "\n",
    "def lambda_handler(event, context):\n",
    "    \n",
    "    vocab = \"*** ACTUAL VOCABULARY GOES HERE ***\"\n",
    "    \n",
    "    words = review_to_words(event['body'])\n",
    "    bow = bow_encoding(words, vocab)\n",
    "\n",
    "    # The SageMaker runtime is what allows us to invoke the endpoint that we've created.\n",
    "    runtime = boto3.Session().client('sagemaker-runtime')\n",
    "\n",
    "    # Now we use the SageMaker runtime to invoke our endpoint, sending the review we were given\n",
    "    response = runtime.invoke_endpoint(EndpointName = '***ENDPOINT NAME HERE***',# The name of the endpoint we created\n",
    "                                       ContentType = 'text/csv',                 # The data format that is expected\n",
    "                                       Body = ','.join([str(val) for val in bow]).encode('utf-8')) # The actual review\n",
    "\n",
    "    # The response is an HTTP response whose body contains the result of our inference\n",
    "    result = response['Body'].read().decode('utf-8')\n",
    "    \n",
    "    # Round the result so that our web app only gets '1' or '0' as a response.\n",
    "    result = round(float(result))\n",
    "\n",
    "    return {\n",
    "        'statusCode' : 200,\n",
    "        'headers' : { 'Content-Type' : 'text/plain', 'Access-Control-Allow-Origin' : '*' },\n",
    "        'body' : str(result)\n",
    "    }\n",
    "```"
   ]
  },
  {
   "cell_type": "markdown",
   "metadata": {},
   "source": [
    "Once you have copy and pasted the code above into the Lambda code editor, replace the `**ENDPOINT NAME HERE**` portion with the name of the endpoint that we deployed earlier. You can determine the name of the endpoint using the code cell below."
   ]
  },
  {
   "cell_type": "code",
   "execution_count": 50,
   "metadata": {},
   "outputs": [
    {
     "data": {
      "text/plain": [
       "'xgboost-2019-08-02-18-16-49-387'"
      ]
     },
     "execution_count": 50,
     "metadata": {},
     "output_type": "execute_result"
    }
   ],
   "source": [
    "xgb_predictor.endpoint"
   ]
  },
  {
   "cell_type": "markdown",
   "metadata": {},
   "source": [
    "In addition, you will need to copy the vocabulary dict to the appropriate place in the code at the beginning of the `lambda_handler` method. The cell below prints out the vocabulary dict in a way that is easy to copy and paste."
   ]
  },
  {
   "cell_type": "code",
   "execution_count": 51,
   "metadata": {},
   "outputs": [
    {
     "name": "stdout",
     "output_type": "stream",
     "text": [
      "{'this': 4457, 'was': 4805, 'weird': 4841, 'movie': 2926, 'it': 2366, 'started': 4157, 'out': 3141, 'pretty': 3384, 'good': 1937, 'solid': 4057, 'sound': 4081, 'track': 4544, 'behind': 447, 'flash': 1745, 'images': 2235, 'of': 3083, 'gore': 1941, 'and': 226, 'as': 311, 'our': 3139, 'did': 1241, 'his': 2118, 'thing': 4450, 'next': 3007, 'comes': 891, 'down': 1335, 'fall': 1637, 'here': 2086, 'could': 1007, 'tell': 4395, 'in': 2257, 'for': 1784, 'real': 3547, 'cheesy': 781, 'poor': 3328, 'acting': 99, 'mean': 2779, 'how': 2181, 'hard': 2033, 'is': 2360, 'to': 4507, 'hold': 2129, 'gun': 1996, 'act': 97, 'like': 2599, 'cop': 991, 'these': 4441, 'guys': 2001, 'not': 3040, 'after': 143, 'the': 4426, 'death': 1141, 'scene': 3809, 'we': 4823, 'get': 1899, 'opening': 3114, 'credit': 1049, 'starts': 4159, 'from': 1840, 'point': 3316, 'on': 3105, 'bad': 382, 'big': 478, 'occasional': 3074, 'blood': 512, 'poorly': 3329, 'done': 1322, 'scenes': 3811, 'that': 4424, 'said': 3774, 'gave': 1875, 'four': 1812, 'because': 432, 'spite': 4117, 'its': 2370, 'flaws': 1752, 'maintain': 2710, 'sort': 4077, 'just': 2437, 'quite': 3495, 'shake': 3914, 'off': 3084, 'do': 1302, 'recommend': 3571, 'but': 636, 'have': 2052, 'admit': 122, 'seem': 3861, 'worse': 4951, 'struggle': 4234, 'find': 1726, 'bo': 521, '10': 0, 'used': 4693, 'work': 4940, 'park': 3190, 'florida': 1761, 'one': 3107, 'day': 1129, 'script': 3834, 'ghosts': 1903, 'cant': 671, 'among': 217, 'fish': 1738, 'house': 2178, 'where': 4864, 'food': 1778, 'prepared': 3371, 'there': 4438, 'supposedly': 4307, 'or': 3124, 'asking': 318, 'go': 1924, 'make': 2713, 'reading': 3544, 'end': 1468, 'up': 4683, 'doing': 1312, 'any': 256, 'portion': 3338, 'at': 331, 'although': 201, 'were': 4848, 'blue': 518, 'must': 2950, 'been': 438, 'very': 4723, 'close': 853, 'anthony': 253, 'life': 2592, 'hope': 2155, 'he': 2056, 'had': 2003, 'fun': 1848, 'film': 1716, 'certainly': 738, 'didnt': 1242, 'anything': 260, 'absolutely': 72, 'best': 469, 'none': 3028, 'animated': 241, 'family': 1645, 'ive': 2372, 'seen': 3865, 'while': 4868, 'back': 378, 'first': 1736, 'bound': 553, 'paulie': 3215, 'about': 67, 'through': 4477, 'really': 3556, 'touching': 4536, 'ranks': 3519, 'high': 2100, 'films': 1721, 'disney': 1289, 'status': 4165, 'my': 2951, 'daughter': 1121, 'her': 2085, 'friends': 1837, 'watched': 4813, 'literally': 2622, 'dozens': 1339, 'times': 4497, 'bought': 552, 'twice': 4613, 'some': 4061, 'little': 2624, 'with': 4911, 'rented': 3628, 'so': 4046, 'many': 2732, 'never': 3001, 'gets': 1900, 'old': 3100, 'blockbuster': 509, 'doesnt': 1309, 'even': 1533, 'their': 4431, 'anymore': 258, 'tried': 4584, 'buy': 640, 'rent': 3626, 'over': 3148, 'years': 4979, 'without': 4913, 'doubt': 1332, 'most': 2909, 'favourite': 1673, 'daughters': 1122, 'has': 2043, 'all': 187, 'laughed': 2532, 'cried': 1054, 'children': 792, 'world': 4946, 'nothing': 3047, 'pretend': 3381, 'related': 3594, 'every': 1539, 'second': 3846, 'line': 2610, 'bill': 481, 'thanks': 4423, 'million': 2847, 'faith': 1633, 'human': 2188, 'nature': 2975, 'craven': 1034, 'who': 4871, 'are': 285, 'judge': 2424, 'if': 2222, 'rich': 3685, 'woman': 4921, 'falls': 1640, 'love': 2669, 'man': 2721, 'chooses': 800, 'raise': 3507, 'child': 789, 'own': 3158, 'may': 2775, 'be': 418, 'your': 4991, 'only': 3110, 'believable': 453, 'happens': 2029, 'thank': 4421, 'god': 1926, 'keeps': 2451, 'alive': 186, 'always': 203, 'enjoyed': 1486, 'pokemon': 3320, 'movies': 2927, 'yes': 4982, 'know': 2489, 'them': 4432, 'corny': 997, 'mediocre': 2791, 'certain': 737, 'areas': 287, 'sure': 4308, 'though': 4461, 'theyre': 4445, 'aimed': 162, 'kids': 2467, 'too': 4522, 'adult': 125, 'fields': 1705, 'able': 66, 'guard': 1988, 'aside': 315, 'arent': 288, 'they': 4442, 'still': 4188, 'pieces': 3273, 'entertainment': 1500, 'opinion': 3118, 'enjoy': 1484, 'greatly': 1967, 'enjoyable': 1485, 'previous': 3387, 'three': 4469, 'sweet': 4336, 'moments': 2887, 'since': 3990, 'introduction': 2339, 'lovable': 2668, 'fresh': 1833, 'more': 2904, 'than': 4420, 'third': 4455, 'installment': 2303, 'entire': 1502, 'series': 3890, 'entertaining': 1499, 'popcorn': 3331, 'should': 3951, 'considered': 951, 'less': 2575, 'marks': 2742, 'intensity': 2317, 'interest': 2323, 'especially': 1520, 'around': 297, 'climax': 849, 'ending': 1471, 'characters': 760, 'bit': 488, 'thought': 4462, 'likable': 2598, 'humorous': 2193, 'lowest': 2678, 'rated': 3527, 'feature': 1678, 'length': 2569, 'deserve': 1199, 'believe': 454, 'games': 1865, 'can': 665, 'much': 2934, 'better': 472, 'unfortunately': 4654, 'play': 3296, 'beat': 423, 'wait': 4770, 'beaten': 424, 'stop': 4201, 'making': 2718, 'type': 4621, 'game': 1864, 'come': 886, 'an': 223, 'elvira': 1450, 'drawing': 1350, 'devoted': 1231, 'quality': 3484, 'lengthy': 2570, 'well': 4843, 'figure': 1711, 'large': 2517, 'attitude': 346, 'grab': 1949, 'bag': 384, 'me': 2778, 'generation': 1883, 'valley': 4707, 'character': 758, 'universal': 4665, 'timeless': 4496, 'appeal': 271, 'individual': 2277, 'deeply': 1156, 'interested': 2324, 'structure': 4233, 'storytelling': 4209, 'evident': 1547, 'persona': 3239, 'elements': 1443, 'help': 2079, 'sum': 4289, 'liners': 2611, 'chest': 784, 'manner': 2729, 'which': 4867, 'town': 4541, 'react': 3540, 'she': 3923, 'represents': 3639, 'deep': 1154, 'fantasy': 1652, 'experienced': 1581, 'whom': 4875, 'connect': 944, 'level': 2584, 'strange': 4211, 'mixture': 2878, 'dimensional': 1253, 'romantic': 3733, 'sexual': 3908, 'desire': 1205, 'non': 3027, 'ideal': 2214, 'boys': 559, 'source': 4086, 'strength': 4219, 'girls': 1911, 'other': 3135, 'adults': 126, 'trouble': 4592, 'same': 3778, 'reasons': 3560, 'however': 2183, 'cannot': 670, 'move': 2921, 'pass': 3201, 'campy': 664, 'ingredients': 2289, 'result': 3660, 'interesting': 2325, 'limited': 2606, 'by': 642, 'weak': 4824, 'showcase': 3954, 'talents': 4356, 'nearly': 2981, 'everything': 1544, 'comedy': 890, 'those': 4460, 'process': 3412, 'information': 2288, 'mind': 2849, 'young': 4989, 'person': 3238, 'will': 4886, 'nonsense': 3030, 'fortunately': 1805, 'such': 4268, 'ability': 65, 'found': 1811, 'delightful': 1168, 'quote': 3496, 'bob': 524, 'head': 2057, 'havent': 2053, 'read': 3543, 'book': 535, 'date': 1118, 'left': 2561, 'hardly': 2036, 'does': 1308, 'justice': 2438, 'incredibly': 2270, 'disappointing': 1274, 'would': 4957, 'made': 2697, 'mst3k': 2932, 'episode': 1507, 'horrible': 2163, 'adaptation': 113, 'felt': 1692, 'actors': 104, 'lines': 2612, 'instead': 2307, 'actually': 109, 'saying': 3800, 'stiff': 4187, 'effects': 1431, 'looked': 2647, 'terribly': 4408, 'fake': 1635, 'awful': 372, 'way': 4820, 'no': 3020, 'sense': 3877, 'you': 4986, 'hadnt': 2004, 'youd': 4987, 'idea': 2213, 'what': 4858, 'going': 1931, 'student': 4238, 'ever': 1538, 'im': 2232, 'upset': 4687, 'paid': 3169, 'money': 2888, 'miracle': 2860, 'wide': 4880, 'release': 3602, 'ought': 3138, 'totally': 4532, 'let': 2579, 'hollywood': 2137, 'take': 4349, 'two': 4620, 'wannabe': 4787, 'producers': 3416, 'director': 1264, 'leave': 2555, 'action': 100, 'superbly': 4297, 'performances': 3229, 'direction': 1261, 'rarely': 3524, 'looks': 2649, 'part': 3193, 'terms': 4406, 'year': 4978, 'thrilling': 4474, '90s': 61, 'definite': 1161, 'genre': 1888, 'classic': 835, 'fan': 1648, 'look': 2646, 'fond': 1776, 'memories': 2803, 'plenty': 3307, 'superb': 4296, 'prime': 3395, 'form': 1798, 'lovers': 2673, 'appreciate': 279, 'great': 1964, 'support': 4303, 'turner': 4607, 'michael': 2829, 'john': 2409, 'stewart': 4184, 'stars': 4155, 'scientist': 3818, 'working': 4944, 'trip': 4588, 'wife': 4884, 'feeling': 1685, 'picked': 3266, 'role': 3726, 'roll': 3728, 'eyes': 1613, 'thats': 4425, 'anyway': 261, 'hes': 2093, 'bat': 410, 'then': 4436, 'either': 1438, 'changing': 752, 'into': 2332, 'kind': 2476, 'creature': 1045, 'killing': 2472, 'people': 3221, 'else': 1448, 'sees': 3866, 'himself': 2111, 'seems': 3864, 'think': 4452, 'wedding': 4836, 'ring': 3698, 'pops': 3332, 'when': 4862, 'hands': 2020, 'turn': 4605, 'etc': 1527, 'whether': 4866, 'nuts': 3064, 'something': 4066, 'until': 4680, 'almost': 193, 'locations': 2636, 'decent': 1147, 'atmosphere': 333, 'somewhat': 4068, 'lame': 2510, 'story': 4207, 'wonderfully': 4929, 'towards': 4540, 'plain': 3286, 'spoilers': 4124, 'plot': 3309, 'spoil': 4121, 'living': 2629, 'proof': 3434, 'face': 1616, 'talent': 4354, 'required': 3641, 'bright': 581, 'spot': 4131, 'few': 1700, 'delivered': 1170, 'nicely': 3009, 'alice': 182, 'again': 146, 'soft': 4051, 'voice': 4761, 'gives': 1914, 'hint': 2112, 'dangerous': 1110, 'odd': 3080, 'creatures': 1046, 'creepy': 1052, 'otherwise': 3137, 'unbelievable': 4634, 'got': 1944, 'agree': 155, 'project': 3427, 'remains': 3611, 'mystery': 2956, 'screenplay': 3831, 'writers': 4969, 'major': 2711, 'continuity': 972, 'problems': 3409, 'superficial': 4298, 'stereotypical': 4180, 'horror': 2168, 'formula': 1802, 'writing': 4971, 'simply': 3986, 'short': 3946, 'neat': 2982, 'skills': 4014, 'question': 3487, 'explored': 1595, 'dont': 1324, 'waste': 4808, 'time': 4495, 'job': 2405, 'includes': 2263, 'seeing': 3857, 'kinds': 2478, 'couldnt': 1008, 'thinking': 4453, 'also': 199, 'festival': 1697, 'wasnt': 4807, 'boring': 543, 'worst': 4952, 'greatest': 1966, 'incredible': 2269, 'awesome': 371, 'special': 4097, 'oh': 3096, 'sucked': 4270, 'want': 4788, 'bone': 533, 'vote': 4766, 'knows': 2493, 'goes': 1930, 'now': 3054, 'give': 1912, 'jean': 2389, 'van': 4713, 'dramatic': 1348, 'actor': 103, 'arrival': 299, 'famous': 1647, 'sets': 3899, 'unexpected': 4650, 'events': 1536, 'feelings': 1686, 'small': 4033, 'village': 4743, 'church': 813, 'gradually': 1952, 'change': 749, 'makes': 2716, 'cinema': 816, 'both': 547, 'smile': 4036, 'lips': 2615, 'tears': 4380, 'bringing': 586, 'kay': 2447, 'written': 4972, 'excellent': 1555, 'based': 404, 'ideas': 2215, 'become': 433, 'outstanding': 3147, 'before': 440, 'new': 3003, 'charming': 768, 'vivid': 4760, 'leaves': 2556, 'per': 3223, 'husband': 2204, 'see': 3855, 'wish': 4904, 'nice': 3008, 'guy': 2000, 'masters': 2761, 'already': 197, 'today': 4508, 'cult': 1077, 'values': 4710, 'flick': 1754, 'far': 1653, 'silly': 3976, 'consider': 949, 'enough': 1491, 'value': 4709, 'remind': 3618, '80s': 59, 'went': 4847, 'top': 4525, 'attention': 345, 'blowing': 515, 'stuff': 4243, 'heroes': 2089, 'bullets': 621, 'flying': 1764, 'yet': 4984, 'liked': 2600, 'watching': 4815, 'similar': 3978, 'say': 3799, 'why': 4878, 'case': 707, 'basically': 407, 'era': 1513, 'probably': 3407, 'being': 448, 'often': 3095, 'filled': 1715, 'fighting': 1709, 'dolph': 1317, 'running': 3756, 'isnt': 2362, 'words': 4938, 'trying': 4601, 'whats': 4860, 'main': 2707, 'overall': 3150, 'place': 3282, 'create': 1036, 'sequences': 3888, 'fights': 1710, 'watch': 4811, 'brought': 600, 'us': 4690, 'hero': 2088, 'star': 4150, 'kicks': 2463, 'butt': 638, 'seemingly': 3863, 'relative': 3599, 'ease': 1404, 'handle': 2018, 'guns': 1998, 'weapons': 4829, 'course': 1019, 'girl': 1909, 'played': 3297, 'brings': 587, 'montage': 2894, 'sequence': 3887, 'history': 2121, 'definitely': 1162, 'sex': 3907, 'put': 3480, 'together': 4511, 'cops': 993, 'behave': 445, 'kill': 2468, 'having': 2054, 'responsibility': 3655, 'anyone': 259, 'japanese': 2382, 'crime': 1055, 'streets': 4217, 'la': 2500, 'beer': 439, 'cover': 1022, 'drugs': 1374, 'factory': 1623, 'scale': 3802, 'moment': 2886, 'lees': 2560, 'purpose': 3474, 'easily': 1406, 'him': 2110, 'simplistic': 3985, 'am': 204, 'extremely': 1610, 'buff': 611, 'shock': 3938, 'means': 2783, 'past': 3207, 'emotional': 1459, 'places': 3284, 'erotic': 1515, 'pulled': 3462, '40': 48, 'minutes': 2859, 'total': 4531, 'bore': 540, 'start': 4156, 'explicit': 1591, 'footage': 1782, 'horses': 2171, 'five': 1743, 'wondering': 4930, 'buying': 641, 'mistake': 2871, 'talks': 4361, 'getting': 1901, 'married': 2744, 'nervous': 2999, 'briefly': 580, 'hot': 2174, 'chick': 786, 'butler': 637, 'brief': 579, 'loud': 2664, 'stay': 4166, 'awake': 365, 'fact': 1621, 'fell': 1690, 'asleep': 320, 'minute': 2858, 'mark': 2739, 'forced': 1787, 'myself': 2953, 'finish': 1732, 'night': 3013, 'finally': 1724, 'dream': 1354, 'beast': 422, 'forest': 1791, 'meat': 2787, 'whole': 4873, 'deal': 1135, 'beautifully': 429, 'shot': 3949, 'edited': 1420, 'deliver': 1169, 'try': 4600, 'wrap': 4963, 'shoot': 3942, 'tv': 4610, 'last': 2521, '50': 51, 'original': 3129, 'style': 4249, 'version': 4720, 'dog': 1310, 'cry': 1073, 'amazed': 208, 'amount': 219, 'praise': 3364, 'rather': 3528, 'disappointment': 1275, 'combination': 883, 'historical': 2119, 'facts': 1624, 'george': 1893, 'roy': 3745, 'hills': 2109, 'screen': 3829, 'credibility': 1047, 'questions': 3489, 'open': 3112, 'miss': 2866, 'central': 735, 'points': 3319, 'fail': 1625, 'boy': 557, 'called': 652, 'campbell': 663, 'jr': 2423, 'grows': 1985, 'york': 4985, 'home': 2142, 'father': 1666, 'technical': 4381, 'trade': 4547, 'dead': 1132, 'bodies': 526, 'dad': 1095, 'moves': 2925, 'away': 369, 'berlin': 467, 'bang': 393, 'theater': 4427, 'plays': 3301, 'write': 4967, 'language': 2516, 'successful': 4266, 'actress': 105, 'parents': 3188, 'usa': 4691, 'son': 4070, 'grown': 1984, 'germany': 1898, 'feels': 1687, 'german': 1896, 'american': 213, 'likes': 2602, 'nazis': 2978, 'lazy': 2543, 'ask': 316, 'possibly': 3351, 'care': 684, 'politics': 3326, 'states': 4163, 'speaks': 4096, 'meaning': 2780, 'evidence': 1546, 'agent': 150, 'agrees': 157, 'broadcast': 591, 'anti': 254, 'nazi': 2977, 'hate': 2046, 'propaganda': 3435, 'device': 1227, 'messages': 2820, 'between': 475, 'crucial': 1068, 'meeting': 2794, 'climactic': 848, 'decision': 1151, 'along': 195, 'explanation': 1590, 'rise': 3702, 'apparently': 270, 'fast': 1661, 'air': 164, 'free': 1827, 'scheme': 3812, 'secret': 3849, 'fairly': 1631, 'realistic': 3550, 'exciting': 1563, 'wonders': 4931, 'happened': 2027, 'honestly': 2147, 'lose': 2654, 'dies': 1245, 'troops': 4591, 'heard': 2062, 'front': 1841, 'ii': 2226, 'says': 3801, 'russian': 3762, 'captured': 677, 'soldier': 4053, 'dragged': 1343, 'sight': 3969, 'tour': 4538, 'released': 3603, 'somewhere': 4069, 'city': 825, 'paul': 3214, 'lives': 2628, 'loss': 2659, 'nobody': 3022, 'cares': 690, 'somehow': 4063, 'neighbors': 2994, 'offer': 3087, 'survivors': 4325, 'discover': 1279, 'calls': 654, 'war': 4792, 'criminal': 1057, 'treatment': 4574, 'cell': 730, 'writes': 4970, 'once': 3106, 'task': 4368, 'finished': 1733, 'least': 2554, 'issue': 2364, 'guilt': 1994, 'impression': 2252, 'capable': 672, 'difficult': 1249, 'amazingly': 210, 'reviewers': 3678, 'focus': 1766, 'potential': 3355, 'reputation': 3640, 'playing': 3300, 'assume': 328, 'according': 88, 'took': 4523, 'lot': 2661, 'courage': 1018, 'matter': 2769, 'suggests': 4282, 'created': 1037, 'win': 4892, 'situation': 4008, 'politically': 3325, 'safe': 3771, 'side': 3965, 'won': 4925, 'danger': 1109, 'during': 1387, 'might': 2835, 'argue': 290, 'bother': 548, 'logical': 2639, 'development': 1225, 'explains': 1589, 'fails': 1628, 'primarily': 3393, 'suspect': 4327, 'affair': 135, 'completely': 922, 'flat': 1748, 'pity': 3281, 'lee': 2559, 'talented': 4355, 'use': 4692, 'ridiculous': 3693, 'accent': 78, 'another': 250, 'aspect': 321, 'different': 1248, 'hidden': 2096, 'guess': 1989, 'largely': 2518, 'maybe': 2776, 'chance': 747, 'documentary': 1307, 'chaos': 755, 'misery': 2865, 'nyc': 3065, 'morning': 2906, 'september': 3884, 'intense': 2316, 'personal': 3240, 'riveting': 3708, '11': 2, 'perhaps': 3235, 'accident': 84, 'greater': 1965, 'filmmakers': 1720, 'following': 1774, 'team': 4378, 'specifically': 4100, 'piece': 3272, 'shooting': 3943, 'dealing': 1136, 'training': 4558, 'filming': 1718, 'simple': 3983, 'routine': 3743, 'camera': 659, 'sky': 4017, 'record': 3573, 'known': 2492, 'plane': 3288, 'hitting': 2126, 'center': 732, 'viewers': 4739, 'given': 1913, 'hand': 2015, 'account': 89, 'ground': 1979, 'zero': 4996, 'amazing': 209, 'group': 1980, 'fire': 1734, 'attempt': 340, 'disaster': 1276, 'follows': 1775, 'raw': 3532, 'fear': 1676, 'unknown': 4668, 'doom': 1326, 'fictional': 1703, 'production': 3419, 'visible': 4753, 'trapped': 4564, 'inside': 2297, 'memorable': 2802, 'older': 3101, 'brother': 598, 'capturing': 679, 'larger': 2519, 'witnessed': 4915, 'ourselves': 3140, 'obviously': 3072, 'right': 3696, 'extraordinary': 1607, 'event': 1535, 'admire': 121, 'brothers': 599, 'desperate': 1208, 'witness': 4914, 'saving': 3797, 'knew': 2486, 'save': 3794, 'cost': 1003, 'safety': 3772, 'viewing': 4740, 'came': 656, '2002': 32, 'feel': 1684, 'oliver': 3102, 'stones': 4198, 'recent': 3566, 'rendition': 3625, 'fine': 1729, 'sentimental': 3882, 'utterly': 4702, 'gripping': 1976, 'remain': 3609, 'collection': 874, 'transfer': 4559, 'motives': 2916, 'heart': 2064, 'needed': 2988, 'space': 4090, 'prisoner': 3402, 'row': 3744, 'manages': 2725, 'escape': 1517, 'woods': 4935, 'america': 212, 'friend': 1835, 'female': 1693, 'machine': 2693, 'fred': 1825, 'career': 686, 'low': 2676, 'budget': 610, 'earlier': 1399, 'stood': 4199, 'alright': 198, 'viewer': 4738, 'saturday': 3792, 'afternoon': 144, 'grade': 1951, 'saw': 3798, 'thriller': 4472, 'racism': 3502, 'against': 147, 'carl': 692, 'effect': 1428, 'navy': 2976, 'racist': 3503, 'imagine': 2238, 'full': 1846, 'captain': 674, 'officer': 3092, 'telling': 4396, 'chief': 788, 'intentionally': 2320, 'risk': 3704, 'petty': 3249, 'everybody': 1540, 'drunken': 1376, 'master': 2757, 'cuba': 1075, 'saved': 3795, 'badly': 383, 'sports': 4130, 'handful': 2017, 'sport': 4129, 'bull': 619, 'directorial': 1265, 'debut': 1143, 'performance': 3228, 'michelle': 2830, 'involving': 2349, 'forward': 1808, 'diana': 1237, 'fourth': 1813, 'school': 3813, 'due': 1382, 'picking': 3267, 'possible': 3350, 'anger': 235, 'signs': 3973, 'boxing': 556, 'lessons': 2578, 'club': 863, 'wishes': 4906, 'changes': 751, 'body': 527, 'finds': 1728, 'drawn': 1351, 'contrived': 976, 'subplots': 4256, 'ends': 1474, 'note': 3044, 'half': 2007, 'noticed': 3049, 'constantly': 958, 'channels': 754, 'exactly': 1551, 'listed': 2618, 'number': 3060, 'genres': 1889, 'mostly': 2910, 'failed': 1626, '80': 58, 'bottom': 551, 'ones': 3108, 'ended': 1470, 'taste': 4369, 'sorry': 4076, 'catch': 714, 'shows': 3960, 'aired': 165, 'late': 2523, 'uk': 4626, 'others': 3136, 'stylish': 4251, 'positive': 3346, 'comments': 901, 'single': 3996, 'negative': 2991, 'realise': 3548, 'innovative': 2295, 'caught': 722, 'imagination': 2236, 'understand': 4643, 'bunch': 623, 'suited': 4286, 'tired': 4501, 'judging': 2425, 'directors': 1266, 'supposed': 4306, 'spin': 4112, 'entirely': 1503, 'accurate': 90, 'legend': 2564, 'fantastic': 1651, 'mildly': 2840, 'historically': 2120, 'suggest': 4280, 'worry': 4950, 'storyline': 4208, 'theaters': 4428, 'rape': 3521, 'stands': 4147, 'realism': 3549, 'alone': 194, 'tells': 4397, 'victims': 4730, 'centered': 733, 'brian': 576, 'green': 1971, 'parts': 3199, 'enjoys': 1489, 'harsh': 2040, 'reality': 3551, 'intelligent': 2314, 'philosophical': 3253, 'discussion': 1284, 'possibility': 3349, 'brilliant': 583, 'directed': 1259, 'acted': 98, 'devoid': 1230, 'art': 304, 'annoying': 249, 'provoking': 3452, 'slightest': 4028, 'freak': 1824, 'reason': 3557, 'avoid': 363, 'choose': 799, '2000': 30, 'responsible': 3656, 'allowed': 190, 'classics': 837, 'pack': 3165, 'zombies': 4998, 'set': 3898, 'soon': 4074, 'seven': 3903, 'laugh': 2529, 'hopes': 2159, 'white': 4870, 'zombie': 4997, 'james': 2378, 'live': 2625, 'die': 1243, 'funeral': 1849, 'title': 4504, 'word': 4937, 'claire': 831, 'taken': 4350, 'companion': 909, 'fest': 1696, 'worked': 4941, 'shocked': 3939, 'bela': 450, 'lugosi': 2686, 'credits': 1050, 'serving': 3897, 'control': 977, 'hell': 2077, 'matrix': 2767, 'spectacular': 4101, 'beyond': 476, 'load': 2631, 'talking': 4360, 'wrong': 4973, 'problem': 3408, 'pointless': 3318, 'fight': 1707, 'lasted': 2522, 'long': 2644, 'builds': 617, 'biggest': 480, '20': 29, 'joke': 2414, 'order': 3126, 'gotta': 1946, 'wood': 4933, 'massive': 2756, 'utter': 4701, 'pile': 3275, 'age': 148, 'cup': 1080, 'player': 3298, 'country': 1014, 'obsessed': 3069, 'football': 1783, 'genius': 1887, 'manager': 2724, 'ready': 3546, 'convincingly': 986, 'true': 4596, 'spain': 4091, 'chain': 741, 'smoking': 4040, 'occasion': 3073, 'signed': 3971, 'june': 2433, 'nine': 3017, 'days': 1130, 'later': 2525, 'camp': 662, 'match': 2762, 'remember': 3616, 'site': 4005, 'crude': 1069, 'foul': 1810, 'round': 3742, 'crazy': 1035, '1984': 23, 'join': 2412, 'women': 4923, 'millions': 2848, 'determined': 1221, 'mexico': 2827, 'winning': 4898, 'hundreds': 2196, 'men': 2805, 'died': 1244, 'battle': 414, 'british': 589, 'press': 3379, 'england': 1482, 'remembered': 3617, 'britain': 588, '1980': 20, 'enemy': 1477, 'twelve': 4611, 'key': 2458, 'english': 1483, 'area': 286, 'tense': 4403, '45': 50, 'similarly': 3980, 'hit': 2122, 'serves': 3895, 'hooked': 2153, 'ball': 388, 'jumped': 2430, 'claim': 828, 'rising': 3703, 'above': 68, 'passed': 3202, 'near': 2979, 'slow': 4031, 'motion': 2913, 'waited': 4771, 'mr': 2929, 'al': 170, 'blow': 514, 'ran': 3513, 'circle': 821, 'unless': 4669, 'becomes': 434, 'step': 4175, 'foot': 1781, 'mars': 2746, 'shown': 3959, 'followed': 1773, 'image': 2233, 'gift': 1906, 'finest': 1730, 'goal': 1925, 'attacked': 338, 'opportunity': 3121, 'attack': 337, 'normally': 3034, 'boot': 538, 'red': 3576, 'card': 681, 'decided': 1149, 'run': 3755, 'arms': 294, 'box': 555, 'alongside': 196, 'offering': 3089, 'panic': 3181, 'twisted': 4618, 'score': 3822, 'extra': 1606, 'coming': 896, 'magical': 2704, 'mexican': 2826, 'summer': 4291, 'players': 3299, 'punk': 3468, '70s': 56, 'latest': 2526, 'lots': 2662, 'keep': 2449, 'video': 4733, 'forget': 1793, 'dig': 1250, 'nose': 3037, 'heavy': 2070, 'black': 493, 'eye': 1611, 'makeup': 2717, 'show': 3953, 'supporting': 4304, 'waiting': 4772, 'rest': 3657, 'episodes': 1508, 'deals': 1137, 'favorite': 1671, 'name': 2960, 'killed': 2469, 'truck': 4595, 'accidentally': 85, 'driver': 1366, 'tony': 4521, 'gang': 1867, 'taking': 4352, 'bath': 411, 'matthew': 2772, 'attempting': 342, 'murder': 2939, 'christopher': 811, 'torture': 4529, 'sean': 3840, 'uncle': 4636, 'boat': 523, 'cool': 989, 'chris': 806, 'junior': 2435, 'need': 2987, 'revenge': 3675, 'shall': 3916, 'strike': 4224, 'masterpiece': 2759, 'begin': 442, 'bar': 396, 'things': 4451, 'happen': 2026, 'complex': 923, 'using': 4698, 'realize': 3552, 'subtle': 4260, 'details': 1219, 'understandable': 4644, 'critics': 1064, 'sounds': 4084, 'european': 1530, 'scare': 3803, 'worth': 4953, 'online': 3109, 'spent': 4108, 'post': 3352, 'comment': 898, 'giving': 1915, 'kid': 2464, 'minor': 2857, 'standards': 4145, 'culture': 1079, 'hat': 2045, 'moral': 2902, 'example': 1553, 'funny': 1852, 'band': 391, 'themselves': 4435, 'abandoned': 62, 'picture': 3269, 'product': 3418, 'early': 1400, 'theres': 4440, 'teacher': 4375, 'couple': 1016, 'commercial': 902, 'japan': 2381, 'animation': 242, 'whos': 4876, 'depressed': 1187, 'singing': 3995, 'blues': 519, 'room': 3735, 'mother': 2911, 'shut': 3961, 'someone': 4064, 'candy': 668, 'sings': 3997, 'happy': 2032, 'tune': 4602, 'slap': 4018, 'mention': 2810, 'hear': 2061, 'physical': 3262, 'parent': 3187, 'necessarily': 2983, 'accept': 80, 'cultural': 1078, 'allow': 189, 'imagery': 2234, 'id': 2212, 'pre': 3365, 'violence': 4747, 'color': 877, 'till': 4493, 'powerful': 3360, 'hbo': 2055, 'pictures': 3270, 'public': 3460, 'view': 4736, 'available': 361, 'check': 777, 'stephen': 4176, 'donald': 1321, 'sutherland': 4333, 'flawless': 1751, 'sister': 4001, 'land': 2511, 'charles': 764, 'novel': 3052, 'elizabeth': 1445, 'von': 4765, 'april': 284, 'described': 1195, 'sentence': 3881, 'takes': 4351, 'london': 2641, 'strangers': 4214, 'decide': 1148, 'castle': 712, 'italy': 2368, 'month': 2896, 'correct': 1000, 'description': 1197, 'ultimate': 4627, 'perfection': 3225, 'lovely': 2671, 'tender': 4401, 'ray': 3533, 'sun': 4292, 'happiness': 2031, 'forever': 1792, 'affected': 137, 'lost': 2660, 'unhappy': 4656, 'lonely': 2643, 'sad': 3767, 'tragic': 4552, 'truth': 4599, 'helped': 2080, 'changed': 750, 'promised': 3431, 'pull': 3461, 'self': 3869, 'joy': 2422, 'diamond': 1236, 'highest': 2102, 'trek': 4578, 'alien': 183, 'planet': 3289, 'meet': 2793, 'dude': 1381, 'kirk': 2482, 'century': 736, 'earth': 1403, 'follow': 1772, 'locked': 2637, 'sexy': 3911, 'decides': 1150, 'royal': 3746, 'doc': 1303, 'leaving': 2557, 'convincing': 985, 'sadness': 3770, 'cruel': 1070, 'albeit': 173, 'neighborhood': 2993, 'buck': 605, 'witch': 4909, 'desperation': 1210, 'settings': 3901, 'managed': 2723, 'dvd': 1391, 'intention': 2319, 'travel': 4567, 'outside': 3146, 'easy': 1410, 'rob': 3710, 'bank': 394, 'police': 3322, 'subjects': 4254, 'addition': 118, 'spoke': 4125, 'anywhere': 263, 'spoken': 4126, 'aliens': 184, 'mountains': 2918, 'talk': 4358, 'st': 4137, 'yourself': 4993, 'busy': 635, 'learning': 2552, 'currently': 1085, 'pulls': 3464, 'under': 4639, 'props': 3439, 'perfect': 3224, 'frank': 1821, '1950s': 14, 'power': 3359, 'station': 4164, 'prior': 3400, 'music': 2946, 'sucks': 4271, 'wooden': 4934, 'ham': 2011, 'portray': 3340, 'shallow': 3917, 'unconvincing': 4638, 'predictable': 3367, 'immediately': 2242, 'obvious': 3071, 'copy': 994, 'techniques': 4384, 'belief': 451, 'experience': 1580, 'tiny': 4500, 'priceless': 3390, 'stupid': 4247, 'vast': 4716, 'hanks': 2025, 'tom': 4514, 'crappy': 1032, 'party': 3200, 'focuses': 1768, 'eventually': 1537, 'drives': 1367, 'madness': 2698, '1980s': 21, 'focusing': 1769, 'threat': 4467, 'youth': 4994, 'evil': 1548, 'prefer': 3368, 'monsters': 2893, 'turning': 4608, 'whatever': 4859, 'rabbit': 3498, 'thrill': 4471, 'beating': 425, 'crap': 1031, 'matt': 2768, 'regular': 3592, 'basis': 408, 'store': 4204, 'thin': 4449, 'whose': 4877, 'fault': 1668, 'hair': 2005, 'younger': 4990, 'soul': 4079, 'renting': 3629, 'cast': 710, 'photography': 3260, 'proves': 3447, 'eva': 1531, 'parker': 3191, 'kate': 2446, 'hudson': 2184, 'jennifer': 2392, 'call': 651, 'fisher': 1739, 'class': 833, 'regard': 3588, 'projects': 3428, 'lake': 2509, 'bell': 458, 'shine': 3931, 'lesser': 2576, 'minded': 2850, 'imdb': 2240, 'noted': 3045, 'gem': 1877, 'depiction': 1185, 'contemporary': 965, 'california': 650, 'general': 1880, 'beautiful': 428, 'clean': 838, 'ah': 158, 'caring': 691, 'wont': 4932, 'core': 995, 'willing': 4889, 'suspend': 4329, 'disbelief': 1277, 'supernatural': 4302, 'theme': 4433, 'light': 2595, 'hearted': 2065, 'reminds': 3620, 'popular': 3333, 'ghost': 1902, 'overly': 3155, 'heavily': 2069, 'toward': 4539, 'truly': 4597, 'worthy': 4956, 'overlooked': 3154, 'jeff': 2390, 'blind': 506, 'bruce': 602, 'willis': 4890, 'kim': 2475, 'williams': 4888, 'chances': 748, 'robert': 3713, 'youll': 4988, 'rate': 3526, 'kinda': 2477, 'straight': 4210, 'gay': 1876, 'reviews': 3679, 'sick': 3963, 'sophisticated': 4075, 'deeper': 1155, 'within': 4912, 'guessing': 1991, 'stone': 4197, 'douglas': 1334, 'huge': 2185, 'paying': 3217, 'drivel': 1364, 'professional': 3421, 'glad': 1916, 'regret': 3591, 'expected': 1577, 'pure': 3471, 'dark': 1115, 'charm': 767, 'boredom': 542, 'itself': 2371, 'robin': 3715, 'batman': 413, 'lacks': 2505, 'childish': 791, 'gain': 1863, 'surprise': 4312, 'countries': 1013, 'sold': 4052, 'recommended': 3572, 'price': 3389, 'restored': 3659, 'houses': 2180, 'mighty': 2836, 'silent': 3975, 'dennis': 1179, 'international': 2326, 'appropriate': 283, 'fitting': 1742, 'print': 3399, 'digital': 1251, 'lifetime': 2594, 'meant': 2784, 'swedish': 4335, 'ironic': 2355, 'opera': 3116, 'added': 116, 'immensely': 2243, 'necessary': 2984, 'modern': 2882, 'audiences': 353, 'broad': 590, 'facial': 1619, 'expressions': 1603, 'therefore': 4439, 'inappropriate': 2259, 'period': 3236, 'garbo': 1871, 'subtlety': 4261, 'closed': 854, 'thousand': 4465, 'studio': 4240, 'mgm': 2828, 'costumes': 1006, 'magnificent': 2705, 'todays': 4509, 'spanish': 4092, 'co': 867, 'answer': 251, 'appear': 273, 'grow': 1982, 'notable': 3041, 'cinematographer': 819, 'william': 4887, 'met': 2822, 'decades': 1145, 'capture': 676, 'beauty': 430, 'became': 431, 'abilities': 64, 'success': 4265, 'rare': 3523, 'bourne': 554, 'jason': 2383, 'damon': 1101, 'spy': 4135, 'block': 508, 'quest': 3486, 'identity': 2217, 'seeks': 3860, 'program': 3424, 'super': 4295, 'yesterday': 4983, 'recall': 3562, 'link': 2613, 'weakest': 4825, 'car': 680, 'chase': 769, 'slight': 4027, 'lacking': 2504, 'suspense': 4330, 'inept': 2281, 'giant': 1905, 'robots': 3718, 'ordinary': 3128, 'cia': 814, 'miles': 2843, 'seemed': 3862, 'listen': 2619, 'various': 4715, 'awe': 370, 'inspiring': 2302, 'ill': 2228, 'nail': 2957, 'bite': 489, 'julia': 2427, 'highly': 2105, 'sympathetic': 4342, 'genuinely': 1892, 'struggles': 4235, 'humanity': 2189, 'works': 4945, 'reminded': 3619, 'brosnan': 597, 'bond': 532, 'asks': 319, 'silence': 3974, 'screams': 3828, 'government': 1948, 'resources': 3651, 'bothered': 549, 'despite': 1211, 'attempts': 343, 'features': 1680, 'fool': 1779, 'drags': 1345, 'touch': 4533, 'overlook': 3153, 'military': 2844, 'mission': 2870, 'circumstances': 822, 'tone': 4517, 'porn': 3336, 'twists': 4619, 'situations': 4009, 'behavior': 446, 'grace': 1950, 'extent': 1605, 'clear': 839, 'usually': 4700, 'dumb': 1385, 'teen': 4388, 'sake': 3775, 'throughout': 4478, 'compare': 911, 'twin': 4615, 'vs': 4767, 'toys': 4543, 'brady': 561, 'sequel': 3885, 'hours': 2177, 'practically': 3362, 'likely': 2601, 'hamilton': 2012, 'reasonably': 3559, 'effective': 1429, 'portrayal': 3341, 'producer': 3415, 'fired': 1735, 'told': 4513, 'multiple': 2936, 'flashbacks': 1747, 'opens': 3115, 'familiar': 1643, 'costume': 1005, 'jump': 2429, 'childhood': 790, 'teenage': 4389, 'stunt': 4245, 'celebrity': 729, 'flop': 1760, 'approach': 282, 'sometimes': 4067, 'disjointed': 1287, 'prevent': 3385, 'including': 2264, 'walk': 4775, 'longer': 2645, 'speaking': 4095, 'pays': 3218, 'tribute': 4581, 'appearing': 277, 'covered': 1023, 'loves': 2674, 'chemistry': 782, 'putting': 3482, 'turns': 4609, 'doctor': 1304, 'cameron': 661, 'influence': 2286, 'taylor': 4372, 'affect': 136, 'makers': 2715, 'actual': 108, 'montana': 2895, 'proper': 3436, 'several': 3905, 'antics': 255, 'amusing': 221, 'peoples': 3222, 'property': 3438, 'stunts': 4246, 'included': 2262, 'splatter': 4118, 'rolled': 3729, 'doll': 1313, 'appears': 278, 'nurse': 3063, 'runs': 3757, 'dollars': 1315, 'dawn': 1127, 'cheap': 774, 'please': 3304, 'costs': 1004, 'unwatchable': 4682, 'youve': 4995, 'warned': 4798, 'alike': 185, 'drew': 1360, 'doubts': 1333, 'jimmy': 2403, 'ben': 463, 'comical': 894, 'rocky': 3723, 'showed': 3956, 'apartment': 265, 'stomach': 4196, 'eating': 1413, 'helps': 2082, 'helping': 2081, 'toilet': 4512, 'bathroom': 412, 'lady': 2507, 'winter': 4900, 'baseball': 403, 'season': 3843, 'tries': 4585, 'guilty': 1995, 'books': 536, 'curse': 1086, 'false': 1641, 'missed': 2867, 'serious': 3891, 'begins': 444, 'wants': 4791, 'sadly': 3769, 'baby': 376, 'pregnant': 3369, 'important': 2247, 'birthday': 487, 'shortly': 3947, 'pal': 3177, 'missing': 2869, 'ago': 154, 'separate': 3883, 'realizes': 3554, 'obsession': 3070, 'sell': 3871, 'realizing': 3555, 'showing': 3958, 'attend': 344, 'final': 1722, 'louis': 2665, 'thumbs': 4485, 'direct': 1258, 'president': 3378, 'foreign': 1790, 'service': 3896, 'fully': 1847, 'wealthy': 4827, 'political': 3324, 'cynical': 1093, 'laughing': 2533, 'chapter': 757, 'steven': 4182, 'majority': 2712, 'violent': 4748, 'reactions': 3542, 'internet': 2327, 'visual': 4757, 'terrible': 4407, 'urge': 4689, 'department': 1182, 'jaw': 2384, 'dropped': 1370, 'repeatedly': 3632, 'remotely': 3623, 'chinese': 796, 'kung': 2498, 'fu': 1844, 'novels': 3053, 'looking': 2648, 'epic': 1506, 'alas': 172, 'hasnt': 2044, 'improved': 2255, 'dialog': 1232, 'juvenile': 2441, 'apparent': 269, 'hong': 2149, 'kong': 2494, 'lead': 2545, 'dramas': 1347, 'lack': 2502, 'adam': 111, '1983': 22, 'forces': 1788, 'produce': 3413, 'poetry': 3314, 'catherine': 719, 'continues': 971, 'ways': 4822, 'setting': 3900, 'fabulous': 1615, 'deserves': 1201, 'audience': 352, 'loved': 2670, 'smart': 4035, 'bring': 585, 'davis': 1126, 'shines': 3932, 'six': 4010, 'insane': 2296, 'rid': 3690, 'minimal': 2855, 'abc': 63, 'endless': 1473, 'partly': 3197, 'seriously': 3892, 'opposed': 3122, 'trash': 4565, 'emotionally': 1460, 'involved': 2346, 'conspiracy': 956, 'happening': 2028, 'mild': 2839, 'incoherent': 2265, 'substance': 4258, 'mtv': 2933, 'moronic': 2907, 'holes': 2133, 'elaborate': 1439, 'combined': 885, 'possessed': 3347, 'explained': 1587, 'nor': 3032, 'talked': 4359, 'treated': 4573, 'screaming': 3827, 'voices': 4763, 'cars': 702, 'walls': 4783, 'priest': 3392, 'countless': 1012, 'tie': 4488, 'complaint': 920, 'whenever': 4863, 'laws': 2540, 'floating': 1758, 'contains': 964, 'shots': 3950, 'birds': 485, 'nowhere': 3056, 'water': 4816, 'womans': 4922, 'apart': 264, 'cuts': 1091, 'explain': 1586, 'science': 3816, 'becoming': 435, 'secondly': 3847, 'below': 462, 'shes': 3930, 'hospital': 2172, 'previously': 3388, 'mentioned': 2811, 'scientific': 3817, 'spirit': 4113, 'response': 3654, 'object': 3066, 'thomas': 4458, 'local': 2634, 'alternate': 200, 'closing': 859, 'degree': 1164, 'insult': 2309, 'devils': 1229, 'joseph': 2419, 'painfully': 3172, 'dull': 1384, 'un': 4630, 'centers': 734, 'vampire': 4711, 'murdered': 2940, 'leader': 2546, 'dance': 1103, 'naked': 2959, 'kiss': 2483, 'each': 1395, 'drink': 1361, 'breaks': 571, 'provide': 3448, 'nudity': 3059, 'sleazy': 4023, 'tame': 4363, 'ya': 4976, 'skin': 4015, 'fans': 1650, 'liking': 2604, 'reunion': 3669, 'west': 4852, 'burt': 629, 'ward': 4793, 'effort': 1432, 'detail': 1217, 'particularly': 3195, '1960s': 15, 'wayne': 4821, 'versions': 4721, '90': 60, 'delight': 1167, 'television': 4394, 'clips': 852, 'legal': 2563, 'lets': 2580, 'seasons': 3844, 'scary': 3807, 'cousin': 1021, 'yeah': 4977, 'lone': 2642, 'soap': 4047, 'someones': 4065, 'horrid': 2165, 'cinematography': 820, 'stinks': 4192, 'deserved': 1200, 'wonder': 4926, 'casting': 711, 'carrying': 701, 'spoiled': 4122, 'prostitute': 3440, 'likewise': 2603, 'hurt': 2202, 'sole': 4055, 'exception': 1557, 'suffering': 4277, 'passes': 3203, 'dinosaur': 1255, 'fits': 1741, 'humor': 2192, 'jokes': 2415, 'downright': 1337, 'offensive': 3086, 'pathetic': 3210, 'disappointed': 1273, 'pay': 3216, 'memory': 2804, 'purchase': 3469, 'ratings': 3530, 'clever': 841, 'impossible': 2249, 'repeated': 3631, 'network': 3000, 'summary': 4290, 'wars': 4804, 'saga': 3773, '2005': 35, 'entry': 1504, 'appealing': 272, 'focused': 1767, 'hour': 2176, 'ships': 3935, 'luke': 2687, 'absence': 70, 'gone': 1935, 'carrie': 697, 'ford': 1789, 'everyone': 1542, 'page': 3167, 'wonderful': 4928, 'adventure': 130, 'tale': 4353, 'magic': 2703, 'demons': 1178, 'named': 2961, 'queen': 3485, 'ice': 2210, 'king': 2479, 'princess': 3397, 'kidnapped': 2466, 'warrior': 4802, 'protect': 3443, 'defeat': 1157, 'kingdom': 2480, 'underrated': 4642, 'ralph': 3510, 'pop': 3330, 'lord': 2652, 'rings': 3699, 'designed': 1203, 'artist': 307, 'everywhere': 1545, 'disc': 1278, 'edition': 1422, 'underground': 4640, 'wizard': 4919, 'oz': 3160, 'rock': 3720, 'rule': 3753, 'metal': 2823, 'wind': 4893, 'bride': 577, 'sword': 4340, 'army': 295, 'darkness': 1117, 'arthur': 305, 'return': 3665, 'flight': 1757, 'harry': 2039, 'surprises': 4314, 'flicks': 1755, 'che': 773, 'mass': 2753, 'murderer': 2941, 'revolution': 3680, 'hey': 2095, 'revolutionary': 3681, 'presents': 3377, 'mid': 2832, 'joined': 2413, 'crew': 1053, 'shirt': 3937, 'industry': 2280, 'appalling': 268, 'ok': 3098, '60s': 54, 'poverty': 3357, 'results': 3662, 'include': 2261, 'prison': 3401, 'executed': 1565, 'cinematic': 818, 'atrocious': 335, 'present': 3374, 'disturbed': 1299, 'latter': 2528, 'devil': 1228, 'reviewer': 3677, 'del': 1165, 'merit': 2816, 'haunting': 2051, 'portraying': 3343, 'soldiers': 4054, 'throw': 4479, 'mix': 2876, 'cameo': 657, '30': 42, 'average': 362, 'faced': 1617, 'intriguing': 2335, 'potentially': 3356, 'premise': 3370, 'stuck': 4237, 'phone': 3255, 'notch': 3043, 'members': 2801, 'numerous': 3062, 'viewings': 4741, 'halloween': 2010, 'hilarious': 2106, 'christmas': 810, 'relatively': 3600, 'absolute': 71, 'funniest': 1851, 'warmth': 4796, 'goofy': 1939, 'russell': 3761, 'pick': 3265, 'ten': 4399, 'mary': 2751, 'soundtrack': 4085, 'musical': 2947, 'songs': 4072, 'bollywood': 530, 'wake': 4774, 'sid': 3964, 'clichés': 846, 'promising': 3433, 'clearly': 840, 'confusing': 942, 'mess': 2818, 'daniel': 1111, 'fair': 1630, 'furthermore': 1854, 'scares': 3806, 'mysterious': 2955, 'confusion': 943, 'savage': 3793, 'monkeys': 2891, 'conflict': 939, 'abusive': 75, 'share': 3920, 'cause': 723, 'protagonist': 3441, 'express': 1600, 'vague': 4705, 'strongly': 4231, 'featured': 1679, 'directly': 1263, 'portrayed': 3342, 'uses': 4697, 'stock': 4193, 'psychological': 3458, 'korean': 2495, 'sisters': 4002, '2003': 33, 'dr': 1340, 'gordon': 1940, 'warner': 4799, 'leg': 2562, 'received': 3564, 'cross': 1066, 'pleasantly': 3303, 'surprised': 4313, 'learn': 2550, 'hoping': 2160, 'impact': 2244, 'figures': 1713, 'wanted': 4789, 'ironically': 2356, 'activities': 102, 'banned': 395, 'wwii': 4975, 'youre': 4992, 'respect': 3652, 'cruise': 1071, 'successfully': 4267, 'groups': 1981, 'confused': 941, 'complete': 921, 'stories': 4205, 'occur': 3076, 'philosophy': 3254, 'david': 1124, 'facing': 1620, 'scope': 3821, 'simplicity': 3984, 'laid': 2508, 'shadow': 3912, 'aware': 368, 'choice': 797, 'song': 4071, 'dislike': 1288, 'blown': 516, 'matches': 2764, 'angels': 234, 'knowing': 2490, 'break': 569, 'began': 441, 'author': 359, 'intended': 2315, 'presented': 3376, 'cut': 1089, 'clothes': 860, 'bloody': 513, 'lie': 2590, 'suspicious': 4332, 'sorts': 4078, 'wild': 4885, 'beliefs': 452, 'appearance': 274, 'dedicated': 1153, 'investigate': 2342, 'counter': 1011, 'trial': 4580, 'finding': 1727, 'jail': 2376, 'conclusion': 936, 'sam': 3777, 'identify': 2216, 'receive': 3563, 'highlight': 2103, 'essentially': 1523, 'population': 3335, 'except': 1556, 'presence': 3373, 'library': 2589, 'edge': 1418, 'accused': 91, 'mere': 2814, 'enterprise': 1495, 'notes': 3046, 'leonard': 2572, 'executive': 1567, 'werent': 4849, 'emotions': 1461, 'state': 4160, 'particular': 3194, 'display': 1291, 'emotion': 1458, 'hole': 2132, 'thousands': 4466, 'considering': 952, 'originality': 3130, 'imagined': 2239, 'doomed': 1327, 'fate': 1665, 'expect': 1575, 'inspired': 2301, 'unusual': 4681, 'incident': 2260, 'web': 4833, 'belongs': 460, 'list': 2617, 'placed': 3283, 'surely': 4309, 'philip': 3252, 'hoffman': 2128, 'rubbish': 3748, 'humour': 2194, 'wanting': 4790, 'entertained': 1498, 'breath': 573, 'ride': 3692, 'stand': 4143, 'asian': 314, 'led': 2558, 'harvey': 2042, 'kevin': 2457, 'stage': 4139, 'sleeping': 4025, 'gary': 1873, 'suggested': 4281, 'visit': 4755, 'viewed': 4737, 'luck': 2681, 'careers': 687, 'grand': 1953, 'lawrence': 2539, 'altogether': 202, 'aka': 168, 'concerns': 934, 'middle': 2833, 'aged': 149, 'experiences': 1582, 'danny': 1112, 'glover': 1923, 'intentions': 2321, 'steve': 4181, 'martin': 2748, 'spiritual': 4116, 'producing': 3417, 'claims': 830, 'rescue': 3643, 'further': 1853, 'relationships': 3598, 'homeless': 2143, 'connected': 945, 'explore': 1594, 'purely': 3472, 'subject': 4253, 'fetched': 1698, 'generally': 1881, 'jeremy': 2394, 'wet': 4855, 'compared': 912, 'strong': 4229, 'paltrow': 3178, 'emma': 1457, 'laughs': 2534, 'gags': 1862, 'subplot': 4255, 'criticism': 1063, 'scenery': 3810, 'americans': 214, 'combine': 884, 'sacrifice': 3766, 'expecting': 1578, 'clue': 864, 'gas': 1874, 'race': 3499, 'across': 96, 'graphics': 1959, 'breathtaking': 574, 'wow': 4962, 'sign': 3970, 'perform': 3227, 'handsome': 2021, 'wouldnt': 4958, 'spell': 4104, 'lol': 2640, 'spider': 4109, 'rocks': 3722, 'richard': 3686, 'jaws': 2385, 'jealous': 2388, 'gadget': 1860, 'creating': 1039, 'starring': 4154, 'mike': 2838, 'myers': 2952, 'julie': 2428, 'andrews': 229, 'eddie': 1416, 'murphy': 2944, 'instant': 2305, 'bigger': 479, 'academy': 77, 'sheer': 3925, 'walked': 4776, 'ticket': 4487, 'dozen': 1338, 'requires': 3642, 'huh': 2187, 'embarrassed': 1453, 'idiot': 2218, 'fbi': 1675, 'levels': 2585, 'complexity': 924, 'mysteries': 2954, 'twist': 4617, 'revealed': 3671, 'innocent': 2294, 'peter': 3247, 'closet': 858, 'homosexual': 2145, 'comedic': 888, 'leads': 2548, 'unpredictable': 4675, 'reminiscent': 3621, 'reynolds': 3684, 'personalities': 3241, 'timing': 4498, 'drama': 1346, 'reflect': 3584, 'faces': 1618, 'expression': 1602, 'social': 4049, 'dry': 1377, 'ambitious': 211, 'pulp': 3465, 'fiction': 1702, 'compelling': 916, 'lincoln': 2608, 'fonda': 1777, 'wearing': 4831, 'delivery': 1173, 'perfectly': 3226, 'pair': 3176, 'months': 2897, 'scott': 3824, 'screenwriter': 3833, 'buried': 624, 'directing': 1260, 'improve': 2254, 'thoroughly': 4459, 'productions': 3420, 'gritty': 1977, 'dollar': 1314, 'ms': 2931, 'operation': 3117, 'exact': 1550, 'arrogant': 303, 'pain': 3170, 'comic': 893, 'relief': 3605, 'knock': 2488, 'enjoying': 1487, 'unbearable': 4633, 'unable': 4631, 'destruction': 1216, 'aint': 163, 'sit': 4003, 'fascinated': 1657, 'eve': 1532, 'mountain': 2917, 'cliff': 847, 'attorney': 348, 'morgan': 2905, 'leading': 2547, 'marriage': 2743, 'estate': 1525, 'chicago': 785, 'surrounded': 4318, 'stanwyck': 4149, 'returns': 3668, 'resolution': 3649, 'favorites': 1672, 'ultimately': 4628, '1930s': 11, 'unlike': 4670, 'encounters': 1467, 'relate': 3593, 'engaging': 1481, 'jungle': 2434, 'ridden': 3691, 'former': 1800, 'lover': 2672, 'patient': 3211, 'sons': 4073, 'empty': 1465, 'cold': 872, 'convey': 982, 'widow': 4883, 'issues': 2365, 'letting': 2583, 'stranger': 4213, 'suddenly': 4273, 'dating': 1120, 'business': 633, 'embarrassing': 1454, 'board': 522, 'husbands': 2205, 'lawyer': 2541, 'fed': 1682, 'involve': 2345, 'quickly': 3491, 'continue': 969, 'jeffrey': 2391, 'jessica': 2398, 'lesbian': 2573, 'bold': 528, 'encounter': 1466, 'reveals': 3673, 'references': 3583, 'nation': 2969, 'dirty': 1268, 'typical': 4623, 'slapstick': 4019, 'insight': 2298, 'filmed': 1717, 'conceived': 929, 'standing': 4146, 'mundane': 2938, 'absurd': 73, 'offers': 3090, 'stunning': 4244, 'revelation': 3674, 'meaningful': 2781, 'animals': 240, 'wandering': 4785, 'held': 2074, 'loser': 2655, 'rolling': 3730, 'company': 910, 'worthwhile': 4955, 'future': 1856, 'covers': 1024, 'member': 2800, 'wit': 4908, 'relationship': 3597, 'beloved': 461, 'harris': 2038, 'drag': 1342, 'portrays': 3344, 'irritating': 2359, 'idiots': 2220, 'develop': 1222, 'content': 966, 'uncomfortable': 4637, 'introduced': 2337, 'depth': 1190, 'rank': 3518, 'narration': 2965, 'spends': 4107, 'evening': 1534, 'dancing': 1107, 'steals': 4172, 'exercise': 1568, 'heaven': 2068, 'tea': 4373, 'sympathy': 4343, 'fatal': 1664, 'crash': 1033, 'jim': 2402, 'carrey': 696, 'grinch': 1975, 'sitting': 4007, 'remake': 3612, 'undoubtedly': 4648, 'notably': 3042, 'adorable': 124, 'design': 1202, 'proud': 3444, 'cartoon': 704, 'howard': 2182, 'succeeded': 4263, 'disagree': 1269, 'hearts': 2066, 'midnight': 2834, 'strikes': 4225, 'arrested': 298, 'danes': 1108, 'journey': 2421, 'matters': 2770, 'friendship': 1838, 'trust': 4598, 'limits': 2607, 'stretched': 4222, 'holds': 2131, 'notorious': 3051, 'concept': 930, 'crowd': 1067, 'merely': 2815, 'bored': 541, 'acts': 107, 'defined': 1160, 'fare': 1655, 'scripted': 3835, 'joe': 2407, 'pat': 3208, 'terry': 4415, 'variety': 4714, 'technically': 4382, 'amounts': 220, 'showdown': 3955, 'displays': 1293, 'creep': 1051, 'intimate': 2331, 'shy': 3962, 'upper': 4685, 'herself': 2092, 'victim': 4729, 'pace': 3161, 'consistent': 953, 'granted': 1957, 'sharp': 3922, 'material': 2766, '1970s': 17, 'universe': 4666, 'appearances': 275, 'anime': 243, '100': 1, 'mechanical': 2788, 'witnesses': 4916, 'count': 1010, 'kills': 2474, 'convinced': 984, 'achieve': 92, 'train': 4556, 'expensive': 1579, 'meets': 2795, 'bears': 421, 'resemblance': 3645, 'condition': 937, 'rushed': 3760, 'speed': 4103, 'faithful': 1634, 'detailed': 1218, 'puts': 3481, 'shame': 3918, 'dub': 1378, 'audio': 354, 'mainly': 2708, 'dragon': 1344, 'excited': 1561, 'calm': 655, 'shadows': 3913, 'waitress': 4773, 'suitable': 4285, 'headed': 2058, 'awkward': 374, 'naive': 2958, 'differences': 1247, 'humans': 2190, 'machines': 2694, 'stays': 4169, 'growing': 1983, 'reach': 3536, 'reached': 3537, 'term': 4405, 'describe': 1194, 'amongst': 218, 'shell': 3927, '2001': 31, 'difference': 1246, 'vampires': 4712, 'loose': 2650, 'natural': 2973, 'equally': 1510, 'sinister': 3998, 'par': 3184, 'fay': 1674, 'unfunny': 4655, 'seat': 3845, 'embarrassment': 1455, 'carry': 700, 'psychic': 3456, 'energy': 1478, 'leo': 2571, 'titanic': 4503, 'ed': 1415, 'bland': 500, 'recently': 3567, 'pulling': 3463, 'bleak': 503, 'students': 4239, 'rip': 3700, 'torn': 4528, 'add': 115, 'national': 2970, 'santa': 3783, 'barbara': 397, 'disgusting': 1286, 'warming': 4795, 'cheating': 776, 'wives': 4918, 'dogs': 1311, 'equal': 1509, 'swear': 4334, '1st': 28, 'murders': 2943, 'east': 1407, 'river': 3707, 'joey': 2408, 'kicked': 2461, 'spike': 4111, 'hill': 2108, 'redemption': 3578, 'study': 4242, 'community': 908, 'parallel': 3185, 'cities': 823, 'daily': 1097, 'godzilla': 1929, 'studios': 4241, 'samurai': 3779, 'monster': 2892, 'rival': 3706, 'chose': 804, 'shoots': 3944, 'teeth': 4393, 'feet': 1688, 'paper': 3183, 'mirror': 2861, 'nuclear': 3057, 'bomb': 531, 'destroy': 1213, 'connection': 946, 'believes': 456, 'jewish': 2401, 'hitler': 2124, 'worlds': 4947, 'plan': 3287, 'surprising': 4315, 'north': 3036, 'eight': 1436, 'plus': 3311, 'crush': 1072, 'lived': 2626, 'context': 968, 'cowboy': 1025, 'thrown': 4481, 'tortured': 4530, 'grew': 1972, 'south': 4087, 'europe': 1529, 'africa': 141, 'raped': 3522, 'worthless': 4954, 'rough': 3741, 'neck': 2985, 'ass': 323, 'drunk': 1375, 'mentions': 2813, 'neither': 2996, 'arnold': 296, '1996': 26, 'stopped': 4202, 'cartoons': 705, 'nevertheless': 3002, 'childrens': 793, 'stinker': 4191, 'heck': 2071, 'skill': 4013, 'garbage': 1870, 'visually': 4758, 'creative': 1041, 'uninteresting': 4660, 'cases': 708, 'laughable': 2530, 'tales': 4357, 'blows': 517, 'hired': 2117, 'purchased': 3470, 'visuals': 4759, 'angles': 237, 'cameras': 660, 'street': 4216, 'whereas': 4865, 'horrors': 2169, 'fashion': 1659, 'landscape': 2513, 'folks': 1771, 'ashamed': 312, 'market': 2740, 'marketing': 2741, 'plastic': 3294, 'suppose': 4305, 'office': 3091, 'pg': 3250, '13': 4, 'citizen': 824, 'kane': 2442, 'angle': 236, 'channel': 753, 'exists': 1573, 'alert': 178, 'news': 3005, 'continued': 970, 'dracula': 1341, 'satisfied': 3789, 'lights': 2597, 'loyal': 2679, 'scared': 3805, 'stops': 4203, 'drinking': 1362, 'tons': 4520, 'satisfy': 3790, 'shelf': 3926, 'dust': 1388, 'common': 906, 'blame': 499, 'stealing': 4171, 'humble': 2191, 'dutch': 1389, 'gerard': 1895, 'writer': 4968, 'cute': 1090, 'suspenseful': 4331, 'noir': 3023, 'impressive': 2253, 'notion': 3050, 'mans': 2730, 'cd': 728, 'exist': 1569, 'failing': 1627, 'families': 1644, 'parties': 3196, 'practice': 3363, '15': 7, 'road': 3709, 'path': 3209, 'adds': 119, '1990': 24, 'caused': 724, '2nd': 41, 'march': 2734, 'law': 2538, 'muslim': 2949, 'wrote': 4974, 'stated': 4161, 'peace': 3219, 'religion': 3607, 'pro': 3406, 'christian': 808, 'civil': 826, 'soviet': 4089, 'holding': 2130, 're': 3535, 'spoiler': 4123, 'research': 3644, 'pseudo': 3454, 'needs': 2990, 'hide': 2097, 'borrowed': 545, 'wasted': 4809, 'precious': 3366, 'nasty': 2968, 'gross': 1978, 'glass': 1917, 'australia': 356, 'surfing': 4311, 'shark': 3921, 'waters': 4817, 'animal': 239, 'crocodile': 1065, 'fifteen': 1706, 'closely': 855, 'australian': 357, 'resulting': 3661, 'hundred': 2195, 'deaths': 1142, 'ruin': 3750, 'closest': 857, 'believing': 457, 'massacre': 2754, 'disappeared': 1271, 'exposed': 1598, 'unique': 4662, 'perspective': 3245, 'indie': 2276, 'corporate': 998, 'bands': 392, '12': 3, 'friendly': 1836, 'figured': 1712, 'pig': 3274, 'fox': 1814, 'todd': 4510, 'names': 2963, 'semi': 3874, 'besides': 468, 'reads': 3545, 'synopsis': 4344, 'finale': 1723, 'moved': 2922, 'pleased': 3305, 'disneys': 1290, 'lewis': 2586, 'comparing': 913, 'involves': 2348, 'duty': 1390, 'witches': 4910, 'angela': 232, 'performers': 3232, 'carries': 699, 'brand': 565, 'oscar': 3133, 'united': 4664, 'hall': 2009, 'retired': 3664, 'nominated': 3025, 'personally': 3243, 'colorful': 878, 'computer': 927, 'generated': 1882, 'sitcom': 4004, 'returned': 3666, 'san': 3780, 'mann': 2728, 'western': 4853, 'photographed': 3258, 'remarkable': 3613, 'westerns': 4854, 'darker': 1116, 'inner': 2292, 'carefully': 689, 'chosen': 805, 'proceedings': 3410, 'shelley': 3928, 'winters': 4901, 'dan': 1102, 'vicious': 4728, 'villain': 4744, 'indian': 2274, 'crafted': 1029, 'wins': 4899, 'pursuit': 3476, 'element': 1442, 'fathers': 1667, 'hatred': 2049, 'gorgeous': 1942, 'curtis': 1087, 'ritter': 3705, 'steal': 4170, 'shouldnt': 3952, 'oscars': 3134, 'widmark': 4882, 'flawed': 1750, 'peters': 3248, 'tough': 4537, 'hated': 2047, 'handed': 2016, 'dialogue': 1234, 'thief': 4448, 'drive': 1363, 'brutally': 604, 'commentary': 899, 'miscast': 2862, 'slave': 4022, 'cook': 988, 'distant': 1295, 'neighbor': 2992, 'brutal': 603, 'settle': 3902, 'joan': 2404, 'naturally': 2974, 'reporter': 3636, 'mob': 2879, 'gangster': 1868, 'clark': 832, 'swim': 4337, 'numbers': 3061, 'code': 869, 'range': 3516, 'quirky': 3493, 'sci': 3815, 'fi': 1701, 'pleasure': 3306, 'fit': 1740, 'category': 718, 'resist': 3648, 'fat': 1663, 'gods': 1928, 'qualities': 3483, 'consists': 955, 'nick': 3012, 'generous': 1886, 'critic': 1061, 'romance': 3732, 'built': 618, 'couples': 1017, 'lust': 2689, 'translation': 4562, 'frequent': 1831, 'dying': 1393, 'wishing': 4907, 'remote': 3622, 'cake': 648, 'adding': 117, 'yelling': 4980, 'snow': 4045, 'randomly': 3515, 'throws': 4482, 'threw': 4470, 'blank': 501, 'surrounding': 4319, 'failure': 1629, 'excitement': 1562, 'wreck': 4965, 'depicts': 1186, 'drug': 1373, 'consequences': 947, 'society': 4050, 'fame': 1642, 'nowadays': 3055, 'method': 2824, 'succeed': 4262, 'raising': 3509, 'thrills': 4475, 'sinatra': 3989, 'sea': 3838, 'mate': 2765, 'winds': 4895, 'floor': 1759, 'aging': 153, 'owner': 3159, 'intrigue': 2333, 'desired': 1206, 'beginning': 443, 'italian': 2367, 'frustrated': 1842, 'gender': 1878, 'jack': 2373, 'diane': 1238, 'shape': 3919, 'guarantee': 1987, 'buffs': 612, 'sincere': 3991, 'moving': 2928, 'born': 544, 'frame': 1815, 'lousy': 2667, 'ugly': 4625, 'ears': 1402, 'souls': 4080, 'transition': 4561, 'laughter': 2535, 'afterwards': 145, 'suicide': 4283, 'featuring': 1681, 'plots': 3310, '24': 39, 'similarities': 3979, 'execution': 1566, 'gentle': 1890, 'opposite': 3123, 'le': 2544, 'topless': 4527, 'kicking': 2462, 'germans': 1897, 'mitchell': 2875, 'breasts': 572, 'keaton': 2448, 'occurs': 3078, 'feminist': 1695, 'exploitation': 1592, 'grave': 1962, 'martial': 2747, 'arts': 310, 'dancers': 1105, 'artists': 309, 'island': 2361, 'frequently': 1832, 'destroyed': 1214, 'dinner': 1254, 'cable': 644, 'warning': 4800, 'exceptionally': 1559, 'unnecessary': 4672, 'needless': 2989, 'sub': 4252, 'wholly': 4874, 'exceptional': 1558, 'mail': 2706, 'secretly': 3851, 'sent': 3880, 'tunes': 4603, 'catchy': 717, 'sing': 3992, 'okay': 3099, 'disturbing': 1300, 'finger': 1731, 'wished': 4905, 'gotten': 1947, 'twins': 4616, 'closer': 856, 'size': 4012, 'horribly': 2164, 'ladies': 2506, 'mouth': 2920, 'frankly': 1823, 'killer': 2470, 'terror': 4412, 'theatrical': 4430, 'french': 1830, 'notice': 3048, 'destiny': 1212, 'everyones': 1543, 'dialogues': 1235, 'fascinating': 1658, 'unsettling': 4679, 'edie': 1419, 'aunt': 355, 'kennedy': 2454, 'mansion': 2731, 'health': 2060, 'eccentric': 1414, 'conversations': 981, 'driving': 1368, 'dancer': 1104, 'nonsensical': 3031, 'attempted': 341, 'thinks': 4454, 'physically': 3263, 'attacks': 339, 'captivating': 675, 'treat': 4572, 'bizarre': 492, 'dreams': 1355, 'cats': 721, 'bedroom': 437, 'produced': 3414, 'roles': 3727, 'kitchen': 2485, 'doctors': 1305, 'questionable': 3488, 'akshay': 169, 'expectations': 1576, 'standard': 4144, 'noise': 3024, 'beats': 426, 'extended': 1604, 'monkey': 2890, 'dances': 1106, 'entertain': 1497, 'initially': 2291, 'kapoor': 2443, 'ahead': 159, 'multi': 2935, 'comedies': 889, 'impress': 2250, '60': 53, 'increasingly': 2268, 'breaking': 570, 'gag': 1861, 'downhill': 1336, 'mill': 2845, 'stale': 4141, 'survive': 4321, 'constant': 957, 'lighting': 2596, 'benefit': 465, 'nostalgia': 3038, 'clothing': 861, 'styles': 4250, 'hollywoods': 2138, 'apes': 267, 'ape': 266, 'spending': 4106, 'masterpieces': 2760, 'ex': 1549, 'ryan': 3765, 'albert': 174, 'tim': 4494, 'robbins': 3712, 'shop': 3945, 'walter': 4784, 'matthau': 2771, 'keeping': 2450, 'scientists': 3819, 'week': 4837, 'switch': 4339, 'moore': 2901, 'touches': 4535, 'johnson': 2411, 'singer': 3993, 'crying': 1074, 'basketball': 409, 'discovered': 1280, 'shocking': 3940, 'league': 2549, 'ted': 4386, 'normal': 3033, 'format': 1799, 'seeking': 3859, 'hence': 2083, 'sadistic': 3768, 'serial': 3889, 'themes': 4434, 'guessed': 1990, 'offended': 3085, 'thick': 4447, 'max': 2774, 'scenario': 3808, 'clumsy': 866, 'reveal': 3670, 'mental': 2808, 'turned': 4606, 'kept': 2456, 'portrait': 3339, 'decisions': 1152, 'whatsoever': 4861, 'ludicrous': 2685, 'comedian': 887, 'dialogs': 1233, 'silver': 3977, 'terrific': 4409, 'heroine': 2091, 'jackie': 2374, 'chan': 746, 'battles': 415, 'tiger': 4491, 'davies': 1125, 'warriors': 4803, 'stick': 4185, 'instance': 2304, 'rush': 3759, 'jay': 2386, 'balance': 387, 'pacing': 3163, 'lily': 2605, 'jamie': 2379, 'impressed': 2251, 'obnoxious': 3067, 'funnier': 1850, 'favor': 1670, 'witty': 4917, 'brooks': 596, 'interview': 2329, 'taxi': 4371, 'model': 2880, 'phony': 3256, 'comparison': 914, 'spots': 4132, 'villains': 4745, 'concerned': 932, 'fellow': 1691, 'mile': 2842, 'proved': 3446, 'killers': 2471, '14': 6, 'struck': 4232, 'hearing': 2063, 'bet': 470, 'section': 3853, 'freedom': 1828, 'enjoyment': 1488, 'genuine': 1891, 'bitter': 491, 'inevitable': 2282, 'minds': 2852, 'lower': 2677, 'classes': 834, 'brilliantly': 584, 'elegant': 1441, 'current': 1084, 'trailers': 4555, 'intellectual': 2312, 'teenagers': 4391, 'expressed': 1601, 'medium': 2792, 'timothy': 4499, 'dalton': 1098, 'rochester': 3719, 'jane': 2380, 'eyre': 1614, 'offered': 3088, 'respected': 3653, 'communist': 907, 'teens': 4392, 'morris': 2908, 'trick': 4582, 'refreshing': 3586, 'driven': 1365, 'extreme': 1609, 'usual': 4699, 'kudos': 2497, 'reaches': 3538, 'broadway': 592, 'annoyed': 248, 'causing': 726, 'rating': 3529, 'ginger': 1908, 'lucy': 2684, 'betty': 474, 'suffered': 4276, 'teenager': 4390, 'mine': 2853, 'amateur': 206, 'theyd': 4443, 'involvement': 2347, 'maker': 2714, 'whilst': 4869, 'searching': 3842, 'smith': 4038, 'picks': 3268, 'flesh': 1753, 'amateurish': 207, 'brad': 560, '1999': 27, 'believed': 455, 'efforts': 1433, 'redeeming': 3577, 'angry': 238, 'cheated': 775, 'junk': 2436, 'suffice': 4279, 'blair': 497, 'rap': 3520, 'selling': 3873, 'flow': 1762, 'accomplished': 87, 'spare': 4093, 'mixed': 2877, 'quiet': 3492, 'steps': 4177, 'displayed': 1292, 'stilted': 4190, 'painting': 3175, 'partner': 3198, 'bits': 490, 'mainstream': 2709, 'regarding': 3589, 'ignorant': 2223, 'sat': 3786, 'cannibal': 669, 'forty': 1807, 'kissing': 2484, 'worn': 4948, 'glory': 1922, 'indeed': 2271, 'fill': 1714, 'calling': 653, 'don': 1320, 'college': 875, 'celluloid': 731, 'recognize': 3569, 'editing': 1421, 'jumps': 2432, 'miserable': 2863, 'jesus': 2399, 'twenty': 4612, 'random': 3514, 'appeared': 276, 'fancy': 1649, 'broken': 594, 'argument': 291, 'useless': 4695, 'relies': 3606, 'striking': 4226, 'remarkably': 3614, 'forgotten': 1797, 'de': 1131, 'hitchcock': 2123, 'escapes': 1519, 'gene': 1879, 'kelly': 2452, 'em': 1452, '25': 40, 'actresses': 106, 'ship': 3934, 'ron': 3734, 'guide': 1993, 'male': 2719, 'distracting': 1297, 'infamous': 2284, 'honest': 2146, 'hype': 2207, 'cg': 739, 'reasonable': 3558, 'inane': 2258, 'franchise': 1817, 'elsewhere': 1449, 'weeks': 4839, 'chased': 770, 'lyrics': 2692, 'progresses': 3426, 'watchable': 4812, 'jonathan': 2417, 'patrick': 3213, 'wise': 4903, 'overwhelming': 3157, 'reed': 3580, 'linda': 2609, 'thankfully': 4422, 'bridge': 578, 'namely': 2962, 'rick': 3689, 'base': 402, 'contact': 961, 'lucas': 2680, 'trilogy': 4586, 'learned': 2551, 'eerie': 1427, 'belong': 459, 'represent': 3637, 'empire': 1464, 'shirley': 3936, 'theyll': 4444, 'higher': 2101, 'awards': 367, 'background': 380, 'dickens': 1240, 'scrooge': 3837, 'creates': 1038, 'asked': 317, 'jumping': 2431, 'existence': 1571, 'served': 3894, 'experiment': 1583, '70': 55, 'field': 1704, 'tree': 4576, 'photographer': 3259, 'developing': 1224, 'models': 2881, 'building': 615, 'knife': 2487, 'constructed': 959, 'fly': 1763, 'neil': 2995, 'technology': 4385, 'advanced': 128, 'wondered': 4927, 'user': 4696, 'sudden': 4272, 'dropping': 1371, 'rooms': 3736, 'convince': 983, 'reflection': 3585, 'critical': 1062, 'prove': 3445, 'cat': 713, 'award': 366, 'factor': 1622, 'pretentious': 3383, 'purple': 3473, 'theatre': 4429, 'composed': 926, 'holy': 2140, 'stolen': 4195, 'powers': 3361, 'financial': 1725, 'filmmaker': 1719, 'mindless': 2851, 'ramones': 3512, 'spring': 4134, 'nostalgic': 3039, 'seventies': 3904, 'eighties': 1437, 'speak': 4094, 'struggling': 4236, 'throwing': 4480, 'damn': 1100, 'paced': 3162, 'adventures': 131, 'wall': 4781, 'mentally': 2809, 'clown': 862, 'suit': 4284, 'resort': 3650, 'accompanied': 86, 'performed': 3230, 'comics': 895, 'legs': 2566, 'theyve': 4446, 'gratuitous': 1961, 'ages': 152, 'misses': 2868, 'lion': 2614, 'pride': 3391, 'suffer': 4275, 'mom': 2885, 'voiced': 4762, 'acceptable': 81, 'gonna': 1936, 'basic': 406, 'grasp': 1960, 'discovers': 1281, 'jenny': 2393, 'jackson': 2375, 'margaret': 2735, 'gray': 1963, 'mrs': 2930, 'psychiatrist': 3455, 'ian': 2209, 'disappear': 1270, 'forms': 1801, 'loving': 2675, 'barely': 399, 'unaware': 4632, 'knowledge': 2491, 'refuses': 3587, 'illness': 2230, 'concerning': 933, 'discuss': 1283, 'fallen': 1638, 'window': 4894, 'walks': 4780, 'henry': 2084, 'miller': 2846, 'horse': 2170, 'simmons': 3981, 'barry': 401, 'jones': 2418, 'losing': 2658, 'expert': 1585, 'sends': 3876, 'countryside': 1015, 'catching': 716, 'photo': 3257, 'greedy': 1969, 'murderous': 2942, 'depressing': 1188, 'anne': 246, 'ruined': 3751, 'babe': 375, 'hoped': 2156, 'understanding': 4645, 'rats': 3531, 'ellen': 1446, 'bin': 483, 'justin': 2440, 'cary': 706, 'journalist': 2420, 'corrupt': 1001, 'freeman': 1829, 'surprisingly': 4316, 'clichéd': 845, 'mothers': 2912, 'dated': 1119, 'slightly': 4029, 'originally': 3131, 'vhs': 4725, 'tape': 4365, 'presentation': 3375, 'realized': 3553, 'radio': 3504, 'contrary': 974, 'achievement': 94, 'dean': 1139, 'anderson': 227, 'burned': 626, 'terrorist': 4413, 'arm': 292, 'private': 3404, 'jet': 2400, 'pilot': 3276, 'elephant': 1444, 'sappy': 3784, 'melodrama': 2797, 'saves': 3796, 'choices': 798, 'susan': 4326, 'personality': 3242, 'washington': 4806, 'walken': 4777, 'challenge': 743, 'sides': 3967, 'dreary': 1356, 'divorce': 1301, 'drops': 1372, 'hints': 2113, 'glimpse': 1919, 'outfit': 3144, 'revealing': 3672, 'shakespeare': 3915, 'pretending': 3382, 'mad': 2696, 'listening': 2620, 'chorus': 803, 'quotes': 3497, 'advice': 133, 'intent': 2318, 'heston': 2094, 'trap': 4563, 'broke': 593, 'tension': 4404, 'troubled': 4593, 'pan': 3180, 'generic': 1885, 'mood': 2898, '1968': 16, 'billy': 482, '1973': 19, 'dignity': 1252, 'vengeance': 4719, 'protagonists': 3442, 'sheriff': 3929, 'larry': 2520, 'assigned': 325, 'jerry': 2396, 'superman': 4301, 'mouse': 2919, 'rambo': 3511, 'li': 2587, 'mask': 2752, 'choreographed': 801, 'review': 3676, 'kick': 2460, 'gory': 1943, 'falk': 1636, 'overacting': 3149, 'amitabh': 216, 'kidding': 2465, 'message': 2819, 'hiding': 2099, 'melodramatic': 2798, 'speech': 4102, 'overdone': 3152, 'burn': 625, 'pants': 3182, 'winner': 4897, 'clint': 850, 'eastwood': 1409, 'kenneth': 2455, 'branagh': 564, 'text': 4419, 'classical': 836, 'hamlet': 2013, 'build': 614, 'dear': 1140, 'spirits': 4115, 'pot': 3354, 'oil': 3097, 'severe': 3906, 'deceased': 1146, 'shower': 3957, 'fairy': 1632, 'folk': 1770, 'psychotic': 3459, 'itll': 2369, 'johnny': 2410, 'spoof': 4127, 'bonus': 534, 'legendary': 2565, 'dvds': 1392, 'anybody': 257, 'walking': 4779, 'videos': 4734, 'sensitive': 3879, 'topic': 4526, 'messed': 2821, 'cgi': 740, 'lacked': 2503, 'tedious': 4387, 'roman': 3731, 'goldberg': 1933, 'movement': 2923, 'iron': 2354, 'blew': 505, 'developed': 1223, 'blade': 495, 'quick': 3490, 'trailer': 4554, 'paris': 3189, 'leslie': 2574, 'handled': 2019, 'competent': 917, 'olivier': 3103, 'ie': 2221, 'properly': 3437, 'superior': 4300, 'cliché': 844, 'eg': 1434, 'mentioning': 2812, 'intelligence': 2313, 'fighter': 1708, 'meanwhile': 2785, 'detective': 1220, 'complicated': 925, 'imaginative': 2237, 'titles': 4506, 'stretch': 4221, 'removed': 3624, 'dave': 1123, 'vietnam': 4735, 'planning': 3291, 'provides': 3450, 'corner': 996, 'proceeds': 3411, 'planned': 3290, 'plans': 3292, 'delivers': 1172, 'thus': 4486, 'alcohol': 176, 'tend': 4400, 'complain': 919, 'roger': 3724, 'develops': 1226, 'buddies': 608, 'wound': 4960, 'ruthless': 3764, 'et': 1526, 'returning': 3667, 'defend': 1158, 'dinosaurs': 1256, 'toy': 4542, 'unbelievably': 4635, 'somebody': 4062, 'commercials': 903, 'boss': 546, 'virus': 4752, 'system': 4345, 'independent': 2272, 'allowing': 191, 'creativity': 1042, 'iran': 2350, 'dressed': 1358, 'sneak': 4043, 'blonde': 511, 'narrative': 2966, 'security': 3854, 'bumbling': 622, 'compelled': 915, 'ridiculously': 3694, 'burning': 627, 'soccer': 4048, 'onto': 3111, 'domestic': 1318, 'tragedy': 4551, 'understated': 4646, 'appreciated': 280, '2007': 37, 'contain': 962, 'woody': 4936, 'court': 1020, 'retarded': 3663, 'seconds': 3848, 'unreal': 4676, 'loosely': 2651, 'versus': 4722, 'france': 1816, 'tradition': 4549, 'performer': 3231, 'instantly': 2306, 'touched': 4534, 'china': 795, 'recognized': 3570, 'influenced': 2287, 'location': 2635, 'chilling': 794, 'guts': 1999, 'decade': 1144, 'graphic': 1958, '35': 45, 'visits': 4756, 'paint': 3173, 'demented': 1176, 'horrifying': 2167, 'loads': 2633, 'occurred': 3077, 'duo': 1386, 'guest': 1992, 'sleep': 4024, 'terrifying': 4410, 'sarah': 3785, 'lynch': 2691, 'lesson': 2577, 'explaining': 1588, 'traveling': 4568, '17': 9, '18': 10, 'ignore': 2224, 'characterization': 759, 'empathy': 1462, 'carried': 698, 'exaggerated': 1552, 'polished': 3323, 'boom': 537, 'sin': 3988, 'spend': 4105, 'temple': 4398, 'force': 1786, 'monk': 2889, 'wed': 4835, 'opened': 3113, 'examples': 1554, 'tongue': 4518, 'heads': 2059, 'unforgettable': 4652, 'effectively': 1430, 'boyfriend': 558, 'warn': 4797, 'minimum': 2856, 'irrelevant': 2358, 'hyde': 2206, 'album': 175, 'parody': 3192, 'choreography': 802, 'laughably': 2531, 'falling': 1639, 'uneven': 4649, 'answers': 252, 'artistic': 308, 'unfortunate': 4653, 'rural': 3758, 'emily': 1456, 'conservative': 948, 'foster': 1809, 'door': 1328, 'succeeds': 4264, 'elvis': 1451, 'hopefully': 2157, 'victor': 4731, 'hip': 2114, 'pacino': 3164, 'forth': 1804, 'nonetheless': 3029, 'profound': 3423, 'feed': 1683, '75': 57, 'overcome': 3151, 'wealth': 4826, 'bush': 632, 'irish': 2353, 'media': 2789, 'helicopter': 2076, 'weve': 4856, 'brooklyn': 595, 'heights': 2073, 'wicked': 4879, 'spooky': 4128, 'bed': 436, 'christians': 809, 'earned': 1401, 'concern': 931, 'schools': 3814, 'surreal': 4317, 'methods': 2825, 'troubles': 4594, 'solve': 4060, 'designs': 1204, 'burton': 630, 'vision': 4754, 'rat': 3525, 'hang': 2022, 'rental': 3627, 'brain': 562, 'psycho': 3457, 'texas': 4418, 'hurts': 2203, 'ignored': 2225, 'meaningless': 2782, 'forbidden': 1785, 'inferior': 2285, 'statement': 4162, 'catholic': 720, 'glorious': 1921, '30s': 44, 'movements': 2924, 'hollow': 2135, 'attraction': 350, 'marvelous': 2750, 'eric': 1514, 'opportunities': 3120, 'advantage': 129, 'secretary': 3850, 'bus': 631, 'understood': 4647, 'maggie': 2702, 'charge': 761, 'assumed': 329, 'airport': 167, 'inspector': 2299, 'weekend': 4838, 'suffers': 4278, 'cutting': 1092, 'exploration': 1593, 'robot': 3717, 'neo': 2998, 'sexuality': 3909, 'forgive': 1795, 'gold': 1932, 'competition': 918, 'wear': 4830, 'weapon': 4828, 'wears': 4832, 'dress': 1357, 'fulci': 1845, 'nightmare': 3014, 'hotel': 2175, 'corpse': 999, 'trio': 4587, 'flies': 1756, 'engage': 1479, 'hook': 2152, 'punch': 3466, 'emphasis': 1463, 'eat': 1411, 'push': 3477, 'wacky': 4769, 'oddly': 3081, 'teaching': 4377, 'learns': 2553, 'colors': 879, 'jerk': 2395, 'actions': 101, 'cleverly': 842, 'scarecrow': 3804, 'rain': 3506, 'tad': 4347, 'mistaken': 2872, 'hal': 2006, 'dorothy': 1330, 'simpson': 3987, 'kubrick': 2496, 'sounded': 4082, 'stanley': 4148, 'kings': 2481, 'views': 4742, 'shining': 3933, 'relations': 3596, 'map': 2733, 'merits': 2817, 'analysis': 224, 'conventional': 979, 'nightmares': 3015, 'convoluted': 987, 'nicholson': 3011, 'tag': 4348, 'wendy': 4846, 'afraid': 140, 'brilliance': 582, 'wanna': 4786, 'union': 4661, 'teach': 4374, 'amanda': 205, 'pointed': 3317, 'credible': 1048, 'easier': 1405, 'environment': 1505, 'thoughts': 4464, 'letters': 2582, 'alan': 171, 'welcome': 4842, 'invasion': 2340, 'surface': 4310, 'sunday': 4293, 'upon': 4684, 'riding': 3695, 'daddy': 1096, 'creation': 1040, 'cameos': 658, 'freddy': 1826, 'strictly': 4223, 'motivations': 2915, 'andy': 230, 'hank': 2024, 'commit': 904, 'ethan': 1528, 'businessman': 634, 'sidney': 3968, 'lumet': 2688, 'outrageous': 3145, 'threatening': 4468, 'charlie': 765, 'overrated': 3156, 'anna': 245, 'simon': 3982, 'rex': 3683, 'brenda': 575, 'pamela': 3179, 'richards': 3687, 'directs': 1267, 'airplane': 166, 'iii': 2227, 'titled': 4505, 'virginia': 4750, 'hanging': 2023, 'attached': 336, 'attracted': 349, 'halfway': 2008, 'dubbing': 1380, 'basement': 405, 'swimming': 4338, 'pool': 3327, 'familys': 1646, 'flaw': 1749, 'extras': 1608, 'chases': 771, 'revolves': 3682, 'importance': 2246, 'conversation': 980, 'jake': 2377, 'sullivan': 4288, 'slowly': 4032, 'integrity': 2311, 'pushed': 3478, 'holiday': 2134, 'segments': 3868, 'adams': 112, 'relatives': 3601, 'vegas': 4717, 'screens': 3832, 'miserably': 2864, 'afford': 138, 'hire': 2116, 'excuse': 1564, 'official': 3094, 'starred': 4153, 'grant': 1956, 'lies': 2591, '3rd': 47, 'sir': 4000, 'solely': 4056, 'carradine': 695, 'root': 3737, 'lucky': 2683, 'plague': 3285, 'wasting': 4810, 'flashback': 1746, 'laura': 2536, 'newly': 3004, 'haunted': 2050, 'promises': 3432, 'doors': 1329, 'arrives': 302, 'bible': 477, 'introduces': 2338, 'snake': 4042, 'painted': 3174, 'string': 4227, 'typically': 4624, 'senseless': 3878, 'alcoholic': 177, 'abysmal': 76, 'literature': 2623, 'prize': 3405, 'caine': 647, 'shoes': 3941, 'carter': 703, 'creators': 1044, 'miike': 2837, 'chair': 742, 'werewolf': 4850, 'garden': 1872, 'ps': 3453, 'frankenstein': 1822, 'fx': 1858, 'essential': 1522, 'commented': 900, 'progress': 3425, 'unit': 4663, 'kurt': 2499, 'sandra': 3782, 'search': 3841, 'pearl': 3220, 'norman': 3035, 'ties': 4490, 'advise': 134, 'madonna': 2699, 'shed': 3924, 'desperately': 1209, 'weight': 4840, 'regardless': 3590, 'bette': 471, 'streep': 4215, 'gifted': 1907, 'allen': 188, 'bergman': 466, 'passion': 3205, 'tommy': 4516, 'transformation': 4560, 'survival': 4320, 'tight': 4492, 'providing': 3451, 'farce': 1654, 'escaped': 1518, 'unrealistic': 4677, 'associated': 327, 'captures': 678, 'trite': 4589, 'draw': 1349, 'ancient': 225, 'greek': 1970, 'individuals': 2278, 'magazine': 2701, 'beach': 419, 'dick': 1239, 'nations': 2971, 'hammer': 2014, 'arguably': 289, 'gothic': 1945, 'elderly': 1440, 'nicholas': 3010, 'rachel': 3500, 'francis': 1818, 'lane': 2515, 'backdrop': 379, 'tarzan': 4367, 'derek': 1192, 'skip': 4016, 'vehicle': 4718, 'poster': 3353, 'mistakes': 2873, 'satire': 3788, 'musicals': 2948, 'frightening': 1839, 'daring': 1114, 'moody': 2899, 'bakshi': 386, 'lively': 2627, 'technique': 4383, 'tends': 4402, 'manage': 2722, 'satisfying': 3791, 'measure': 2786, 'checking': 778, 'sellers': 3872, 'helen': 2075, '1933': 12, 'depicted': 1183, 'honesty': 2148, 'craig': 1030, 'mature': 2773, 'global': 1920, 'orson': 3132, 'welles': 4844, 'denzel': 1181, 'starting': 4158, 'birth': 486, 'replaced': 3634, 'odds': 3082, 'logic': 2638, 'pit': 3278, 'killings': 2473, 'warm': 4794, 'engaged': 1480, '50s': 52, 'chaplin': 756, 'girlfriend': 1910, 'wilson': 4891, 'vaguely': 4706, 'wolf': 4920, 'wounded': 4961, 'presumably': 3380, 'wisdom': 4902, 'gruesome': 1986, 'turkey': 4604, 'heres': 2087, 'worker': 4942, 'lab': 2501, 'armed': 293, 'arrive': 300, 'trees': 4577, 'eastern': 1408, 'crimes': 1056, 'iraq': 2351, 'criminals': 1058, 'anyways': 262, 'prince': 3396, 'fever': 1699, 'ireland': 2352, 'theory': 4437, 'demand': 1174, 'slasher': 4020, 'wells': 4845, 'burns': 628, 'aspects': 322, 'golden': 1934, 'orange': 3125, 'interaction': 2322, 'manhattan': 2726, 'farm': 1656, 'felix': 1689, 'lemmon': 2567, 'jobs': 2406, 'nearby': 2980, 'marry': 2745, 'karen': 2444, 'aid': 160, 'seek': 3858, 'significant': 3972, 'admittedly': 123, 'rules': 3754, 'poetic': 3313, 'accepted': 82, 'interviews': 2330, 'territory': 4411, 'mini': 2854, 'distribution': 1298, 'sandler': 3781, 'dressing': 1359, 'christ': 807, 'ensues': 1493, 'recording': 3575, 'popularity': 3334, 'steel': 4173, 'gandhi': 1866, 'dealt': 1138, 'rebel': 3561, 'khan': 2459, 'virtually': 4751, 'innocence': 2293, 'bucks': 606, 'painful': 3171, 'highlights': 2104, 'scripts': 3836, 'ann': 244, 'serve': 3893, 'inspiration': 2300, 'poignant': 3315, 'francisco': 1819, 'buddy': 609, 'taught': 4370, 'alex': 179, 'donna': 1323, 'fears': 1677, 'mickey': 2831, 'repeat': 3630, 'inevitably': 2283, 'whoever': 4872, 'split': 4120, 'pitt': 3280, 'karloff': 2445, '40s': 49, 'invisible': 2344, 'stevens': 4183, 'discovery': 1282, 'landing': 2512, 'hunter': 2199, 'roots': 3738, 'morality': 2903, 'essence': 1521, 'cooper': 990, 'allows': 192, 'charismatic': 763, 'mario': 2738, 'lisa': 2616, '3d': 46, 'thru': 4483, 'hunt': 2198, 'nelson': 2997, 'attractive': 351, 'smiling': 4037, 'distinct': 1296, 'careful': 688, 'bugs': 613, 'damage': 1099, 'sink': 3999, 'faster': 1662, 'officers': 3093, 'destroying': 1215, 'holmes': 2139, 'professor': 3422, 'african': 142, 'smaller': 4034, 'household': 2179, 'opinions': 3119, 'committed': 905, 'bare': 398, 'justify': 2439, 'exposure': 1599, 'demands': 1175, 'hardy': 2037, 'native': 2972, 'eaten': 1412, 'robinson': 3716, 'nancy': 2964, 'fortune': 1806, 'ad': 110, 'provided': 3449, 'claimed': 829, 'tricks': 4583, 'confidence': 938, 'contract': 973, 'lit': 2621, 'whale': 4857, 'canadian': 667, 'draws': 1352, 'packed': 3166, 'incompetent': 2266, 'dubbed': 1379, 'ninja': 3018, 'stellar': 4174, 'traditional': 4550, 'adapted': 114, '2004': 34, 'outer': 3143, 'grandmother': 1955, 'plight': 3308, 'depression': 1189, 'slaughter': 4021, 'carol': 693, 'resident': 3647, 'marty': 2749, 'coach': 868, 'explosion': 1596, 'acid': 95, 'isolated': 2363, 'atmospheric': 334, 'explosions': 1597, 'scores': 3823, 'friday': 1834, '13th': 5, 'sequels': 3886, 'staring': 4152, 'porno': 3337, 'modesty': 2883, 'sixties': 4011, 'travesty': 4570, 'introduce': 2336, 'sticks': 4186, 'passing': 3204, 'disease': 1285, 'bear': 420, 'enter': 1494, 'bobby': 525, 'charisma': 762, 'cash': 709, 'dare': 1113, 'arrived': 301, 'imitation': 2241, 'buildings': 616, 'blunt': 520, 'thoughtful': 4463, 'stereotypes': 4179, 'contrast': 975, 'greed': 1968, 'relevant': 3604, 'thrillers': 4473, 'outcome': 3142, 'existent': 1572, 'hopeless': 2158, 'twilight': 4614, 'zone': 4999, 'watches': 4814, 'experiments': 1584, 'hung': 2197, 'dolls': 1316, 'brando': 566, 'brown': 601, 'double': 1331, 'cole': 873, 'sidekick': 3966, 'passionate': 3206, 'horrendous': 2162, '16': 8, 'cure': 1081, 'tear': 4379, 'instinct': 2308, 'disappoint': 1272, 'cliche': 843, 'paranoia': 3186, 'equivalent': 1512, '3000': 43, 'authentic': 358, 'square': 4136, 'indians': 2275, 'thirty': 4456, 'reduced': 3579, 'liberal': 2588, 'attitudes': 347, 'roberts': 3714, 'melting': 2799, 'stronger': 4230, 'initial': 2290, 'website': 4834, 'bargain': 400, 'lying': 2690, 'implausible': 2245, 'couldve': 1009, 'fashioned': 1660, 'molly': 2884, 'endearing': 1469, 'deaf': 1134, 'agreed': 156, 'grim': 1974, 'cinemas': 817, 'comfortable': 892, 'motivation': 2914, 'illogical': 2231, 'cave': 727, 'moon': 2900, 'latin': 2527, 'stiller': 4189, 'atlantis': 332, 'stargate': 4151, 'types': 4622, 'ear': 1397, 'screening': 3830, 'hugh': 2186, 'investigation': 2343, 'brazil': 568, 'ultra': 4629, 'specific': 4099, 'advance': 127, 'curiosity': 1082, 'ocean': 3079, 'rose': 3739, 'bird': 484, 'crisis': 1060, 'rights': 3697, 'documentaries': 1306, 'urban': 4688, 'angel': 231, 'southern': 4088, 'ruins': 3752, 'mummy': 2937, 'abuse': 74, 'definition': 1163, 'cheese': 780, 'distance': 1294, 'shorts': 3948, 'established': 1524, 'india': 2273, 'recorded': 3574, 'inventive': 2341, 'mildred': 2841, 'seed': 3856, 'chess': 783, 'championship': 745, 'idiotic': 2219, 'tremendous': 4579, 'blake': 498, 'matched': 2763, 'perry': 3237, 'futuristic': 1857, 'rangers': 3517, '1940s': 13, 'appreciation': 281, 'test': 4416, 'equipment': 1511, 'causes': 725, 'deadly': 1133, 'patients': 3212, 'happily': 2030, 'concert': 935, 'bacall': 377, 'losers': 2656, 'treasure': 4571, 'considerable': 950, 'heat': 2067, 'letter': 2581, 'formulaic': 1803, 'snl': 4044, 'mafia': 2700, 'forgettable': 1794, 'spielberg': 4110, 'dire': 1257, 'streisand': 4218, 'ego': 1435, 'solo': 4058, 'waves': 4819, 'honor': 2150, 'remarks': 3615, 'coherent': 871, 'reaction': 3541, 'horrific': 2166, 'smooth': 4041, 'relation': 3595, 'pushing': 3479, 'button': 639, 'combat': 882, 'staff': 4138, 'los': 2653, 'angeles': 233, 'accents': 79, 'chuck': 812, 'louise': 2666, 'ensemble': 1492, 'deliberately': 1166, 'warren': 4801, 'religious': 3608, 'suspects': 4328, '1990s': 25, 'niro': 3019, 'nomination': 3026, 'errors': 1516, 'exotic': 1574, 'luckily': 2682, 'noble': 3021, 'powell': 3358, 'grey': 1973, 'fooled': 1780, 'caliber': 649, 'raymond': 3534, 'coffee': 870, 'aforementioned': 139, 'workers': 4943, 'gangsters': 1869, 'firstly': 1737, 'unseen': 4678, 'colonel': 876, 'rocket': 3721, 'raised': 3508, 'resembles': 3646, 'endure': 1475, 'hunting': 2201, 'vincent': 4746, 'yellow': 4981, 'tap': 4364, 'manipulative': 2727, 'performing': 3233, 'hunters': 2200, 'amy': 222, 'assistant': 326, 'masterful': 2758, 'spread': 4133, 'menace': 2806, 'hop': 2154, 'throat': 4476, 'lou': 2663, 'send': 3875, 'hits': 2125, 'richardson': 3688, 'laurel': 2537, 'crack': 1027, 'report': 3635, 'strangely': 4212, 'wrapped': 4964, 'sexually': 3910, 'primary': 3394, 'preview': 3386, 'scream': 3826, 'suck': 4269, 'excessive': 1560, 'construction': 960, 'robbery': 3711, 'beings': 449, 'intrigued': 2334, 'conflicts': 940, 'inducing': 2279, 'repetitive': 3633, 'table': 4346, 'tonight': 4519, 'selfish': 3870, 'worried': 4949, 'everyday': 1541, 'reference': 3582, 'baker': 385, 'ballet': 389, 'veteran': 4724, 'newspaper': 3006, 'sally': 3776, 'andrew': 228, '20th': 38, 'enemies': 1476, 'blacks': 494, 'importantly': 2248, 'vice': 4727, 'cage': 645, 'bottle': 550, 'ups': 4686, 'travels': 4569, 'smoke': 4039, 'illegal': 2229, 'bay': 416, 'recognition': 3568, 'widely': 4881, 'satan': 3787, 'occasionally': 3075, 'irony': 2357, 'valuable': 4708, 'uwe': 4703, 'boll': 529, 'copies': 992, 'brave': 567, 'university': 4667, 'gabriel': 1859, 'wore': 4939, 'americas': 215, 'stooges': 4200, 'generations': 1884, 'curious': 1083, 'treats': 4575, 'restaurant': 3658, 'position': 3345, 'wouldve': 4959, 'delivering': 1171, 'plausible': 3295, 'con': 928, 'avoided': 364, 'loses': 2657, 'depicting': 1184, 'mayor': 2777, 'staged': 4140, 'blond': 510, 'jazz': 2387, 'unpleasant': 4674, 'jesse': 2397, 'canada': 666, 'der': 1191, 'annie': 247, 'harder': 2035, 'heroic': 2090, 'cared': 685, 'rage': 3505, 'unoriginal': 4673, 'incomprehensible': 2267, 'blah': 496, 'catches': 715, 'hideous': 2098, 'brains': 563, 'da': 1094, 'ruby': 3749, 'tracks': 4545, 'insulting': 2310, 'plant': 3293, 'ripped': 3701, 'trashy': 4566, 'capital': 673, 'storm': 4206, 'mall': 2720, 'phantom': 3251, 'represented': 3638, 'adequate': 120, 'doo': 1325, 'cabin': 643, 'narrator': 2967, 'promise': 3430, 'consistently': 954, 'maria': 2736, 'hardcore': 2034, 'mel': 2796, 'trained': 4557, 'bettie': 473, 'subsequent': 4257, 'segment': 3867, 'tracy': 4546, 'receives': 3565, 'edward': 1426, 'piano': 3264, 'unlikely': 4671, 'hed': 2072, 'remaining': 3610, 'authority': 360, 'hello': 2078, 'target': 4366, 'nude': 3058, 'possibilities': 3348, 'hood': 2151, 'prisoners': 3403, 'orders': 3127, 'giallo': 1904, 'clues': 865, 'alfred': 181, 'contained': 963, 'achieved': 93, 'hates': 2048, 'icon': 2211, 'wallace': 4782, 'pet': 3246, 'backgrounds': 381, 'bbc': 417, 'survived': 4322, 'wrestling': 4966, 'fury': 1855, 'pie': 3271, 'border': 539, 'cusack': 1088, 'enthusiasm': 1501, 'performs': 3234, 'judy': 2426, 'singers': 3994, 'homage': 2141, 'bullet': 620, 'chasing': 772, 'endings': 1472, 'enters': 1496, 'ha': 2002, 'symbolism': 4341, 'purposes': 3475, 'alexander': 180, 'species': 4098, 'colour': 880, 'superhero': 4299, 'macy': 2695, 'interpretation': 2328, 'demon': 1177, 'desert': 1198, 'spirited': 4114, 'frustration': 1843, 'grandfather': 1954, 'solution': 4059, 'sloppy': 4030, 'walker': 4778, 'duke': 1383, 'strip': 4228, 'forgot': 1796, 'improvement': 2256, 'secrets': 3852, 'sounding': 4083, 'advertising': 132, 'craft': 1028, 'cards': 683, 'agents': 151, 'ho': 2127, 'tall': 4362, 'menacing': 2807, 'dreadful': 1353, 'clip': 851, 'cardboard': 682, 'assault': 324, 'masses': 2755, 'cagney': 646, 'drop': 1369, 'hopper': 2161, 'sue': 4274, 'stole': 4194, 'seagal': 3839, 'command': 897, 'education': 1424, 'stereotype': 4178, 'edgar': 1417, 'hippie': 2115, 'subtitles': 4259, 'unintentional': 4658, 'sits': 4006, 'pleasant': 3302, 'prom': 3429, 'quit': 3494, 'godfather': 1927, 'contest': 967, 'beatty': 427, 'slick': 4026, 'cox': 1026, 'balls': 390, 'ken': 2453, 'pitch': 3279, 'splendid': 4119, 'mistress': 2874, 'elm': 1447, 'holly': 2136, 'lifestyle': 2593, 'beneath': 464, 'cringe': 1059, 'vacation': 4704, 'nights': 3016, 'artificial': 306, 'domino': 1319, 'defense': 1159, 'astaire': 330, 'rogers': 3725, 'corruption': 1002, 'hysterical': 2208, 'staying': 4168, 'ruth': 3763, 'tied': 4489, 'triumph': 4590, 'persons': 3244, 'editor': 1423, 'hart': 2041, 'marie': 2737, 'earl': 1398, 'vulnerable': 4768, 'dawson': 1128, 'host': 2173, 'unfolds': 4651, 'flynn': 1765, 'punishment': 3467, 'tiresome': 4502, 'scottish': 3825, 'hilariously': 2107, 'testament': 4417, 'ned': 2986, 'jon': 2416, 'voight': 4764, 'useful': 4694, 'underlying': 4641, 'poem': 3312, 'controversial': 978, 'charlotte': 766, 'thugs': 4484, 'reaching': 3539, 'photos': 3261, 'goodness': 1938, 'wave': 4818, 'via': 4726, 'landscapes': 2514, 'descent': 1193, 'challenging': 744, 'dynamic': 1394, 'describes': 1196, 'pink': 3277, 'lay': 2542, 'civilization': 827, 'wing': 4896, 'sunshine': 4294, 'medical': 2790, 'carpenter': 694, 'creator': 1043, 'faults': 1669, 'directions': 1262, 'abraham': 69, 'stayed': 4167, 'womens': 4924, 'existed': 1570, 'eager': 1396, 'homer': 2144, 'prequel': 3372, 'trail': 4553, 'fix': 1744, 'racial': 3501, 'franco': 1820, 'terrorists': 4414, 'surviving': 4323, 'obscure': 3068, 'bud': 607, 'despair': 1207, 'principal': 3398, 'pages': 3168, 'enormous': 1490, 'rubber': 3747, 'scooby': 3820, 'blatant': 502, 'uninspired': 4657, 'tooth': 4524, 'stupidity': 4248, 'loaded': 2632, 'museum': 2945, 'virgin': 4749, '1972': 18, '2006': 36, 'awfully': 373, 'educational': 1425, 'georges': 1894, 'access': 83, 'lloyd': 2630, 'rotten': 3740, 'blend': 504, 'stress': 4220, 'eyed': 1612, 'lately': 2524, 'trademark': 4548, 'cheek': 779, 'unintentionally': 4659, 'aids': 161, 'survivor': 4324, 'females': 1694, 'reel': 3581, 'stan': 4142, 'suits': 4287, 'blob': 507, 'glenn': 1918, 'chicks': 787, 'lena': 2568, 'victoria': 4732, 'ashley': 313, 'columbo': 881, 'polanski': 3321, 'teachers': 4376, 'cinderella': 815, 'wes': 4851, 'gundam': 1997, 'cube': 1076, 'omen': 3104, 'dentist': 1180, 'tomatoes': 4515}\n"
     ]
    }
   ],
   "source": [
    "print(str(vocabulary))"
   ]
  },
  {
   "cell_type": "markdown",
   "metadata": {},
   "source": [
    "Once you have added the endpoint name to the Lambda function, click on **Save**. Your Lambda function is now up and running. Next we need to create a way for our web app to execute the Lambda function."
   ]
  },
  {
   "cell_type": "markdown",
   "metadata": {},
   "source": [
    "### Setting up API Gateway\n",
    "\n",
    "Now that our Lambda function is set up, it is time to create a new API using API Gateway that will trigger the Lambda function we have just created.\n",
    "\n",
    "Using AWS Console, navigate to **Amazon API Gateway** and then click on **Get started**.\n",
    "\n",
    "On the next page, make sure that **New API** is selected and give the new api a name, for example, `sentiment_analysis_web_app`. Then, click on **Create API**.\n",
    "\n",
    "Now we have created an API, however it doesn't currently do anything. What we want it to do is to trigger the Lambda function that we created earlier.\n",
    "\n",
    "Select the **Actions** dropdown menu and click **Create Method**. A new blank method will be created, select its dropdown menu and select **POST**, then click on the check mark beside it.\n",
    "\n",
    "For the integration point, make sure that **Lambda Function** is selected and click on the **Use Lambda Proxy integration**. This option makes sure that the data that is sent to the API is then sent directly to the Lambda function with no processing. It also means that the return value must be a proper response object as it will also not be processed by API Gateway.\n",
    "\n",
    "Type the name of the Lambda function you created earlier into the **Lambda Function** text entry box and then click on **Save**. Click on **OK** in the pop-up box that then appears, giving permission to API Gateway to invoke the Lambda function you created.\n",
    "\n",
    "The last step in creating the API Gateway is to select the **Actions** dropdown and click on **Deploy API**. You will need to create a new Deployment stage and name it anything you like, for example `prod`.\n",
    "\n",
    "You have now successfully set up a public API to access your SageMaker model. Make sure to copy or write down the URL provided to invoke your newly created public API as this will be needed in the next step. This URL can be found at the top of the page, highlighted in blue next to the text **Invoke URL**."
   ]
  },
  {
   "cell_type": "markdown",
   "metadata": {},
   "source": [
    "## Step 7: Deploying our web app\n",
    "\n",
    "Now that we have a publicly available API, we can start using it in a web app. For our purposes, we have provided a simple static html file which can make use of the public api you created earlier.\n",
    "\n",
    "In the `website` folder there should be a file called `index.html`. Download the file to your computer and open that file up in a text editor of your choice. There should be a line which contains **\\*\\*REPLACE WITH PUBLIC API URL\\*\\***. Replace this string with the url that you wrote down in the last step and then save the file.\n",
    "\n",
    "Now, if you open `index.html` on your local computer, your browser will behave as a local web server and you can use the provided site to interact with your SageMaker model.\n",
    "\n",
    "If you'd like to go further, you can host this html file anywhere you'd like, for example using github or hosting a static site on Amazon's S3. Once you have done this you can share the link with anyone you'd like and have them play with it too!\n",
    "\n",
    "> **Important Note** In order for the web app to communicate with the SageMaker endpoint, the endpoint has to actually be deployed and running. This means that you are paying for it. Make sure that the endpoint is running when you want to use the web app but that you shut it down when you don't need it, otherwise you will end up with a surprisingly large AWS bill."
   ]
  },
  {
   "cell_type": "markdown",
   "metadata": {},
   "source": [
    "### Delete the endpoint\n",
    "\n",
    "Remember to always shut down your endpoint if you are no longer using it. You are charged for the length of time that the endpoint is running so if you forget and leave it on you could end up with an unexpectedly large bill."
   ]
  },
  {
   "cell_type": "code",
   "execution_count": null,
   "metadata": {},
   "outputs": [],
   "source": [
    "xgb_predictor.delete_endpoint() #记得要删，不然钱不够花"
   ]
  },
  {
   "cell_type": "markdown",
   "metadata": {},
   "source": [
    "## Optional: Clean up\n",
    "\n",
    "The default notebook instance on SageMaker doesn't have a lot of excess disk space available. As you continue to complete and execute notebooks you will eventually fill up this disk space, leading to errors which can be difficult to diagnose. Once you are completely finished using a notebook it is a good idea to remove the files that you created along the way. Of course, you can do this from the terminal or from the notebook hub if you would like. The cell below contains some commands to clean up the created files from within the notebook."
   ]
  },
  {
   "cell_type": "code",
   "execution_count": null,
   "metadata": {},
   "outputs": [],
   "source": [
    "# First we will remove all of the files contained in the data_dir directory\n",
    "!rm $data_dir/*\n",
    "\n",
    "# And then we delete the directory itself\n",
    "!rmdir $data_dir\n",
    "\n",
    "# Similarly we remove the files in the cache_dir directory and the directory itself\n",
    "!rm $cache_dir/*\n",
    "!rmdir $cache_dir"
   ]
  },
  {
   "cell_type": "code",
   "execution_count": null,
   "metadata": {},
   "outputs": [],
   "source": []
  }
 ],
 "metadata": {
  "kernelspec": {
   "display_name": "conda_python3",
   "language": "python",
   "name": "conda_python3"
  },
  "language_info": {
   "codemirror_mode": {
    "name": "ipython",
    "version": 3
   },
   "file_extension": ".py",
   "mimetype": "text/x-python",
   "name": "python",
   "nbconvert_exporter": "python",
   "pygments_lexer": "ipython3",
   "version": "3.6.5"
  }
 },
 "nbformat": 4,
 "nbformat_minor": 2
}
